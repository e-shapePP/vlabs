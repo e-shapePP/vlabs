{
 "cells": [
  {
   "cell_type": "markdown",
   "id": "99673f6f",
   "metadata": {},
   "source": [
    "# Access to Google Earth Engine (GEE) objects and methods "
   ]
  },
  {
   "cell_type": "code",
   "execution_count": 1,
   "id": "3ac421a0",
   "metadata": {},
   "outputs": [],
   "source": [
    "import ee"
   ]
  },
  {
   "cell_type": "code",
   "execution_count": null,
   "id": "06d2b8b7",
   "metadata": {},
   "outputs": [
    {
     "data": {
      "text/html": [
       "<p>To authorize access needed by Earth Engine, open the following\n",
       "        URL in a web browser and follow the instructions:</p>\n",
       "        <p><a href=https://accounts.google.com/o/oauth2/auth?client_id=517222506229-vsmmajv00ul0bs7p89v5m89qs8eb9359.apps.googleusercontent.com&scope=https%3A%2F%2Fwww.googleapis.com%2Fauth%2Fearthengine+https%3A%2F%2Fwww.googleapis.com%2Fauth%2Fdevstorage.full_control&redirect_uri=urn%3Aietf%3Awg%3Aoauth%3A2.0%3Aoob&response_type=code&code_challenge=gs5QumglVdkz7sJkHP1YhLKNgS3MdModSnKFPBaILYk&code_challenge_method=S256>https://accounts.google.com/o/oauth2/auth?client_id=517222506229-vsmmajv00ul0bs7p89v5m89qs8eb9359.apps.googleusercontent.com&scope=https%3A%2F%2Fwww.googleapis.com%2Fauth%2Fearthengine+https%3A%2F%2Fwww.googleapis.com%2Fauth%2Fdevstorage.full_control&redirect_uri=urn%3Aietf%3Awg%3Aoauth%3A2.0%3Aoob&response_type=code&code_challenge=gs5QumglVdkz7sJkHP1YhLKNgS3MdModSnKFPBaILYk&code_challenge_method=S256</a></p>\n",
       "        <p>The authorization workflow will generate a code, which you\n",
       "        should paste in the box below</p>\n",
       "        "
      ],
      "text/plain": [
       "<IPython.core.display.HTML object>"
      ]
     },
     "metadata": {},
     "output_type": "display_data"
    }
   ],
   "source": [
    "#For authentifications we require a Google Account registered in GEE (https://earthengine.google.com/)\n",
    "ee.Authenticate()"
   ]
  },
  {
   "cell_type": "code",
   "execution_count": null,
   "id": "12eb91ab",
   "metadata": {},
   "outputs": [],
   "source": [
    "ee.Initialize()"
   ]
  },
  {
   "cell_type": "markdown",
   "id": "af66e73b",
   "metadata": {},
   "source": [
    "# Define input data "
   ]
  },
  {
   "cell_type": "code",
   "execution_count": null,
   "id": "9f2d3fdb",
   "metadata": {},
   "outputs": [],
   "source": [
    "#Initial date of interest(inclusive)and final date of interest (exclusive)\n",
    "start = '2017-03-28'                                     #First S2 L2A image date\n",
    "#start = '2020-09-01'   \n",
    "end   = '2021-12-31'                                     #2017-05-12 starts frequency of 10 days\n",
    "                                                         #2017-12-18 starts frequency of 5 days\n",
    "time  = [start, end]"
   ]
  },
  {
   "cell_type": "code",
   "execution_count": null,
   "id": "64dda6d8",
   "metadata": {},
   "outputs": [],
   "source": [
    "#Region of interest(coordinates + buffer)     \n",
    "lon_lat         =  [-6.434, 36.998]         #Duque Fuente EC coordiantes\n",
    "projection_EPSG =  'EPSG:4326'              \n",
    "\n",
    "point = ee.Geometry.Point(lon_lat,projection_EPSG)\n",
    "type(point)"
   ]
  },
  {
   "cell_type": "code",
   "execution_count": null,
   "id": "8123a5e0",
   "metadata": {},
   "outputs": [],
   "source": [
    "#Region of interest(polygon)                \n",
    "geometry   = [[-6.440, 37.222],\n",
    "              [-6.440, 36.835],\n",
    "              [-5.878, 36.835],\n",
    "              [-5.878, 37.222]]\n",
    "\n",
    "region     = ee.Geometry.Polygon([geometry])\n",
    "type(region)"
   ]
  },
  {
   "cell_type": "code",
   "execution_count": null,
   "id": "87e26699",
   "metadata": {},
   "outputs": [],
   "source": [
    "#Region of interest(shape file) \n",
    "\n",
    "shapefile  = ee.FeatureCollection(\"users/mafmonjaraz/DNP_limits\")\n",
    "region_shp = shapefile.geometry()\n",
    "type(region_shp)"
   ]
  },
  {
   "cell_type": "code",
   "execution_count": null,
   "id": "34058662",
   "metadata": {},
   "outputs": [],
   "source": [
    "#Data set catalogs used in this code\n",
    "#data_info = ['id','longitude','latitude','time'] //Constant bands. Time measured in miliseconds since 1970\n",
    "COPERNICUS_S2_L2A = 'COPERNICUS/S2_SR'                   #Multi-spectral surface reflectances (https://developers.google.com/earth-engine/datasets/catalog/COPERNICUS_S2_SR)\n",
    "COPERNICUS_S2_bands = ['B1', 'B2', 'B3', 'B4', 'B5', 'B6', 'B7', 'B8', 'B8A', 'B9', 'B11', 'B12', 'AOT', 'WVP', 'SCL', 'TCI_R', 'TCI_G', 'TCI_B', 'QA10', 'QA20', 'QA60']\n",
    "MODIS_temp = 'MODIS/006/MOD11A1'                         #Land surface temperature (https://developers.google.com/earth-engine/datasets/catalog/MODIS_006_MOD11A1)\n",
    "MODIS_temp_bands  = ['LST_Day_1km','QC_Day','Day_view_time','Day_view_angle','LST_Night_1km','QC_Night','Night_view_time','Night_view_angle','Emis_31','Emis_32','Clear_day_cov','Clear_night_cov']\n",
    "USAID_prec = 'UCSB-CHG/CHIRPS/DAILY'                     #InfraRed Precipitation with Station dat (https://developers.google.com/earth-engine/datasets/catalog/UCSB-CHG_CHIRPS_DAILY)\n",
    "USAID_prec_bands  = ['precipitation']\n",
    "MODIS_GPP = 'MODIS/006/MOD17A2H'                         #Gross primary productivity(https://developers.google.com/earth-engine/datasets/catalog/MODIS_006_MOD17A2H)\n",
    "MODIS_GPP_bands = ['Gpp', 'PsnNet', 'Psn_QC']\n",
    "MODIS_NPP = 'MODIS/006/MOD17A3HGF'                       #Net primary productivity (https://developers.google.com/earth-engine/datasets/catalog/MODIS_006_MOD17A3HGF)\n",
    "MODIS_NPP_bands = ['Npp', 'Npp_QC']\n",
    "\n",
    "#image.bandNames() can be used to request bands of colections as well"
   ]
  },
  {
   "cell_type": "markdown",
   "id": "98ad63ca",
   "metadata": {},
   "source": [
    "# Load data sets of interes"
   ]
  },
  {
   "cell_type": "code",
   "execution_count": null,
   "id": "39f776f9",
   "metadata": {},
   "outputs": [],
   "source": [
    "#Function to load data set with specified period and location\n",
    "def load_catalog(catalog, time, location, bands):\n",
    "    dataset = ee.ImageCollection(catalog).filterDate(time[0],time[1]).filterBounds(location).select(bands)\n",
    "    return dataset"
   ]
  },
  {
   "cell_type": "code",
   "execution_count": null,
   "id": "cb093c92",
   "metadata": {},
   "outputs": [],
   "source": [
    "#Request of catalogues \n",
    "S2     = load_catalog(COPERNICUS_S2_L2A, time, point, COPERNICUS_S2_bands)\n",
    "temp   = load_catalog(MODIS_temp,        time, point, MODIS_temp_bands)\n",
    "prec   = load_catalog(USAID_prec,        time, point, USAID_prec_bands)\n",
    "gpp    = load_catalog(MODIS_GPP,         time, point, MODIS_GPP_bands)\n",
    "npp    = load_catalog(MODIS_NPP,         time, point,  MODIS_NPP_bands)"
   ]
  },
  {
   "cell_type": "markdown",
   "id": "dc857a9b",
   "metadata": {},
   "source": [
    "# Cloud coverage image filter"
   ]
  },
  {
   "cell_type": "code",
   "execution_count": null,
   "id": "238fd0d7",
   "metadata": {},
   "outputs": [],
   "source": [
    "cloud_coverage_metadata_name = 'CLOUDY_PIXEL_PERCENTAGE'           #Name of metadata property indicating cloud coverage in %\n",
    "max_cloud_coverage = 100                                          #Maximun cloud coverage allowed\n",
    "\n",
    "#Cloud coverage filter function (cf)\n",
    "def cloud_filter(collection, cloud_coverage_metadata_name, threshold = 100):\n",
    "    collection_cf = collection.filterMetadata(cloud_coverage_metadata_name,'less_than', threshold)\n",
    "    return collection_cf\n",
    "\n",
    "#Applying filter\n",
    "S2_cloud_filter = cloud_filter(S2, cloud_coverage_metadata_name, max_cloud_coverage)"
   ]
  },
  {
   "cell_type": "markdown",
   "id": "9e39dbcc",
   "metadata": {},
   "source": [
    "# Calculate Vegetation Indices"
   ]
  },
  {
   "cell_type": "code",
   "execution_count": null,
   "id": "ec7d1715",
   "metadata": {},
   "outputs": [],
   "source": [
    "#Defining dictionary of bands \n",
    "\n",
    "dict_bands = {\n",
    "    \"blue\"  :  'B2',                              #Blue band                        \n",
    "    \"green\" :  'B3',                              #Green band\n",
    "    \"red\"   :  'B4',                              #Red band\n",
    "    \"red2\"  :  'B6',                              #Red-edge spectral band\n",
    "    \"NIR\"   :  'B8',                              #Near-infrared band\n",
    "    \"SWIR1\" :  'B11',                             #Short wave infrared 1\n",
    "    \"SWIR2\" :  'B12',                             #Short wave infrared 2\n",
    "}"
   ]
  },
  {
   "cell_type": "code",
   "execution_count": null,
   "id": "e205e24a",
   "metadata": {},
   "outputs": [],
   "source": [
    "def calculateVI(image):\n",
    "    '''This method calculates different vegetation indices in a image collection and adds their values as new bands'''\n",
    "\n",
    "    #Specify bands \n",
    "    dict  = dict_bands\n",
    "    blue  = dict[\"blue\"]                          #Blue band                        \n",
    "    green = dict[\"green\"]                         #Green band\n",
    "    red   = dict[\"red\"]                           #Red band\n",
    "    red2  = dict[\"red2\"]                          #Red-edge spectral band\n",
    "    NIR   = dict[\"NIR\"]                           #Near-infrared band\n",
    "    SWIR1 = dict[\"SWIR1\"]                         #Short wave infrared 1\n",
    "    SWIR2 = dict[\"SWIR2\"]                         #Short wave infrared 2\n",
    "    \n",
    "    bands_for_expressions = {\n",
    "        'blue'  : image.select(blue).divide(10000),\n",
    "        'green' : image.select(green).divide(10000), \n",
    "        'red'   : image.select(red).divide(10000),\n",
    "        'red2'  : image.select(red2).divide(10000), \n",
    "        'NIR'   : image.select(NIR).divide(10000),\n",
    "        'red'   : image.select(red).divide(10000), \n",
    "        'SWIR1' : image.select(SWIR1).divide(10000),\n",
    "        'SWIR2' : image.select(SWIR2).divide(10000)}\n",
    "    \n",
    "    #NDVI                                                                            (Rouse et al., 1974)\n",
    "    ndvi  = image.normalizedDifference([NIR, red]).rename(\"ndvi\") \n",
    "    #GNDVI                                                                           (Add reference)\n",
    "    gndvi = image.normalizedDifference([NIR, green]).rename(\"gndvi\")\n",
    "    #NDWI                                                                            (Add reference)\n",
    "    ndwi  = image.normalizedDifference([NIR, SWIR2]).rename(\"ndwi\")\n",
    "    #EVI                                                                             (Add reference)\n",
    "    evi   = image.expression('2.5*(( NIR - red ) / ( NIR + 6 * red - 7.5 * blue +1 ))', bands_for_expressions).rename(\"evi\")\n",
    "    #EVI2                                                                            (Jiang et al., 2008)\n",
    "    evi2  = image.expression('2.5*(( NIR - red ) / ( NIR + 2.4 * red+1 ))', \n",
    "            bands_for_expressions).rename(\"evi2\");\n",
    "    \n",
    "    #Other indeces sensitive to above ground biomas/carbon \n",
    "    #(https://webapps.itc.utwente.nl/librarywww/papers_2017/msc/nrm/adan.pdf)\n",
    "    \n",
    "    #RENDVI                                                                          (Chen et al. 2007)\n",
    "    rendvi = image.normalizedDifference([NIR, red2]).rename(\"rendvi\")\n",
    "    #NDII                                                                            (Hunt & Qu, 2013)\n",
    "    ndii   = image.normalizedDifference([NIR, SWIR1]).rename(\"ndii\")\n",
    "    #RERVI                                                                           (Cao et al., 2016)\n",
    "    rervi  = image.expression('NIR / red2', bands_for_expressions).rename(\"rervi\");\n",
    "    #RE-EVI2                                                                         (Abdel-rahman et al., 2017)\n",
    "    revi2  = image.expression('2.5*(( NIR - red2 ) / ( NIR + 2.4 * red2 +1 ))', bands_for_expressions).rename(\"revi2\");\n",
    "    \n",
    "    image1 = image.addBands(ndvi).addBands(gndvi).addBands(ndwi)\n",
    "    image2 = image1.addBands(evi).addBands(evi2).addBands(rendvi)\n",
    "    image3 = image2.addBands(ndii).addBands(rervi).addBands(revi2)\n",
    "    \n",
    "    return image3"
   ]
  },
  {
   "cell_type": "code",
   "execution_count": null,
   "id": "71ea454d",
   "metadata": {},
   "outputs": [],
   "source": [
    "#Calculation of vegetation indices for the collection\n",
    "S2_VI = S2_cloud_filter.map(calculateVI)"
   ]
  },
  {
   "cell_type": "markdown",
   "id": "a6c03b2e",
   "metadata": {},
   "source": [
    "# Cut images to the Country Limits"
   ]
  },
  {
   "cell_type": "code",
   "execution_count": null,
   "id": "de07c350",
   "metadata": {},
   "outputs": [],
   "source": [
    "country = 'Spain'\n",
    "#countries_shp = ee.FeatureCollection('FAO/GAUL/2015/level0').select('ADM0_NAME')\n",
    "#country_shp = countries_shp.filter(ee.Filter.eq('ADM0_NAME', country))\n",
    "#clip = country_shp"
   ]
  },
  {
   "cell_type": "code",
   "execution_count": null,
   "id": "54da54cc",
   "metadata": {},
   "outputs": [],
   "source": [
    "def clipToCountry(image,country):\n",
    "    countries_shp = ee.FeatureCollection('FAO/GAUL/2015/level0').select('ADM0_NAME')\n",
    "    country_shp = countries_shp.filter(ee.Filter.eq('ADM0_NAME', country))\n",
    "    clip = country_shp\n",
    "    \n",
    "    def clipToShp(image_fun):\n",
    "        clipped = image_fun.clip(clip)\n",
    "        return clipped\n",
    "    \n",
    "    country_clip = image.map(clipToShp)\n",
    "    return country_clip"
   ]
  },
  {
   "cell_type": "code",
   "execution_count": null,
   "id": "2f91c54f",
   "metadata": {},
   "outputs": [],
   "source": [
    "S2_VI_clip_country = clipToCountry(S2_VI,country)"
   ]
  },
  {
   "cell_type": "markdown",
   "id": "132e712f",
   "metadata": {},
   "source": [
    "# Cut images to the National Park Limits "
   ]
  },
  {
   "cell_type": "code",
   "execution_count": null,
   "id": "d9007203",
   "metadata": {},
   "outputs": [],
   "source": [
    "clip = region_shp"
   ]
  },
  {
   "cell_type": "code",
   "execution_count": null,
   "id": "d8130518",
   "metadata": {},
   "outputs": [],
   "source": [
    "def clipToRegion(image,region):\n",
    "    clip = region\n",
    "    def clipToShp(image_fun):\n",
    "        clipped = image_fun.clip(clip)\n",
    "        return clipped\n",
    "    region_clip = image.map(clipToShp)\n",
    "    return region_clip"
   ]
  },
  {
   "cell_type": "code",
   "execution_count": null,
   "id": "ff8142c2",
   "metadata": {},
   "outputs": [],
   "source": [
    "S2_VI_clip = clipToRegion(S2_VI_clip_country,clip)\n",
    "temp_clip  = clipToRegion(temp,clip)\n",
    "prec_clip  = clipToRegion(prec,clip)"
   ]
  },
  {
   "cell_type": "markdown",
   "id": "afcbdafb",
   "metadata": {},
   "source": [
    "# Display maps"
   ]
  },
  {
   "cell_type": "code",
   "execution_count": null,
   "id": "49203389",
   "metadata": {},
   "outputs": [],
   "source": [
    "import folium"
   ]
  },
  {
   "cell_type": "code",
   "execution_count": null,
   "id": "cf7773ab",
   "metadata": {},
   "outputs": [],
   "source": [
    "#Select images\n",
    "ima_NDVI = S2_VI_clip.select('ndvi').mean()                                     #Maximun NDVI in the perido \"time\" \n",
    "ima_Temp = temp_clip .select('LST_Day_1km').mean().multiply(0.02).add(-273.15) #Mean temperature in the period \"time\"\n",
    "ima_Prec = prec_clip.select('precipitation').mean()                            #Mean precipitation in the period \"time\"\n",
    "\n",
    "#Set visualization parameters \n",
    "visNDVI = {\"min\":0, \"max\":0.75 ,\"palette\":[\"ff4545\",\"fbffbe\",\"a7ff7a\",\"009356\",\"1f1e6e\"]}\n",
    "visTemp = {'min': 0, 'max': 40,'palette': ['white', 'blue', 'green', 'yellow', 'orange', 'red']}\n",
    "visPrec = {'min': 0, 'max': 30,'palette': ['white', 'blue', 'gray', 'purple']}\n",
    "\n",
    "\n",
    "# Arrange layers inside a list \n",
    "ee_tiles = [ima_Prec, ima_Temp, ima_NDVI]\n",
    "\n",
    "# Arrange visualization parameters inside a list.\n",
    "ee_vis_params = [visPrec, visTemp, visNDVI]\n",
    "\n",
    "# Arrange layer names inside a list.\n",
    "ee_tiles_names = ['Precipitation','Land Surface Temperature','NDVI',]"
   ]
  },
  {
   "cell_type": "code",
   "execution_count": null,
   "id": "f313f656",
   "metadata": {},
   "outputs": [],
   "source": [
    "#Function to add layers to the map\n",
    "def add_ee_layer(self, ee_image_object, vis_params, name):\n",
    "    \"\"\"Adds a method for displaying Earth Engine image tiles to folium map.\"\"\"\n",
    "    map_id_dict = ee.Image(ee_image_object).getMapId(vis_params)\n",
    "    folium.raster_layers.TileLayer(\n",
    "        tiles=map_id_dict['tile_fetcher'].url_format,\n",
    "        attr='Map Data &copy; <a href=\"https://earthengine.google.com/\">Google Earth Engine</a>',\n",
    "        name=name,\n",
    "        overlay=True,\n",
    "        control=True\n",
    "    ).add_to(self)\n",
    "\n",
    "# Add Earth Engine drawing method to folium.\n",
    "folium.Map.add_ee_layer = add_ee_layer"
   ]
  },
  {
   "cell_type": "code",
   "execution_count": null,
   "id": "8ded80cd",
   "metadata": {
    "scrolled": true
   },
   "outputs": [],
   "source": [
    "# Create a  map.\n",
    "map_variables = folium.Map(location= [lon_lat[1], lon_lat[0]], zoom_start=12)\n",
    "\n",
    "# Add layers to the map using a loop.\n",
    "for tile, vis_param, name in zip(ee_tiles, ee_vis_params, ee_tiles_names):\n",
    "    map_variables.add_ee_layer(tile, vis_param, name)\n",
    "\n",
    "folium.LayerControl(collapsed = False).add_to(map_variables)\n",
    "\n",
    "# Display the map.\n",
    "display(map_variables)"
   ]
  },
  {
   "cell_type": "markdown",
   "id": "5f64b9b3",
   "metadata": {},
   "source": [
    "# Save map in html format"
   ]
  },
  {
   "cell_type": "code",
   "execution_count": null,
   "id": "8b0850f3",
   "metadata": {},
   "outputs": [],
   "source": [
    "#Save map in html\n",
    "map_variables.save('DNP_ndvi_max.html')"
   ]
  }
 ],
 "metadata": {
  "kernelspec": {
   "display_name": "Python 3",
   "language": "python",
   "name": "python3"
  },
  "language_info": {
   "codemirror_mode": {
    "name": "ipython",
    "version": 3
   },
   "file_extension": ".py",
   "mimetype": "text/x-python",
   "name": "python",
   "nbconvert_exporter": "python",
   "pygments_lexer": "ipython3",
   "version": "3.6.13"
  },
  "toc": {
   "base_numbering": 1,
   "nav_menu": {},
   "number_sections": true,
   "sideBar": true,
   "skip_h1_title": false,
   "title_cell": "Table of Contents",
   "title_sidebar": "Contents",
   "toc_cell": false,
   "toc_position": {},
   "toc_section_display": true,
   "toc_window_display": false
  }
 },
 "nbformat": 4,
 "nbformat_minor": 5
}
