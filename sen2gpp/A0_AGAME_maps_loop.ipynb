{
 "cells": [
  {
   "cell_type": "markdown",
   "metadata": {},
   "source": [
    "## AGAME Workflow"
   ]
  },
  {
   "cell_type": "code",
   "execution_count": 10,
   "metadata": {},
   "outputs": [
    {
     "data": {
      "text/html": [
       "\n",
       "            <style>\n",
       "                .geemap-dark {\n",
       "                    --jp-widgets-color: white;\n",
       "                    --jp-widgets-label-color: white;\n",
       "                    --jp-ui-font-color1: white;\n",
       "                    --jp-layout-color2: #454545;\n",
       "                    background-color: #383838;\n",
       "                }\n",
       "\n",
       "                .geemap-dark .jupyter-button {\n",
       "                    --jp-layout-color3: #383838;\n",
       "                }\n",
       "\n",
       "                .geemap-colab {\n",
       "                    background-color: var(--colab-primary-surface-color, white);\n",
       "                }\n",
       "\n",
       "                .geemap-colab .jupyter-button {\n",
       "                    --jp-layout-color3: var(--colab-primary-surface-color, white);\n",
       "                }\n",
       "            </style>\n",
       "            "
      ],
      "text/plain": [
       "<IPython.core.display.HTML object>"
      ]
     },
     "metadata": {},
     "output_type": "display_data"
    },
    {
     "data": {
      "text/plain": [
       "'\\nThis code includes all the steps needed to compute GPP maps with AGAME methodology:\\nThe methodology includes the following steps:\\n\\n1)Get icos tables (15 sites)\\n2)Get Sentinel-2 tables (15 sites)\\n3)Get ecosystem boundaries (15 sites)\\n4)Combine tables\\n5)Train XGBoost model\\n6)Evaluate XGBoost model\\n7)Create GPP maps (15 sites)\\n8)Creata uncertainty maps\\n'"
      ]
     },
     "execution_count": 10,
     "metadata": {},
     "output_type": "execute_result"
    }
   ],
   "source": [
    "'''\n",
    "This code includes all the steps needed to compute GPP maps with AGAME methodology:\n",
    "The methodology includes the following steps:\n",
    "\n",
    "1)Get icos tables (15 sites)\n",
    "2)Get Sentinel-2 tables (15 sites)\n",
    "3)Get ecosystem boundaries (15 sites)\n",
    "4)Combine tables\n",
    "5)Train XGBoost model\n",
    "6)Evaluate XGBoost model\n",
    "7)Create GPP maps (15 sites)\n",
    "8)Creata uncertainty maps\n",
    "'''"
   ]
  },
  {
   "cell_type": "code",
   "execution_count": 11,
   "metadata": {},
   "outputs": [
    {
     "data": {
      "text/html": [
       "\n",
       "            <style>\n",
       "                .geemap-dark {\n",
       "                    --jp-widgets-color: white;\n",
       "                    --jp-widgets-label-color: white;\n",
       "                    --jp-ui-font-color1: white;\n",
       "                    --jp-layout-color2: #454545;\n",
       "                    background-color: #383838;\n",
       "                }\n",
       "\n",
       "                .geemap-dark .jupyter-button {\n",
       "                    --jp-layout-color3: #383838;\n",
       "                }\n",
       "\n",
       "                .geemap-colab {\n",
       "                    background-color: var(--colab-primary-surface-color, white);\n",
       "                }\n",
       "\n",
       "                .geemap-colab .jupyter-button {\n",
       "                    --jp-layout-color3: var(--colab-primary-surface-color, white);\n",
       "                }\n",
       "            </style>\n",
       "            "
      ],
      "text/plain": [
       "<IPython.core.display.HTML object>"
      ]
     },
     "metadata": {},
     "output_type": "display_data"
    }
   ],
   "source": [
    "import deims\n",
    "import pandas as pd\n",
    "import geopandas as gpd\n",
    "import folium\n",
    "import ee\n",
    "import xarray\n",
    "import geemap\n",
    "import rioxarray\n",
    "from pyproj import CRS\n",
    "from xgboost import XGBRegressor\n",
    "import os"
   ]
  },
  {
   "cell_type": "code",
   "execution_count": 12,
   "metadata": {},
   "outputs": [
    {
     "data": {
      "text/html": [
       "\n",
       "            <style>\n",
       "                .geemap-dark {\n",
       "                    --jp-widgets-color: white;\n",
       "                    --jp-widgets-label-color: white;\n",
       "                    --jp-ui-font-color1: white;\n",
       "                    --jp-layout-color2: #454545;\n",
       "                    background-color: #383838;\n",
       "                }\n",
       "\n",
       "                .geemap-dark .jupyter-button {\n",
       "                    --jp-layout-color3: #383838;\n",
       "                }\n",
       "\n",
       "                .geemap-colab {\n",
       "                    background-color: var(--colab-primary-surface-color, white);\n",
       "                }\n",
       "\n",
       "                .geemap-colab .jupyter-button {\n",
       "                    --jp-layout-color3: var(--colab-primary-surface-color, white);\n",
       "                }\n",
       "            </style>\n",
       "            "
      ],
      "text/plain": [
       "<IPython.core.display.HTML object>"
      ]
     },
     "metadata": {},
     "output_type": "display_data"
    }
   ],
   "source": [
    "def get_coordinates_area(site_list, site):\n",
    "    df = pd.read_excel(site_list)\n",
    "    site_url = df['deims'].loc[df['station id'] == site].values[0]\n",
    "    if pd.isna(site_url):\n",
    "        raise ValueError(\"The site DEIMS url is empty. Please provide a valid site URL.\")\n",
    "    else:\n",
    "        boundaries   = deims.getSiteBoundaries([site_url])\n",
    "        information = deims.getSiteById(site_id=site_url)\n",
    "    return df, boundaries, information\n",
    "\n",
    "def map_coordinates_area(df, boundaries, site):\n",
    "    gdf = gpd.GeoDataFrame(\n",
    "        df,\n",
    "        geometry=gpd.points_from_xy(df.longitude, df.latitude),\n",
    "        crs=\"EPSG:3857\"\n",
    "    )\n",
    "    gdf = gdf.loc[gdf['station id'] == site]\n",
    "    centroid = gdf.geometry.centroid.union_all()\n",
    "    m = folium.Map(location=[centroid.y, centroid.x], zoom_start=12)\n",
    "    for idx, row in gdf.iterrows():\n",
    "        folium.Marker(\n",
    "            location=[row.geometry.y, row.geometry.x],\n",
    "            popup=row['site name']\n",
    "        ).add_to(m)\n",
    "\n",
    "    folium.GeoJson(boundaries).add_to(m)\n",
    "\n",
    "    return m\n",
    "\n",
    "def get_gee_area(boundaries):\n",
    "    total_bounds = boundaries.total_bounds\n",
    "    aoi = ee.Geometry.Rectangle([total_bounds[0], total_bounds[1], total_bounds[2], total_bounds[3]])\n",
    "    # Initialize the geemap Map\n",
    "    Map = geemap.Map()\n",
    "\n",
    "    # Add the rectangle to the map\n",
    "    Map.addLayer(aoi, {}, 'Bounding Box')\n",
    "\n",
    "    # Center the map around the bounding box\n",
    "    Map.centerObject(aoi, 10)\n",
    "\n",
    "    return Map, aoi\n",
    "\n",
    "def apply_scale_factors_s2(image):\n",
    "    optical_bands = image.select(['B.']).divide(10000)\n",
    "    thermal_bands = image.select(['B.*']).divide(10000)\n",
    "    return image.addBands(optical_bands, None, True).addBands(thermal_bands, None, True)\n",
    "\n",
    "def apply_scale_factors_e5(image):\n",
    "    image = image.divide(24*60*60)\n",
    "    return image\n",
    "\n",
    "# function to derive VIs\n",
    "def calculateVI(image):\n",
    "    '''This method calculates different vegetation indices in a image collection and adds their values as new bands'''\n",
    "\n",
    "    # defining dictionary of bands Sentinel-2 \n",
    "    dict_bands = {\n",
    "\n",
    "        \"blue\"  :  'B2',                              #Blue band                        \n",
    "        \"green\" :  'B3',                              #Green band\n",
    "        \"red\"   :  'B4',                              #Red band\n",
    "        \"red1\"  :  'B5',                              #Red-edge spectral band   \n",
    "        \"red2\"  :  'B6',                              #Red-edge spectral band\n",
    "        \"red3\"  :  'B7',                              #Red-edge spectral band    \n",
    "        \"NIR\"   :  'B8',                              #Near-infrared band\n",
    "        \"NIRn\"  :  'B8A',                             #Near-infrared narrow\n",
    "        \"WV\"    :  'B9',                              #Water vapour\n",
    "        \"SWIR1\" :  'B11',                             #Short wave infrared 1\n",
    "        \"SWIR2\" :  'B12',                             #Short wave infrared 2\n",
    "    }\n",
    "\n",
    "    # specify bands \n",
    "    dict  = dict_bands\n",
    "    blue  = dict[\"blue\"]                              #Blue band                        \n",
    "    green = dict[\"green\"]                             #Green band\n",
    "    red   = dict[\"red\"]                               #Red band\n",
    "    red1  = dict[\"red1\"]                              #Red-edge spectral band    \n",
    "    red2  = dict[\"red2\"]                              #Red-edge spectral band\n",
    "    red3  = dict[\"red3\"]                              #Red-edge spectral band\n",
    "    NIR   = dict[\"NIR\"]                               #Near-infrared band\n",
    "    NIRn  = dict[\"NIRn\"]                              #Near-infrared band\n",
    "    WV    = dict[\"WV\"]                                #Water vapour\n",
    "    SWIR1 = dict[\"SWIR1\"]                             #Short wave infrared 1\n",
    "    SWIR2 = dict[\"SWIR2\"]                             #Short wave infrared 2\n",
    "\n",
    "    bands_for_expressions = {\n",
    "\n",
    "        'blue'  : image.select(blue).divide(10000),\n",
    "        'green' : image.select(green).divide(10000), \n",
    "        'red'   : image.select(red).divide(10000),\n",
    "        'red1'  : image.select(red1).divide(10000), \n",
    "        'red2'  : image.select(red2).divide(10000),\n",
    "        'red3'  : image.select(red3).divide(10000), \n",
    "        'NIR'   : image.select(NIR).divide(10000),\n",
    "        'NIRn'  : image.select(NIRn).divide(10000),\n",
    "        'WV'    : image.select(WV).divide(10000),\n",
    "        'SWIR1' : image.select(SWIR1).divide(10000),\n",
    "        'SWIR2' : image.select(SWIR2).divide(10000)}\n",
    "\n",
    "    # greeness related indices\n",
    "    # NDVI                                                                             (Rouse et al., 1974)\n",
    "    NDVI  = image.normalizedDifference([NIR, red]).rename(\"NDVI\") \n",
    "    # EVI                                                                             \n",
    "    EVI   = image.expression('2.5*(( NIR - red ) / ( NIR + 6 * red - 7.5 * blue + 1 ))', \n",
    "            bands_for_expressions).rename(\"EVI\")\n",
    "    # EVI2                                                                             (Jiang et al., 2008)\n",
    "    EVI2  = image.expression('2.5*(( NIR - red ) / ( NIR + 2.4 * red + 1 ))', \n",
    "            bands_for_expressions).rename(\"EVI2\")\n",
    "\n",
    "    # greeness related indices with Sentinel-2 narrow bands / Red-edge\n",
    "    # Clr\n",
    "    CLr  = image.expression('(red3/red1)-1', bands_for_expressions).rename(\"CLr\")\n",
    "    # Clg\n",
    "    Clg  = image.expression('(red3/green)-1', bands_for_expressions).rename(\"CLg\")\n",
    "    # MTCI\n",
    "    MTCI = image.expression('(red2-red1)/(red1-red)', bands_for_expressions).rename(\"MTCI\")\n",
    "    # MNDVI                                                                            (Add reference)\n",
    "    MNDVI = image.normalizedDifference([red3, red1]).rename(\"MNDVI\")    \n",
    "\n",
    "    # water related indices\n",
    "    # MNDWI                                                                            (Add reference)\n",
    "    MNDWI = image.normalizedDifference([green, SWIR1]).rename(\"MNDWI\")    \n",
    "    # NDWI OR LSWI or NDII or NDMI                                                     (Add reference)\n",
    "    LSWI  = image.normalizedDifference([NIR, SWIR1]).rename(\"LSWI\")\n",
    "    # NDII                                                                             (Hunt & Qu, 2013)\n",
    "    NDII   = image.normalizedDifference([NIR, SWIR2]).rename(\"NDII\")\n",
    "\n",
    "    image = image.addBands(NDVI).addBands(EVI).addBands(EVI2)\n",
    "    image = image.addBands(CLr).addBands(Clg).addBands(MTCI).addBands(MNDVI)\n",
    "    image = image.addBands(MNDWI).addBands(LSWI).addBands(NDII)\n",
    "\n",
    "    return image \n",
    "\n",
    "def get_s2_array(period,aoi,sentinel_bands,cloud_percentage=100,resolution=100):\n",
    "    ic = ee.ImageCollection('COPERNICUS/S2_SR_HARMONIZED').filterDate(period[0],period[1])\n",
    "    ic = ic.filter(ee.Filter.lt('CLOUDY_PIXEL_PERCENTAGE',cloud_percentage))\n",
    "    ic = ic.filterBounds(aoi) \n",
    "    ic = ic.map(apply_scale_factors_s2)\n",
    "    ic = ic.map(calculateVI)\n",
    "    ic = ic.select(sentinel_bands)\n",
    "    ic_sample = ic.getRegion(aoi, resolution).getInfo()\n",
    "    return ic_sample, ic\n",
    "\n",
    "def get_s2_df(s2_array):\n",
    "    df = pd.DataFrame(s2_array[1:], columns=s2_array[0])\n",
    "    df = df.iloc[:,1:]\n",
    "    df['time'] = pd.to_datetime(df['time'], unit='ms').dt.date\n",
    "    df['time'] = pd.to_datetime(df['time'])\n",
    "    df.set_index(['time','latitude','longitude'], inplace=True)\n",
    "    return df\n",
    "\n",
    "def get_e5_array(period,aoi,e5_bands,resolution=100):\n",
    "    e5 = ee.ImageCollection('ECMWF/ERA5_LAND/DAILY_AGGR').filterDate(period[0],period[1])\n",
    "    e5 = e5.filterBounds(aoi).select(e5_bands)\n",
    "    e5 = e5.map(apply_scale_factors_e5)\n",
    "    e5_sample = e5.getRegion(aoi, resolution).getInfo()\n",
    "    return e5_sample, e5\n",
    "\n",
    "def get_e5_df(e5_array):\n",
    "    dfe5 = pd.DataFrame(e5_array[1:], columns=e5_array[0])\n",
    "    dfe5['time'] = pd.to_datetime(dfe5['id'], format='%Y%m%d')\n",
    "    dfe5 = dfe5.iloc[:,1:]\n",
    "    dfe5.set_index(['time','latitude','longitude'], inplace=True)\n",
    "    dfe5.rename(columns={'surface_net_solar_radiation_sum':'SW_IN_ERA_GEE'}, inplace=True)\n",
    "    return dfe5\n",
    "\n",
    "def merge_s2_e5(s2_df, e5_df):\n",
    "    df1 = s2_df.reset_index()\n",
    "    df2 = e5_df.reset_index()\n",
    "    df_merged = df1.merge(df2, on=['time', 'latitude', 'longitude'], how='left')\n",
    "\n",
    "    df_merged = df_merged.dropna()\n",
    "    df_merged.set_index(['time','latitude','longitude'], inplace=True)\n",
    "    return df_merged\n",
    "\n",
    "def map_collection(ic, band, label):\n",
    "    # Define visualization parameters\n",
    "    vis_params = {\n",
    "        'min': 0,\n",
    "        'max': 0.1,\n",
    "        'palette': ['blue', 'white', 'green']\n",
    "    }\n",
    "\n",
    "    # Create a map\n",
    "    Map = geemap.Map()\n",
    "\n",
    "    # Center the map on the area of interest\n",
    "    Map.centerObject(aoi, 12)\n",
    "\n",
    "    # Add the mean NDVI layer to the map\n",
    "    Map.addLayer(ic.select(band).first().clip(aoi), vis_params, label)\n",
    "\n",
    "    # Display the map\n",
    "    return Map\n",
    "\n",
    "def get_environmental_data(directory_data, filename,sentinel_vi,sentinel_bands, general):\n",
    "    data = pd.read_csv(os.path.join(directory_data, filename), index_col='TIMESTAMP', parse_dates=['TIMESTAMP'])\n",
    "\n",
    "    s2_all = data.columns.values.tolist()\n",
    "    s2_all = sorted([item for item in s2_all if not (item.endswith('_residual') or \n",
    "                                                    item.endswith('_trend') or \n",
    "                                                    item.endswith('_season'))])\n",
    "\n",
    "    s2_all = sorted([item for item in s2_all if not (item.startswith('CO2') or \n",
    "                                                    item.startswith('H_') or \n",
    "                                                    item.startswith('LE_'))])\n",
    "\n",
    "    s2_all = [item for item in s2_all if item not in sentinel_vi]\n",
    "    s2_all = [item for item in s2_all if item not in sentinel_bands]\n",
    "    s2_all = [item for item in s2_all if item not in general]\n",
    "\n",
    "    selected_columns = s2_all \n",
    "    data = data[selected_columns]\n",
    "    return data"
   ]
  },
  {
   "cell_type": "code",
   "execution_count": 14,
   "metadata": {},
   "outputs": [
    {
     "data": {
      "text/html": [
       "\n",
       "            <style>\n",
       "                .geemap-dark {\n",
       "                    --jp-widgets-color: white;\n",
       "                    --jp-widgets-label-color: white;\n",
       "                    --jp-ui-font-color1: white;\n",
       "                    --jp-layout-color2: #454545;\n",
       "                    background-color: #383838;\n",
       "                }\n",
       "\n",
       "                .geemap-dark .jupyter-button {\n",
       "                    --jp-layout-color3: #383838;\n",
       "                }\n",
       "\n",
       "                .geemap-colab {\n",
       "                    background-color: var(--colab-primary-surface-color, white);\n",
       "                }\n",
       "\n",
       "                .geemap-colab .jupyter-button {\n",
       "                    --jp-layout-color3: var(--colab-primary-surface-color, white);\n",
       "                }\n",
       "            </style>\n",
       "            "
      ],
      "text/plain": [
       "<IPython.core.display.HTML object>"
      ]
     },
     "metadata": {},
     "output_type": "display_data"
    }
   ],
   "source": [
    "ee.Initialize(opt_url='https://earthengine-highvolume.googleapis.com')\n",
    "model_file = r\"D:\\Proyectos2024\\Agame\\Repository\\vlabs\\sen2gpp\\Output\\Model\\xgboost_model_all_nogeneral.json\"\n",
    "site_list = r'D:\\Proyectos2024\\Agame\\Repository\\vlabs\\sen2gpp\\Input\\list_sites_icos.xlsx'\n",
    "netcdf_output_gpp = r'D:\\Proyectos2024\\Agame\\Repository\\vlabs\\sen2gpp\\Output\\Maps\\GPP.nc'\n",
    "geotif_output_gpp = r\"D:\\Proyectos2024\\Agame\\Repository\\vlabs\\sen2gpp\\Output\\Maps\\GPP.tif\"\n",
    "netcdf_output_sw = r'D:\\Proyectos2024\\Agame\\Repository\\vlabs\\sen2gpp\\Output\\Maps\\SW.nc'\n",
    "geotif_output_sw = r\"D:\\Proyectos2024\\Agame\\Repository\\vlabs\\sen2gpp\\Output\\Maps\\SW.tif\"\n",
    "directory_data = r'D:\\Proyectos2024\\Agame\\Repository\\vlabs\\sen2gpp\\Output\\Tables'\n",
    "filename = 'Hohes Holz_preprocessed_01012019_26092023.csv'\n",
    "\n",
    "sites_available = ['DE-HoH','IT-Tor','FI-Hyy','SE-Svb']\n",
    "sentinel_vi = ['CLr','EVI','EVI2','LSWI', 'MNDVI','MNDWI','NDII','NDVI']\n",
    "sentinel_bands  = ['B1','B2','B3','B4','B5','B6','B7','B8','B8A','B9','B11','B12']\n",
    "general = ['latitude', 'longitude', 'elevation', 'canopy_height', 'biom_croplands', 'biom_dbf', 'biom_enf', 'biom_grasslands', 'winter','spring', 'summer', 'fall']\n",
    "e5_bands = ['surface_net_solar_radiation_sum']\n",
    "period = ['2023-06-01', '2023-06-30']\n",
    "site = 'DE-HoH'\n",
    "\n",
    "df, boundaries, information = get_coordinates_area(site_list, site)\n",
    "# m = map_coordinates_area(df, boundaries, site)\n",
    "Map, aoi = get_gee_area(boundaries)\n",
    "s2_array, s2 = get_s2_array(period,aoi,sentinel_vi)\n",
    "s2_df = get_s2_df(s2_array)\n",
    "e5_array, e5 = get_e5_array(period,aoi,e5_bands)\n",
    "e5_df = get_e5_df(e5_array)\n",
    "# df_merged = merge_s2_e5(s2_df, e5_df)\n",
    "Map = map_collection(s2, 'NDVI', 'NDVI Band')\n",
    "\n",
    "data = get_environmental_data(directory_data, filename,sentinel_vi,sentinel_bands, general)"
   ]
  },
  {
   "cell_type": "code",
   "execution_count": 15,
   "metadata": {},
   "outputs": [
    {
     "data": {
      "text/html": [
       "\n",
       "            <style>\n",
       "                .geemap-dark {\n",
       "                    --jp-widgets-color: white;\n",
       "                    --jp-widgets-label-color: white;\n",
       "                    --jp-ui-font-color1: white;\n",
       "                    --jp-layout-color2: #454545;\n",
       "                    background-color: #383838;\n",
       "                }\n",
       "\n",
       "                .geemap-dark .jupyter-button {\n",
       "                    --jp-layout-color3: #383838;\n",
       "                }\n",
       "\n",
       "                .geemap-colab {\n",
       "                    background-color: var(--colab-primary-surface-color, white);\n",
       "                }\n",
       "\n",
       "                .geemap-colab .jupyter-button {\n",
       "                    --jp-layout-color3: var(--colab-primary-surface-color, white);\n",
       "                }\n",
       "            </style>\n",
       "            "
      ],
      "text/plain": [
       "<IPython.core.display.HTML object>"
      ]
     },
     "metadata": {},
     "output_type": "display_data"
    }
   ],
   "source": [
    "# data = pd.read_csv(os.path.join(directory_data, filename), index_col='TIMESTAMP', parse_dates=['TIMESTAMP'])\n",
    "\n",
    "# s2_all = data.columns.values.tolist()\n",
    "# s2_all = sorted([item for item in s2_all if not (item.endswith('_residual') or \n",
    "#                                                    item.endswith('_trend') or \n",
    "#                                                    item.endswith('_season'))])\n",
    "\n",
    "# s2_all = sorted([item for item in s2_all if not (item.startswith('CO2') or \n",
    "#                                                    item.startswith('H_') or \n",
    "#                                                    item.startswith('LE_'))])\n",
    "\n",
    "# s2_all = [item for item in s2_all if item not in sentinel_vi]\n",
    "# s2_all = [item for item in s2_all if item not in sentinel_bands]\n",
    "# s2_all = [item for item in s2_all if item not in general]\n",
    "\n",
    "# selected_columns = s2_all \n",
    "# data = data[selected_columns]\n",
    "\n",
    "s2_df = s2_df.reset_index()\n",
    "data = data.reset_index()\n",
    "data = data.rename(columns={'TIMESTAMP':'time'})\n",
    "\n",
    "df_merged = s2_df.merge(data, on=['time'], how='left')\n",
    "df_merged.set_index(['time','latitude','longitude'], inplace=True)\n",
    "\n",
    "expected_columns = ['CLr', 'DAY_D', 'DAY_RANDUNC_N', 'EBC_CF_N', 'EVI', 'EVI2', 'G_F_MDS', 'LSWI', 'LW_IN_ERA', 'LW_IN_F', 'LW_IN_F_MDS', 'LW_IN_JSB', 'LW_IN_JSB_ERA', 'LW_IN_JSB_F', 'LW_OUT', 'MNDVI', 'MNDWI', 'NDII', 'NDVI', 'NETRAD', 'NIGHT_D', 'NIGHT_RANDUNC_N', 'PA_ERA', 'PA_F', 'PPFD_IN', 'PPFD_OUT', 'P_ERA', 'P_F', 'SWC_F_MDS_1', 'SWC_F_MDS_2', 'SW_IN_ERA', 'SW_IN_F', 'SW_IN_F_MDS', 'SW_IN_POT', 'SW_OUT', 'TA_ERA', 'TA_ERA_DAY', 'TA_ERA_DAY_SD', 'TA_ERA_NIGHT', 'TA_ERA_NIGHT_SD', 'TA_F', 'TA_F_DAY', 'TA_F_DAY_SD', 'TA_F_MDS', 'TA_F_MDS_DAY', 'TA_F_MDS_DAY_SD', 'TA_F_MDS_NIGHT', 'TA_F_MDS_NIGHT_SD', 'TA_F_NIGHT', 'TA_F_NIGHT_SD', 'TS_F_MDS_1', 'TS_F_MDS_2', 'TS_F_MDS_3', 'USTAR', 'VPD_ERA', 'VPD_F', 'VPD_F_MDS', 'WS_ERA', 'WS_F', 'day', 'month']\n",
    "df_merged = df_merged[expected_columns]\n"
   ]
  },
  {
   "cell_type": "code",
   "execution_count": 16,
   "metadata": {},
   "outputs": [
    {
     "data": {
      "text/html": [
       "\n",
       "            <style>\n",
       "                .geemap-dark {\n",
       "                    --jp-widgets-color: white;\n",
       "                    --jp-widgets-label-color: white;\n",
       "                    --jp-ui-font-color1: white;\n",
       "                    --jp-layout-color2: #454545;\n",
       "                    background-color: #383838;\n",
       "                }\n",
       "\n",
       "                .geemap-dark .jupyter-button {\n",
       "                    --jp-layout-color3: #383838;\n",
       "                }\n",
       "\n",
       "                .geemap-colab {\n",
       "                    background-color: var(--colab-primary-surface-color, white);\n",
       "                }\n",
       "\n",
       "                .geemap-colab .jupyter-button {\n",
       "                    --jp-layout-color3: var(--colab-primary-surface-color, white);\n",
       "                }\n",
       "            </style>\n",
       "            "
      ],
      "text/plain": [
       "<IPython.core.display.HTML object>"
      ]
     },
     "metadata": {},
     "output_type": "display_data"
    }
   ],
   "source": [
    "loaded_model = XGBRegressor()\n",
    "loaded_model.load_model(model_file)\n",
    "\n",
    "y_pred = loaded_model.predict(df_merged)\n",
    "df_merged['GPP'] = y_pred\n",
    "ds = df_merged.to_xarray()"
   ]
  },
  {
   "cell_type": "code",
   "execution_count": 17,
   "metadata": {},
   "outputs": [
    {
     "data": {
      "text/html": [
       "\n",
       "            <style>\n",
       "                .geemap-dark {\n",
       "                    --jp-widgets-color: white;\n",
       "                    --jp-widgets-label-color: white;\n",
       "                    --jp-ui-font-color1: white;\n",
       "                    --jp-layout-color2: #454545;\n",
       "                    background-color: #383838;\n",
       "                }\n",
       "\n",
       "                .geemap-dark .jupyter-button {\n",
       "                    --jp-layout-color3: #383838;\n",
       "                }\n",
       "\n",
       "                .geemap-colab {\n",
       "                    background-color: var(--colab-primary-surface-color, white);\n",
       "                }\n",
       "\n",
       "                .geemap-colab .jupyter-button {\n",
       "                    --jp-layout-color3: var(--colab-primary-surface-color, white);\n",
       "                }\n",
       "            </style>\n",
       "            "
      ],
      "text/plain": [
       "<IPython.core.display.HTML object>"
      ]
     },
     "metadata": {},
     "output_type": "display_data"
    },
    {
     "data": {
      "image/png": "[encoded data removed]",
      "text/plain": [
       "<Figure size 640x480 with 2 Axes>"
      ]
     },
     "metadata": {},
     "output_type": "display_data"
    }
   ],
   "source": [
    "ds.GPP.isel(time=0).plot()\n",
    "crs = CRS.from_epsg(4326) #3857\n",
    "\n",
    "ds.attrs['crs'] = crs.to_string()\n",
    "ds.GPP.to_netcdf(netcdf_output_gpp )\n",
    "\n",
    "da = ds.GPP.isel(time=0)\n",
    "da.rio.write_crs(crs.to_string(), inplace=True)\n",
    "da.rio.to_raster(geotif_output_gpp)"
   ]
  },
  {
   "cell_type": "code",
   "execution_count": 18,
   "metadata": {},
   "outputs": [
    {
     "data": {
      "text/html": [
       "\n",
       "            <style>\n",
       "                .geemap-dark {\n",
       "                    --jp-widgets-color: white;\n",
       "                    --jp-widgets-label-color: white;\n",
       "                    --jp-ui-font-color1: white;\n",
       "                    --jp-layout-color2: #454545;\n",
       "                    background-color: #383838;\n",
       "                }\n",
       "\n",
       "                .geemap-dark .jupyter-button {\n",
       "                    --jp-layout-color3: #383838;\n",
       "                }\n",
       "\n",
       "                .geemap-colab {\n",
       "                    background-color: var(--colab-primary-surface-color, white);\n",
       "                }\n",
       "\n",
       "                .geemap-colab .jupyter-button {\n",
       "                    --jp-layout-color3: var(--colab-primary-surface-color, white);\n",
       "                }\n",
       "            </style>\n",
       "            "
      ],
      "text/plain": [
       "<IPython.core.display.HTML object>"
      ]
     },
     "metadata": {},
     "output_type": "display_data"
    },
    {
     "data": {
      "image/png": "[encoded data removed]",
      "text/plain": [
       "<Figure size 640x480 with 2 Axes>"
      ]
     },
     "metadata": {},
     "output_type": "display_data"
    }
   ],
   "source": [
    "ds.SW_IN_ERA.isel(time=0).plot()\n",
    "crs = CRS.from_epsg(4326) #3857\n",
    "\n",
    "ds.attrs['crs'] = crs.to_string()\n",
    "ds.SW_IN_ERA.to_netcdf(netcdf_output_sw)\n",
    "\n",
    "da = ds.SW_IN_ERA.isel(time=0)\n",
    "da.rio.write_crs(crs.to_string(), inplace=True)\n",
    "da.rio.to_raster(geotif_output_sw)"
   ]
  }
 ],
 "metadata": {
  "kernelspec": {
   "display_name": "Deltares_GPP",
   "language": "python",
   "name": "python3"
  },
  "language_info": {
   "codemirror_mode": {
    "name": "ipython",
    "version": 3
   },
   "file_extension": ".py",
   "mimetype": "text/x-python",
   "name": "python",
   "nbconvert_exporter": "python",
   "pygments_lexer": "ipython3",
   "version": "3.11.7"
  }
 },
 "nbformat": 4,
 "nbformat_minor": 2
}
