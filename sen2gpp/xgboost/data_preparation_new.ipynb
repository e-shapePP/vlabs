{
 "cells": [
  {
   "cell_type": "code",
   "execution_count": 1,
   "metadata": {},
   "outputs": [],
   "source": [
    "import os\n",
    "import pandas as pd\n",
    "import numpy as np\n",
    "import seaborn as sns\n",
    "import matplotlib.pyplot as plt\n",
    "from matplotlib.dates import DateFormatter, MonthLocator\n",
    "from scipy.signal import savgol_filter\n",
    "from statsmodels.tsa.seasonal import STL"
   ]
  },
  {
   "cell_type": "markdown",
   "metadata": {},
   "source": [
    "Process:\n",
    "1. Load the Data\n",
    "2. Filter columns from insitu to be saved\n",
    "3. Matching AND MERGE date insitu and sentinel\n",
    "4. add global data: season, biom\n",
    "5. Decompose\n",
    "6. Merged decompose and original to one csv file\n",
    "7. Check Stationary"
   ]
  },
  {
   "cell_type": "markdown",
   "metadata": {},
   "source": [
    "Define Path"
   ]
  },
  {
   "cell_type": "code",
   "execution_count": 7,
   "metadata": {},
   "outputs": [],
   "source": [
    "directory_insitu = r\"input\\NETFLUX\"\n",
    "directory_plot = r\"plot\"\n",
    "directory_input = r\"input\"\n",
    "directory_sentinel = r\"input\\Sentinel\"\n",
    "# load list of sites\n",
    "list_site_file = r\"D:\\Proyectos2024\\Agame\\Repository\\vlabs\\sen2gpp\\Input\\list_sites_without_Lonzee.xlsx\"\n",
    "df = pd.read_excel(list_site_file)\n",
    "# df\n",
    "df_training = df[df['role']=='training']\n",
    "# df_training"
   ]
  },
  {
   "cell_type": "markdown",
   "metadata": {},
   "source": [
    "Check Insitu Columns\n",
    "- only include _F suffixed data, if _F not available then choose MDS"
   ]
  },
  {
   "cell_type": "code",
   "execution_count": 8,
   "metadata": {},
   "outputs": [
    {
     "name": "stdout",
     "output_type": "stream",
     "text": [
      "['DAY_D', 'DAY_RANDUNC_N', 'GPP_DT_CUT_05', 'GPP_DT_CUT_16', 'GPP_DT_CUT_25', 'GPP_DT_CUT_50', 'GPP_DT_CUT_75', 'GPP_DT_CUT_84', 'GPP_DT_CUT_95', 'GPP_DT_CUT_MEAN', 'GPP_DT_CUT_REF', 'GPP_DT_CUT_SE', 'GPP_DT_CUT_USTAR50', 'GPP_DT_VUT_05', 'GPP_DT_VUT_16', 'GPP_DT_VUT_25', 'GPP_DT_VUT_50', 'GPP_DT_VUT_75', 'GPP_DT_VUT_84', 'GPP_DT_VUT_95', 'GPP_DT_VUT_MEAN', 'GPP_DT_VUT_REF', 'GPP_DT_VUT_SE', 'GPP_DT_VUT_USTAR50', 'GPP_NT_CUT_05', 'GPP_NT_CUT_16', 'GPP_NT_CUT_25', 'GPP_NT_CUT_50', 'GPP_NT_CUT_75', 'GPP_NT_CUT_84', 'GPP_NT_CUT_95', 'GPP_NT_CUT_MEAN', 'GPP_NT_CUT_REF', 'GPP_NT_CUT_SE', 'GPP_NT_CUT_USTAR50', 'GPP_NT_VUT_05', 'GPP_NT_VUT_16', 'GPP_NT_VUT_25', 'GPP_NT_VUT_50', 'GPP_NT_VUT_75', 'GPP_NT_VUT_84', 'GPP_NT_VUT_95', 'GPP_NT_VUT_MEAN', 'GPP_NT_VUT_REF', 'GPP_NT_VUT_SE', 'GPP_NT_VUT_USTAR50', 'G_F_MDS_QC', 'H_F_MDS', 'LE_F_MDS', 'LW_IN_ERA', 'LW_IN_F', 'LW_IN_F_QC', 'LW_IN_JSB_ERA', 'LW_IN_JSB_F', 'LW_IN_JSB_F_QC', 'NEE_CUT_05', 'NEE_CUT_05_DAY', 'NEE_CUT_05_DAY_QC', 'NEE_CUT_05_NIGHT', 'NEE_CUT_05_NIGHT_QC', 'NEE_CUT_05_QC', 'NEE_CUT_16', 'NEE_CUT_16_DAY', 'NEE_CUT_16_DAY_QC', 'NEE_CUT_16_NIGHT', 'NEE_CUT_16_NIGHT_QC', 'NEE_CUT_16_QC', 'NEE_CUT_25', 'NEE_CUT_25_DAY', 'NEE_CUT_25_DAY_QC', 'NEE_CUT_25_NIGHT', 'NEE_CUT_25_NIGHT_QC', 'NEE_CUT_25_QC', 'NEE_CUT_50', 'NEE_CUT_50_DAY', 'NEE_CUT_50_DAY_QC', 'NEE_CUT_50_NIGHT', 'NEE_CUT_50_NIGHT_QC', 'NEE_CUT_50_QC', 'NEE_CUT_75', 'NEE_CUT_75_DAY', 'NEE_CUT_75_DAY_QC', 'NEE_CUT_75_NIGHT', 'NEE_CUT_75_NIGHT_QC', 'NEE_CUT_75_QC', 'NEE_CUT_84', 'NEE_CUT_84_DAY', 'NEE_CUT_84_DAY_QC', 'NEE_CUT_84_NIGHT', 'NEE_CUT_84_NIGHT_QC', 'NEE_CUT_84_QC', 'NEE_CUT_95', 'NEE_CUT_95_DAY', 'NEE_CUT_95_DAY_QC', 'NEE_CUT_95_NIGHT', 'NEE_CUT_95_NIGHT_QC', 'NEE_CUT_95_QC', 'NEE_CUT_MEAN', 'NEE_CUT_MEAN_QC', 'NEE_CUT_REF', 'NEE_CUT_REF_DAY', 'NEE_CUT_REF_DAY_QC', 'NEE_CUT_REF_DAY_SD', 'NEE_CUT_REF_NIGHT', 'NEE_CUT_REF_NIGHT_QC', 'NEE_CUT_REF_NIGHT_SD', 'NEE_CUT_REF_QC', 'NEE_CUT_SE', 'NEE_CUT_USTAR50', 'NEE_CUT_USTAR50_DAY', 'NEE_CUT_USTAR50_DAY_QC', 'NEE_CUT_USTAR50_DAY_SD', 'NEE_CUT_USTAR50_NIGHT', 'NEE_CUT_USTAR50_NIGHT_QC', 'NEE_CUT_USTAR50_NIGHT_SD', 'NEE_CUT_USTAR50_QC', 'NEE_VUT_05', 'NEE_VUT_05_DAY', 'NEE_VUT_05_DAY_QC', 'NEE_VUT_05_NIGHT', 'NEE_VUT_05_NIGHT_QC', 'NEE_VUT_05_QC', 'NEE_VUT_16', 'NEE_VUT_16_DAY', 'NEE_VUT_16_DAY_QC', 'NEE_VUT_16_NIGHT', 'NEE_VUT_16_NIGHT_QC', 'NEE_VUT_16_QC', 'NEE_VUT_25', 'NEE_VUT_25_DAY', 'NEE_VUT_25_DAY_QC', 'NEE_VUT_25_NIGHT', 'NEE_VUT_25_NIGHT_QC', 'NEE_VUT_25_QC', 'NEE_VUT_50', 'NEE_VUT_50_DAY', 'NEE_VUT_50_DAY_QC', 'NEE_VUT_50_NIGHT', 'NEE_VUT_50_NIGHT_QC', 'NEE_VUT_50_QC', 'NEE_VUT_75', 'NEE_VUT_75_DAY', 'NEE_VUT_75_DAY_QC', 'NEE_VUT_75_NIGHT', 'NEE_VUT_75_NIGHT_QC', 'NEE_VUT_75_QC', 'NEE_VUT_84', 'NEE_VUT_84_DAY', 'NEE_VUT_84_DAY_QC', 'NEE_VUT_84_NIGHT', 'NEE_VUT_84_NIGHT_QC', 'NEE_VUT_84_QC', 'NEE_VUT_95', 'NEE_VUT_95_DAY', 'NEE_VUT_95_DAY_QC', 'NEE_VUT_95_NIGHT', 'NEE_VUT_95_NIGHT_QC', 'NEE_VUT_95_QC', 'NEE_VUT_MEAN', 'NEE_VUT_MEAN_QC', 'NEE_VUT_REF', 'NEE_VUT_REF_DAY', 'NEE_VUT_REF_DAY_QC', 'NEE_VUT_REF_DAY_SD', 'NEE_VUT_REF_NIGHT', 'NEE_VUT_REF_NIGHT_QC', 'NEE_VUT_REF_NIGHT_SD', 'NEE_VUT_REF_QC', 'NEE_VUT_SE', 'NEE_VUT_USTAR50', 'NEE_VUT_USTAR50_DAY', 'NEE_VUT_USTAR50_DAY_QC', 'NEE_VUT_USTAR50_DAY_SD', 'NEE_VUT_USTAR50_NIGHT', 'NEE_VUT_USTAR50_NIGHT_QC', 'NEE_VUT_USTAR50_NIGHT_SD', 'NEE_VUT_USTAR50_QC', 'NIGHT_D', 'NIGHT_RANDUNC_N', 'PA_ERA', 'PA_F', 'PA_F_QC', 'P_ERA', 'P_F', 'P_F_QC', 'RECO_DT_CUT_05', 'RECO_DT_CUT_16', 'RECO_DT_CUT_25', 'RECO_DT_CUT_50', 'RECO_DT_CUT_75', 'RECO_DT_CUT_84', 'RECO_DT_CUT_95', 'RECO_DT_CUT_MEAN', 'RECO_DT_CUT_REF', 'RECO_DT_CUT_SE', 'RECO_DT_CUT_USTAR50', 'RECO_DT_VUT_05', 'RECO_DT_VUT_16', 'RECO_DT_VUT_25', 'RECO_DT_VUT_50', 'RECO_DT_VUT_75', 'RECO_DT_VUT_84', 'RECO_DT_VUT_95', 'RECO_DT_VUT_MEAN', 'RECO_DT_VUT_REF', 'RECO_DT_VUT_SE', 'RECO_DT_VUT_USTAR50', 'RECO_NT_CUT_05', 'RECO_NT_CUT_16', 'RECO_NT_CUT_25', 'RECO_NT_CUT_50', 'RECO_NT_CUT_75', 'RECO_NT_CUT_84', 'RECO_NT_CUT_95', 'RECO_NT_CUT_MEAN', 'RECO_NT_CUT_REF', 'RECO_NT_CUT_SE', 'RECO_NT_CUT_USTAR50', 'RECO_NT_VUT_05', 'RECO_NT_VUT_16', 'RECO_NT_VUT_25', 'RECO_NT_VUT_50', 'RECO_NT_VUT_75', 'RECO_NT_VUT_84', 'RECO_NT_VUT_95', 'RECO_NT_VUT_MEAN', 'RECO_NT_VUT_REF', 'RECO_NT_VUT_SE', 'RECO_NT_VUT_USTAR50', 'SW_IN_ERA', 'SW_IN_F', 'SW_IN_F_QC', 'SW_IN_POT', 'TA_ERA', 'TA_ERA_DAY', 'TA_ERA_DAY_SD', 'TA_ERA_NIGHT', 'TA_ERA_NIGHT_SD', 'TA_F', 'TA_F_DAY', 'TA_F_DAY_QC', 'TA_F_DAY_SD', 'TA_F_NIGHT', 'TA_F_NIGHT_QC', 'TA_F_NIGHT_SD', 'TA_F_QC', 'TIMESTAMP', 'VPD_ERA', 'VPD_F', 'VPD_F_QC', 'WS_ERA', 'WS_F', 'WS_F_QC']\n"
     ]
    }
   ],
   "source": [
    "list_col = []\n",
    "nan_cols = []\n",
    "files = os.listdir(directory_insitu)\n",
    "for id in df_training['station id']:\n",
    "    site = df_training.loc[df_training['station id'] == id, 'site name'].iloc[0]\n",
    "    # print(site)\n",
    "    data = pd.read_csv(os.path.join(directory_insitu,f\"ICOSETC_{id}_FLUXNET_DD_L2.csv\"))\n",
    "    if 'date.1' in data.columns:\n",
    "        data.drop(columns = ['date.1'], inplace = True)\n",
    "    # Replace -999 with NaN\n",
    "    data.replace(-9999, np.nan, inplace=True)\n",
    "    # Check which columns contain any NaN values\n",
    "    nan_columns = data.columns[data.isnull().any()].tolist()\n",
    "    nan_cols.append(nan_columns)\n",
    "    # print(\"Columns with NaN values:\", nan_columns)\n",
    "    data.drop(columns = nan_columns, inplace = True)\n",
    "    list_col.append(set(data.columns))\n",
    "    # print(data.columns)\n",
    "# Initialize the intersection with the first set in the list\n",
    "intersection = list_col[0]\n",
    "# Use a for loop to intersect with each subsequent set\n",
    "for s in list_col[1:]:\n",
    "    intersection = intersection.intersection(s)\n",
    "intersection_list = list(intersection)\n",
    "intersection_list.sort()\n",
    "print(intersection_list)"
   ]
  },
  {
   "cell_type": "markdown",
   "metadata": {},
   "source": [
    "Merge insitu and sentinel data\n"
   ]
  },
  {
   "cell_type": "code",
   "execution_count": 9,
   "metadata": {},
   "outputs": [],
   "source": [
    "# FUNCTIONS\n",
    "def matching (sentinel, insitu, df):\n",
    "    insitu = insitu.set_index('date')\n",
    "    sentinel = sentinel.set_index('date')\n",
    "    # print(insitu.columns)\n",
    "    # print(sentinel.columns)\n",
    "    merged_input = pd.merge(left= insitu, right = sentinel, how=\"inner\", left_index = True , right_index = True)\n",
    "    # print(merged_input.index[:5])\n",
    "    merged_input['date'] = pd.to_datetime(merged_input.index)\n",
    "    # print(merged_input.columns)\n",
    "\n",
    "    cols = ['date'] + [col for col in merged_input.columns if col != 'date']\n",
    "    merged_input = merged_input[cols]\n",
    "    start, end = merged_input['date'].iloc[[0, -1]]    \n",
    "    merged_input['latitude'] = df.loc[df['station id'] == id, 'latitude'].iloc[0]\n",
    "    merged_input['longitude'] = df.loc[df['station id'] == id, 'longitude'].iloc[0]\n",
    "    merged_input['elevation'] = df.loc[df['station id'] == id, 'elevation'].iloc[0]\n",
    "    merged_input['canopy_height'] = df.loc[df['station id'] == id, 'canopy_height'].iloc[0]\n",
    "    merged_input['instrument_height'] = df.loc[df['station id'] == id, 'instrument_height'].iloc[0]\n",
    "    merged_input['month'] = pd.DatetimeIndex(merged_input['date']).month\n",
    "    merged_input['day'] = pd.DatetimeIndex(merged_input['date']).day\n",
    "    # merged_input['ecosystem'] = df.loc[df['station id'] == id, 'main ecosystem'].iloc[0]\n",
    "    # add season columns\n",
    "    # Mapping months to seasons\n",
    "\n",
    "    return merged_input, start, end\n",
    "def additional_gobal(df,data):\n",
    "    \n",
    "    month_to_season = {\n",
    "        1: 'winter', 2: 'winter', 3: 'spring',\n",
    "        4: 'spring', 5: 'spring', 6: 'summer',\n",
    "        7: 'summer', 8: 'summer', 9: 'fall',\n",
    "        10: 'fall', 11: 'fall', 12: 'winter'\n",
    "    }\n",
    "\n",
    "    # Apply mapping\n",
    "    data['season'] = data['month'].map(month_to_season)\n",
    "    df_encoded = pd.get_dummies(data, columns=['season'], prefix='')\n",
    "    print(df_encoded.columns)\n",
    "    data[['winter', 'spring', 'summer', 'fall']] = df_encoded[['_winter', '_spring', '_summer', '_fall']].astype(int)\n",
    "    df_encoded1 = pd.get_dummies(df, columns=['main ecosystem'], prefix='biom')\n",
    "    df[['biom_croplands', 'biom_dbf','biom_enf', 'biom_grasslands']]=df_encoded1[['biom_croplands', 'biom_dbf','biom_enf', 'biom_grasslands']].astype(int)\n",
    "    data['biom_croplands'] = df.loc[df['station id'] == id, 'biom_croplands'].iloc[0]\n",
    "    data['biom_dbf'] = df.loc[df['station id'] == id, 'biom_dbf'].iloc[0]\n",
    "    data['biom_enf'] = df.loc[df['station id'] == id, 'biom_enf'].iloc[0]\n",
    "    data['biom_grasslands'] = df.loc[df['station id'] == id, 'biom_grasslands'].iloc[0]\n",
    "    data.drop(columns = ['season'], inplace = True)\n",
    "    return data\n",
    "\n",
    "def plot_raw_vs_gap_filled(df, df_smoothed, df_raw, col, site, directory_plot, details):\n",
    "    if 'date' in df.columns and 'date' in df_raw.columns:\n",
    "        # Ensure the 'date' column is in datetime format\n",
    "        df['date'] = pd.to_datetime(df['date'])\n",
    "        df_raw['date'] = pd.to_datetime(df_raw['date'])\n",
    "        \n",
    "        # Set the date column as the index \n",
    "        df.set_index('date', inplace=True)\n",
    "        df_raw.set_index('date', inplace=True)\n",
    "    \n",
    "    # Plotting\n",
    "    plt.figure(figsize=(15, 5))  # Adjust the figure size as necessary\n",
    "    \n",
    "    # Plot gap-filled data as a line\n",
    "    plt.plot(df.index, df[col], label=f'{col} Gap Filled', linestyle='--', color = 'orange')\n",
    "    plt.plot(df_smoothed.index, df_smoothed[col], label=f'{col} Smoothed', linestyle='-', color = 'red')\n",
    "    \n",
    "    # Plot raw data as scatter\n",
    "    plt.scatter(df_raw.index, df_raw[col], label=f'{col} Raw Data', marker='*', s=20, color = 'blue')  # s is the marker size\n",
    "\n",
    "    # Adding titles and labels\n",
    "    plt.title(f'Time Series of {site}')\n",
    "    plt.xlabel('Date')\n",
    "    plt.ylabel(col)\n",
    "    plt.legend()\n",
    "\n",
    "    # Improve layout to accommodate the x-axis date labels\n",
    "    plt.gcf().autofmt_xdate()  # Auto formats the date labels to prevent overlap\n",
    "    # Date Formatting and Ticks\n",
    "    plt.gca().xaxis.set_major_locator(MonthLocator(bymonth=None, interval=3))  # Set ticks every 4 months\n",
    "    plt.gca().xaxis.set_major_formatter(DateFormatter('%Y-%m'))  # Set date format to Year-Month\n",
    "    plt.savefig(os.path.join(directory_plot, f'{site}_{col}_s2_raw_vs_gap_filled_{details}.png'))\n",
    "\n",
    "    plt.close()\n",
    "\n",
    "# DECOMPOSE\n",
    "col_ori =[ 'date',\n",
    " 'day',\n",
    " 'month',\n",
    " 'latitude',\n",
    " 'longitude',\n",
    " 'elevation',\n",
    " 'canopy_height',\n",
    " 'instrument_height',\n",
    " 'biom_croplands', 'biom_dbf','biom_enf', 'biom_grasslands',\n",
    " 'winter', 'spring', 'summer', 'fall',\n",
    " 'NEE_VUT_USTAR50_DAY', \n",
    " 'RECO_DT_VUT_USTAR50', \n",
    " 'GPP_DT_VUT_USTAR50']\n",
    "\n",
    "col_to_decompose = ['B1',\n",
    " 'B2',\n",
    " 'B3',\n",
    " 'B4',\n",
    " 'B5',\n",
    " 'B6',\n",
    " 'B7',\n",
    " 'B8',\n",
    " 'B8A',\n",
    " 'B9',\n",
    " 'B11',\n",
    " 'B12',\n",
    " 'CLr',\n",
    " 'EVI',\n",
    " 'EVI2',\n",
    " 'LSWI', \n",
    " 'MNDVI',\n",
    " 'MNDWI',\n",
    " 'NDII',\n",
    " 'NDVI',\n",
    " 'H_F_MDS',\n",
    " 'LE_F_MDS',\n",
    " 'LW_IN_F',\n",
    " 'PA_F',\n",
    " 'P_F',\n",
    " 'SW_IN_F',\n",
    " 'TA_F',\n",
    " 'VPD_F',\n",
    " 'WS_F' ]\n",
    "\n",
    "def decompose_df(df,site,directory_plot = directory_plot, col_ori = col_ori, col_to_decompose = col_to_decompose):\n",
    "    # Load the data\n",
    "\n",
    "    # Remove unwanted column if it exists\n",
    "    if 'Unnamed: 0' in df.columns:\n",
    "        df.drop(columns=['Unnamed: 0'], inplace=True)\n",
    "    if 'date.1' in df.columns:\n",
    "        df.drop(columns=['date.1'], inplace=True)\n",
    "\n",
    "    # Convert 'date' to datetime and set it as the index\n",
    "    df['date'] = pd.to_datetime(df['date'])\n",
    "    df.set_index('date', inplace=True)\n",
    "    df = df.asfreq('D')  # Ensure frequency is daily\n",
    "\n",
    "    # Prepare DataFrames for each component\n",
    "    # df_trend = pd.DataFrame(index=df.index)\n",
    "    # df_season = pd.DataFrame(index=df.index)\n",
    "    # df_residual = pd.DataFrame(index=df.index)\n",
    "    df_all = pd.DataFrame(index=df.index)\n",
    "    df_all[col_ori[1:]] = df[col_ori[1:]]\n",
    "    df_all[col_to_decompose] = df[col_to_decompose] \n",
    "    # df_trend[col_ori[1:]] = df[col_ori[1:]]\n",
    "    # df_season[col_ori[1:]] = df[col_ori[1:]]\n",
    "    # df_residual[col_ori[1:]] = df[col_ori[1:]]\n",
    "\n",
    "\n",
    "    # Apply STL decomposition to each column and store the results\n",
    "    stl_results = {}\n",
    "    for col in col_to_decompose:\n",
    "        # Set 'period' to 90 for approximately three months of seasonality\n",
    "        stl = STL(df[col], seasonal=13, period=90)  \n",
    "        result = stl.fit()\n",
    "        stl_results[col] = result\n",
    "        \n",
    "        # Store each component in its respective DataFrame\n",
    "        # df_trend[col] = result.trend\n",
    "        # df_season[col] = result.seasonal\n",
    "        # df_residual[col] = result.resid\n",
    "        df_all[col+\"_trend\"] = result.trend\n",
    "        df_all[col+\"_season\"] = result.seasonal\n",
    "        df_all[col+\"_residual\"] = result.resid  \n",
    "    print(f\"STL Decomposition done.\")\n",
    "\n",
    "    # Optionally, plot results for each component\n",
    "    for col, result in stl_results.items():\n",
    "        # print(f\"Plotting results for {col} of {site}\")\n",
    "        # plt.title(f\"STL Decomposition for {col} of {site}\")\n",
    "        # plt.figure(figsize=(15, 6))\n",
    "        # result.plot()\n",
    "        plt.figure(figsize=(15, 6))  # Initialize the figure\n",
    "        # plt.title(f\"STL Decomposition for {col} of {site}\")  # Optional: Add a title\n",
    "        result.plot()\n",
    "        full_path = os.path.join(directory_plot,\"decomposed\", f\"{site}_{col}.png\")  # Full path for the file\n",
    "        plt.savefig(full_path)  # Save the figure\n",
    "        plt.close()\n",
    "    print(f\"STL Decomposition plots saved\")\n",
    "\n",
    "    # return df_trend, df_season, df_residual, df_all\n",
    "    return df_all\n"
   ]
  },
  {
   "cell_type": "code",
   "execution_count": null,
   "metadata": {},
   "outputs": [
    {
     "name": "stdout",
     "output_type": "stream",
     "text": [
      "Estrees-Mons A28\n",
      "Index(['date', 'H_F_MDS', 'LE_F_MDS', 'LW_IN_F', 'PA_F', 'P_F', 'SW_IN_F',\n",
      "       'TA_F', 'VPD_F', 'WS_F', 'NEE_VUT_USTAR50_DAY', 'RECO_DT_VUT_USTAR50',\n",
      "       'GPP_DT_VUT_USTAR50', 'NDVI', 'EVI', 'EVI2', 'CLr', 'MNDVI', 'MNDWI',\n",
      "       'LSWI', 'NDII', 'B1', 'B2', 'B3', 'B4', 'B5', 'B6', 'B7', 'B8', 'B8A',\n",
      "       'B9', 'B11', 'B12', 'latitude', 'longitude', 'elevation',\n",
      "       'canopy_height', 'instrument_height', 'month', 'day', '_fall',\n",
      "       '_spring', '_summer', '_winter'],\n",
      "      dtype='object')\n"
     ]
    },
    {
     "name": "stderr",
     "output_type": "stream",
     "text": [
      "C:\\Users\\karisma\\AppData\\Local\\Temp\\ipykernel_1916\\1695346669.py:170: PerformanceWarning: DataFrame is highly fragmented.  This is usually the result of calling `frame.insert` many times, which has poor performance.  Consider joining all columns at once using pd.concat(axis=1) instead. To get a de-fragmented frame, use `newframe = frame.copy()`\n",
      "  df_all[col+\"_residual\"] = result.resid\n",
      "C:\\Users\\karisma\\AppData\\Local\\Temp\\ipykernel_1916\\1695346669.py:168: PerformanceWarning: DataFrame is highly fragmented.  This is usually the result of calling `frame.insert` many times, which has poor performance.  Consider joining all columns at once using pd.concat(axis=1) instead. To get a de-fragmented frame, use `newframe = frame.copy()`\n",
      "  df_all[col+\"_trend\"] = result.trend\n",
      "C:\\Users\\karisma\\AppData\\Local\\Temp\\ipykernel_1916\\1695346669.py:169: PerformanceWarning: DataFrame is highly fragmented.  This is usually the result of calling `frame.insert` many times, which has poor performance.  Consider joining all columns at once using pd.concat(axis=1) instead. To get a de-fragmented frame, use `newframe = frame.copy()`\n",
      "  df_all[col+\"_season\"] = result.seasonal\n",
      "C:\\Users\\karisma\\AppData\\Local\\Temp\\ipykernel_1916\\1695346669.py:170: PerformanceWarning: DataFrame is highly fragmented.  This is usually the result of calling `frame.insert` many times, which has poor performance.  Consider joining all columns at once using pd.concat(axis=1) instead. To get a de-fragmented frame, use `newframe = frame.copy()`\n",
      "  df_all[col+\"_residual\"] = result.resid\n",
      "C:\\Users\\karisma\\AppData\\Local\\Temp\\ipykernel_1916\\1695346669.py:168: PerformanceWarning: DataFrame is highly fragmented.  This is usually the result of calling `frame.insert` many times, which has poor performance.  Consider joining all columns at once using pd.concat(axis=1) instead. To get a de-fragmented frame, use `newframe = frame.copy()`\n",
      "  df_all[col+\"_trend\"] = result.trend\n",
      "C:\\Users\\karisma\\AppData\\Local\\Temp\\ipykernel_1916\\1695346669.py:169: PerformanceWarning: DataFrame is highly fragmented.  This is usually the result of calling `frame.insert` many times, which has poor performance.  Consider joining all columns at once using pd.concat(axis=1) instead. To get a de-fragmented frame, use `newframe = frame.copy()`\n",
      "  df_all[col+\"_season\"] = result.seasonal\n",
      "C:\\Users\\karisma\\AppData\\Local\\Temp\\ipykernel_1916\\1695346669.py:170: PerformanceWarning: DataFrame is highly fragmented.  This is usually the result of calling `frame.insert` many times, which has poor performance.  Consider joining all columns at once using pd.concat(axis=1) instead. To get a de-fragmented frame, use `newframe = frame.copy()`\n",
      "  df_all[col+\"_residual\"] = result.resid\n",
      "C:\\Users\\karisma\\AppData\\Local\\Temp\\ipykernel_1916\\1695346669.py:168: PerformanceWarning: DataFrame is highly fragmented.  This is usually the result of calling `frame.insert` many times, which has poor performance.  Consider joining all columns at once using pd.concat(axis=1) instead. To get a de-fragmented frame, use `newframe = frame.copy()`\n",
      "  df_all[col+\"_trend\"] = result.trend\n",
      "C:\\Users\\karisma\\AppData\\Local\\Temp\\ipykernel_1916\\1695346669.py:169: PerformanceWarning: DataFrame is highly fragmented.  This is usually the result of calling `frame.insert` many times, which has poor performance.  Consider joining all columns at once using pd.concat(axis=1) instead. To get a de-fragmented frame, use `newframe = frame.copy()`\n",
      "  df_all[col+\"_season\"] = result.seasonal\n",
      "C:\\Users\\karisma\\AppData\\Local\\Temp\\ipykernel_1916\\1695346669.py:170: PerformanceWarning: DataFrame is highly fragmented.  This is usually the result of calling `frame.insert` many times, which has poor performance.  Consider joining all columns at once using pd.concat(axis=1) instead. To get a de-fragmented frame, use `newframe = frame.copy()`\n",
      "  df_all[col+\"_residual\"] = result.resid\n",
      "C:\\Users\\karisma\\AppData\\Local\\Temp\\ipykernel_1916\\1695346669.py:168: PerformanceWarning: DataFrame is highly fragmented.  This is usually the result of calling `frame.insert` many times, which has poor performance.  Consider joining all columns at once using pd.concat(axis=1) instead. To get a de-fragmented frame, use `newframe = frame.copy()`\n",
      "  df_all[col+\"_trend\"] = result.trend\n",
      "C:\\Users\\karisma\\AppData\\Local\\Temp\\ipykernel_1916\\1695346669.py:169: PerformanceWarning: DataFrame is highly fragmented.  This is usually the result of calling `frame.insert` many times, which has poor performance.  Consider joining all columns at once using pd.concat(axis=1) instead. To get a de-fragmented frame, use `newframe = frame.copy()`\n",
      "  df_all[col+\"_season\"] = result.seasonal\n",
      "C:\\Users\\karisma\\AppData\\Local\\Temp\\ipykernel_1916\\1695346669.py:170: PerformanceWarning: DataFrame is highly fragmented.  This is usually the result of calling `frame.insert` many times, which has poor performance.  Consider joining all columns at once using pd.concat(axis=1) instead. To get a de-fragmented frame, use `newframe = frame.copy()`\n",
      "  df_all[col+\"_residual\"] = result.resid\n",
      "C:\\Users\\karisma\\AppData\\Local\\Temp\\ipykernel_1916\\1695346669.py:168: PerformanceWarning: DataFrame is highly fragmented.  This is usually the result of calling `frame.insert` many times, which has poor performance.  Consider joining all columns at once using pd.concat(axis=1) instead. To get a de-fragmented frame, use `newframe = frame.copy()`\n",
      "  df_all[col+\"_trend\"] = result.trend\n",
      "C:\\Users\\karisma\\AppData\\Local\\Temp\\ipykernel_1916\\1695346669.py:169: PerformanceWarning: DataFrame is highly fragmented.  This is usually the result of calling `frame.insert` many times, which has poor performance.  Consider joining all columns at once using pd.concat(axis=1) instead. To get a de-fragmented frame, use `newframe = frame.copy()`\n",
      "  df_all[col+\"_season\"] = result.seasonal\n",
      "C:\\Users\\karisma\\AppData\\Local\\Temp\\ipykernel_1916\\1695346669.py:170: PerformanceWarning: DataFrame is highly fragmented.  This is usually the result of calling `frame.insert` many times, which has poor performance.  Consider joining all columns at once using pd.concat(axis=1) instead. To get a de-fragmented frame, use `newframe = frame.copy()`\n",
      "  df_all[col+\"_residual\"] = result.resid\n",
      "C:\\Users\\karisma\\AppData\\Local\\Temp\\ipykernel_1916\\1695346669.py:168: PerformanceWarning: DataFrame is highly fragmented.  This is usually the result of calling `frame.insert` many times, which has poor performance.  Consider joining all columns at once using pd.concat(axis=1) instead. To get a de-fragmented frame, use `newframe = frame.copy()`\n",
      "  df_all[col+\"_trend\"] = result.trend\n",
      "C:\\Users\\karisma\\AppData\\Local\\Temp\\ipykernel_1916\\1695346669.py:169: PerformanceWarning: DataFrame is highly fragmented.  This is usually the result of calling `frame.insert` many times, which has poor performance.  Consider joining all columns at once using pd.concat(axis=1) instead. To get a de-fragmented frame, use `newframe = frame.copy()`\n",
      "  df_all[col+\"_season\"] = result.seasonal\n",
      "C:\\Users\\karisma\\AppData\\Local\\Temp\\ipykernel_1916\\1695346669.py:170: PerformanceWarning: DataFrame is highly fragmented.  This is usually the result of calling `frame.insert` many times, which has poor performance.  Consider joining all columns at once using pd.concat(axis=1) instead. To get a de-fragmented frame, use `newframe = frame.copy()`\n",
      "  df_all[col+\"_residual\"] = result.resid\n",
      "C:\\Users\\karisma\\AppData\\Local\\Temp\\ipykernel_1916\\1695346669.py:168: PerformanceWarning: DataFrame is highly fragmented.  This is usually the result of calling `frame.insert` many times, which has poor performance.  Consider joining all columns at once using pd.concat(axis=1) instead. To get a de-fragmented frame, use `newframe = frame.copy()`\n",
      "  df_all[col+\"_trend\"] = result.trend\n",
      "C:\\Users\\karisma\\AppData\\Local\\Temp\\ipykernel_1916\\1695346669.py:169: PerformanceWarning: DataFrame is highly fragmented.  This is usually the result of calling `frame.insert` many times, which has poor performance.  Consider joining all columns at once using pd.concat(axis=1) instead. To get a de-fragmented frame, use `newframe = frame.copy()`\n",
      "  df_all[col+\"_season\"] = result.seasonal\n",
      "C:\\Users\\karisma\\AppData\\Local\\Temp\\ipykernel_1916\\1695346669.py:170: PerformanceWarning: DataFrame is highly fragmented.  This is usually the result of calling `frame.insert` many times, which has poor performance.  Consider joining all columns at once using pd.concat(axis=1) instead. To get a de-fragmented frame, use `newframe = frame.copy()`\n",
      "  df_all[col+\"_residual\"] = result.resid\n",
      "C:\\Users\\karisma\\AppData\\Local\\Temp\\ipykernel_1916\\1695346669.py:168: PerformanceWarning: DataFrame is highly fragmented.  This is usually the result of calling `frame.insert` many times, which has poor performance.  Consider joining all columns at once using pd.concat(axis=1) instead. To get a de-fragmented frame, use `newframe = frame.copy()`\n",
      "  df_all[col+\"_trend\"] = result.trend\n",
      "C:\\Users\\karisma\\AppData\\Local\\Temp\\ipykernel_1916\\1695346669.py:169: PerformanceWarning: DataFrame is highly fragmented.  This is usually the result of calling `frame.insert` many times, which has poor performance.  Consider joining all columns at once using pd.concat(axis=1) instead. To get a de-fragmented frame, use `newframe = frame.copy()`\n",
      "  df_all[col+\"_season\"] = result.seasonal\n",
      "C:\\Users\\karisma\\AppData\\Local\\Temp\\ipykernel_1916\\1695346669.py:170: PerformanceWarning: DataFrame is highly fragmented.  This is usually the result of calling `frame.insert` many times, which has poor performance.  Consider joining all columns at once using pd.concat(axis=1) instead. To get a de-fragmented frame, use `newframe = frame.copy()`\n",
      "  df_all[col+\"_residual\"] = result.resid\n",
      "C:\\Users\\karisma\\AppData\\Local\\Temp\\ipykernel_1916\\1695346669.py:168: PerformanceWarning: DataFrame is highly fragmented.  This is usually the result of calling `frame.insert` many times, which has poor performance.  Consider joining all columns at once using pd.concat(axis=1) instead. To get a de-fragmented frame, use `newframe = frame.copy()`\n",
      "  df_all[col+\"_trend\"] = result.trend\n",
      "C:\\Users\\karisma\\AppData\\Local\\Temp\\ipykernel_1916\\1695346669.py:169: PerformanceWarning: DataFrame is highly fragmented.  This is usually the result of calling `frame.insert` many times, which has poor performance.  Consider joining all columns at once using pd.concat(axis=1) instead. To get a de-fragmented frame, use `newframe = frame.copy()`\n",
      "  df_all[col+\"_season\"] = result.seasonal\n",
      "C:\\Users\\karisma\\AppData\\Local\\Temp\\ipykernel_1916\\1695346669.py:170: PerformanceWarning: DataFrame is highly fragmented.  This is usually the result of calling `frame.insert` many times, which has poor performance.  Consider joining all columns at once using pd.concat(axis=1) instead. To get a de-fragmented frame, use `newframe = frame.copy()`\n",
      "  df_all[col+\"_residual\"] = result.resid\n",
      "C:\\Users\\karisma\\AppData\\Local\\Temp\\ipykernel_1916\\1695346669.py:168: PerformanceWarning: DataFrame is highly fragmented.  This is usually the result of calling `frame.insert` many times, which has poor performance.  Consider joining all columns at once using pd.concat(axis=1) instead. To get a de-fragmented frame, use `newframe = frame.copy()`\n",
      "  df_all[col+\"_trend\"] = result.trend\n",
      "C:\\Users\\karisma\\AppData\\Local\\Temp\\ipykernel_1916\\1695346669.py:169: PerformanceWarning: DataFrame is highly fragmented.  This is usually the result of calling `frame.insert` many times, which has poor performance.  Consider joining all columns at once using pd.concat(axis=1) instead. To get a de-fragmented frame, use `newframe = frame.copy()`\n",
      "  df_all[col+\"_season\"] = result.seasonal\n",
      "C:\\Users\\karisma\\AppData\\Local\\Temp\\ipykernel_1916\\1695346669.py:170: PerformanceWarning: DataFrame is highly fragmented.  This is usually the result of calling `frame.insert` many times, which has poor performance.  Consider joining all columns at once using pd.concat(axis=1) instead. To get a de-fragmented frame, use `newframe = frame.copy()`\n",
      "  df_all[col+\"_residual\"] = result.resid\n",
      "C:\\Users\\karisma\\AppData\\Local\\Temp\\ipykernel_1916\\1695346669.py:168: PerformanceWarning: DataFrame is highly fragmented.  This is usually the result of calling `frame.insert` many times, which has poor performance.  Consider joining all columns at once using pd.concat(axis=1) instead. To get a de-fragmented frame, use `newframe = frame.copy()`\n",
      "  df_all[col+\"_trend\"] = result.trend\n",
      "C:\\Users\\karisma\\AppData\\Local\\Temp\\ipykernel_1916\\1695346669.py:169: PerformanceWarning: DataFrame is highly fragmented.  This is usually the result of calling `frame.insert` many times, which has poor performance.  Consider joining all columns at once using pd.concat(axis=1) instead. To get a de-fragmented frame, use `newframe = frame.copy()`\n",
      "  df_all[col+\"_season\"] = result.seasonal\n",
      "C:\\Users\\karisma\\AppData\\Local\\Temp\\ipykernel_1916\\1695346669.py:170: PerformanceWarning: DataFrame is highly fragmented.  This is usually the result of calling `frame.insert` many times, which has poor performance.  Consider joining all columns at once using pd.concat(axis=1) instead. To get a de-fragmented frame, use `newframe = frame.copy()`\n",
      "  df_all[col+\"_residual\"] = result.resid\n"
     ]
    },
    {
     "name": "stdout",
     "output_type": "stream",
     "text": [
      "STL Decomposition done.\n"
     ]
    },
    {
     "name": "stderr",
     "output_type": "stream",
     "text": [
      "c:\\Users\\karisma\\AppData\\Local\\anaconda3\\envs\\environment_GPP_new_March2023\\Lib\\site-packages\\statsmodels\\tsa\\seasonal.py:345: RuntimeWarning: More than 20 figures have been opened. Figures created through the pyplot interface (`matplotlib.pyplot.figure`) are retained until explicitly closed and may consume too much memory. (To control this warning, see the rcParam `figure.max_open_warning`). Consider using `matplotlib.pyplot.close()`.\n",
      "  fig, axs = plt.subplots(len(series), 1, sharex=True)\n",
      "C:\\Users\\karisma\\AppData\\Local\\Temp\\ipykernel_1916\\1695346669.py:179: RuntimeWarning: More than 20 figures have been opened. Figures created through the pyplot interface (`matplotlib.pyplot.figure`) are retained until explicitly closed and may consume too much memory. (To control this warning, see the rcParam `figure.max_open_warning`). Consider using `matplotlib.pyplot.close()`.\n",
      "  plt.figure(figsize=(15, 6))  # Initialize the figure\n"
     ]
    },
    {
     "name": "stdout",
     "output_type": "stream",
     "text": [
      "STL Decomposition plots saved\n",
      "Hohes Holz\n",
      "Index(['date', 'H_F_MDS', 'LE_F_MDS', 'LW_IN_F', 'PA_F', 'P_F', 'SW_IN_F',\n",
      "       'TA_F', 'VPD_F', 'WS_F', 'NEE_VUT_USTAR50_DAY', 'RECO_DT_VUT_USTAR50',\n",
      "       'GPP_DT_VUT_USTAR50', 'NDVI', 'EVI', 'EVI2', 'CLr', 'MNDVI', 'MNDWI',\n",
      "       'LSWI', 'NDII', 'B1', 'B2', 'B3', 'B4', 'B5', 'B6', 'B7', 'B8', 'B8A',\n",
      "       'B9', 'B11', 'B12', 'latitude', 'longitude', 'elevation',\n",
      "       'canopy_height', 'instrument_height', 'month', 'day', '_fall',\n",
      "       '_spring', '_summer', '_winter'],\n",
      "      dtype='object')\n"
     ]
    },
    {
     "name": "stderr",
     "output_type": "stream",
     "text": [
      "C:\\Users\\karisma\\AppData\\Local\\Temp\\ipykernel_1916\\1695346669.py:170: PerformanceWarning: DataFrame is highly fragmented.  This is usually the result of calling `frame.insert` many times, which has poor performance.  Consider joining all columns at once using pd.concat(axis=1) instead. To get a de-fragmented frame, use `newframe = frame.copy()`\n",
      "  df_all[col+\"_residual\"] = result.resid\n",
      "C:\\Users\\karisma\\AppData\\Local\\Temp\\ipykernel_1916\\1695346669.py:168: PerformanceWarning: DataFrame is highly fragmented.  This is usually the result of calling `frame.insert` many times, which has poor performance.  Consider joining all columns at once using pd.concat(axis=1) instead. To get a de-fragmented frame, use `newframe = frame.copy()`\n",
      "  df_all[col+\"_trend\"] = result.trend\n",
      "C:\\Users\\karisma\\AppData\\Local\\Temp\\ipykernel_1916\\1695346669.py:169: PerformanceWarning: DataFrame is highly fragmented.  This is usually the result of calling `frame.insert` many times, which has poor performance.  Consider joining all columns at once using pd.concat(axis=1) instead. To get a de-fragmented frame, use `newframe = frame.copy()`\n",
      "  df_all[col+\"_season\"] = result.seasonal\n",
      "C:\\Users\\karisma\\AppData\\Local\\Temp\\ipykernel_1916\\1695346669.py:170: PerformanceWarning: DataFrame is highly fragmented.  This is usually the result of calling `frame.insert` many times, which has poor performance.  Consider joining all columns at once using pd.concat(axis=1) instead. To get a de-fragmented frame, use `newframe = frame.copy()`\n",
      "  df_all[col+\"_residual\"] = result.resid\n",
      "C:\\Users\\karisma\\AppData\\Local\\Temp\\ipykernel_1916\\1695346669.py:168: PerformanceWarning: DataFrame is highly fragmented.  This is usually the result of calling `frame.insert` many times, which has poor performance.  Consider joining all columns at once using pd.concat(axis=1) instead. To get a de-fragmented frame, use `newframe = frame.copy()`\n",
      "  df_all[col+\"_trend\"] = result.trend\n",
      "C:\\Users\\karisma\\AppData\\Local\\Temp\\ipykernel_1916\\1695346669.py:169: PerformanceWarning: DataFrame is highly fragmented.  This is usually the result of calling `frame.insert` many times, which has poor performance.  Consider joining all columns at once using pd.concat(axis=1) instead. To get a de-fragmented frame, use `newframe = frame.copy()`\n",
      "  df_all[col+\"_season\"] = result.seasonal\n",
      "C:\\Users\\karisma\\AppData\\Local\\Temp\\ipykernel_1916\\1695346669.py:170: PerformanceWarning: DataFrame is highly fragmented.  This is usually the result of calling `frame.insert` many times, which has poor performance.  Consider joining all columns at once using pd.concat(axis=1) instead. To get a de-fragmented frame, use `newframe = frame.copy()`\n",
      "  df_all[col+\"_residual\"] = result.resid\n",
      "C:\\Users\\karisma\\AppData\\Local\\Temp\\ipykernel_1916\\1695346669.py:168: PerformanceWarning: DataFrame is highly fragmented.  This is usually the result of calling `frame.insert` many times, which has poor performance.  Consider joining all columns at once using pd.concat(axis=1) instead. To get a de-fragmented frame, use `newframe = frame.copy()`\n",
      "  df_all[col+\"_trend\"] = result.trend\n",
      "C:\\Users\\karisma\\AppData\\Local\\Temp\\ipykernel_1916\\1695346669.py:169: PerformanceWarning: DataFrame is highly fragmented.  This is usually the result of calling `frame.insert` many times, which has poor performance.  Consider joining all columns at once using pd.concat(axis=1) instead. To get a de-fragmented frame, use `newframe = frame.copy()`\n",
      "  df_all[col+\"_season\"] = result.seasonal\n",
      "C:\\Users\\karisma\\AppData\\Local\\Temp\\ipykernel_1916\\1695346669.py:170: PerformanceWarning: DataFrame is highly fragmented.  This is usually the result of calling `frame.insert` many times, which has poor performance.  Consider joining all columns at once using pd.concat(axis=1) instead. To get a de-fragmented frame, use `newframe = frame.copy()`\n",
      "  df_all[col+\"_residual\"] = result.resid\n",
      "C:\\Users\\karisma\\AppData\\Local\\Temp\\ipykernel_1916\\1695346669.py:168: PerformanceWarning: DataFrame is highly fragmented.  This is usually the result of calling `frame.insert` many times, which has poor performance.  Consider joining all columns at once using pd.concat(axis=1) instead. To get a de-fragmented frame, use `newframe = frame.copy()`\n",
      "  df_all[col+\"_trend\"] = result.trend\n",
      "C:\\Users\\karisma\\AppData\\Local\\Temp\\ipykernel_1916\\1695346669.py:169: PerformanceWarning: DataFrame is highly fragmented.  This is usually the result of calling `frame.insert` many times, which has poor performance.  Consider joining all columns at once using pd.concat(axis=1) instead. To get a de-fragmented frame, use `newframe = frame.copy()`\n",
      "  df_all[col+\"_season\"] = result.seasonal\n",
      "C:\\Users\\karisma\\AppData\\Local\\Temp\\ipykernel_1916\\1695346669.py:170: PerformanceWarning: DataFrame is highly fragmented.  This is usually the result of calling `frame.insert` many times, which has poor performance.  Consider joining all columns at once using pd.concat(axis=1) instead. To get a de-fragmented frame, use `newframe = frame.copy()`\n",
      "  df_all[col+\"_residual\"] = result.resid\n",
      "C:\\Users\\karisma\\AppData\\Local\\Temp\\ipykernel_1916\\1695346669.py:168: PerformanceWarning: DataFrame is highly fragmented.  This is usually the result of calling `frame.insert` many times, which has poor performance.  Consider joining all columns at once using pd.concat(axis=1) instead. To get a de-fragmented frame, use `newframe = frame.copy()`\n",
      "  df_all[col+\"_trend\"] = result.trend\n",
      "C:\\Users\\karisma\\AppData\\Local\\Temp\\ipykernel_1916\\1695346669.py:169: PerformanceWarning: DataFrame is highly fragmented.  This is usually the result of calling `frame.insert` many times, which has poor performance.  Consider joining all columns at once using pd.concat(axis=1) instead. To get a de-fragmented frame, use `newframe = frame.copy()`\n",
      "  df_all[col+\"_season\"] = result.seasonal\n",
      "C:\\Users\\karisma\\AppData\\Local\\Temp\\ipykernel_1916\\1695346669.py:170: PerformanceWarning: DataFrame is highly fragmented.  This is usually the result of calling `frame.insert` many times, which has poor performance.  Consider joining all columns at once using pd.concat(axis=1) instead. To get a de-fragmented frame, use `newframe = frame.copy()`\n",
      "  df_all[col+\"_residual\"] = result.resid\n",
      "C:\\Users\\karisma\\AppData\\Local\\Temp\\ipykernel_1916\\1695346669.py:168: PerformanceWarning: DataFrame is highly fragmented.  This is usually the result of calling `frame.insert` many times, which has poor performance.  Consider joining all columns at once using pd.concat(axis=1) instead. To get a de-fragmented frame, use `newframe = frame.copy()`\n",
      "  df_all[col+\"_trend\"] = result.trend\n",
      "C:\\Users\\karisma\\AppData\\Local\\Temp\\ipykernel_1916\\1695346669.py:169: PerformanceWarning: DataFrame is highly fragmented.  This is usually the result of calling `frame.insert` many times, which has poor performance.  Consider joining all columns at once using pd.concat(axis=1) instead. To get a de-fragmented frame, use `newframe = frame.copy()`\n",
      "  df_all[col+\"_season\"] = result.seasonal\n",
      "C:\\Users\\karisma\\AppData\\Local\\Temp\\ipykernel_1916\\1695346669.py:170: PerformanceWarning: DataFrame is highly fragmented.  This is usually the result of calling `frame.insert` many times, which has poor performance.  Consider joining all columns at once using pd.concat(axis=1) instead. To get a de-fragmented frame, use `newframe = frame.copy()`\n",
      "  df_all[col+\"_residual\"] = result.resid\n",
      "C:\\Users\\karisma\\AppData\\Local\\Temp\\ipykernel_1916\\1695346669.py:168: PerformanceWarning: DataFrame is highly fragmented.  This is usually the result of calling `frame.insert` many times, which has poor performance.  Consider joining all columns at once using pd.concat(axis=1) instead. To get a de-fragmented frame, use `newframe = frame.copy()`\n",
      "  df_all[col+\"_trend\"] = result.trend\n",
      "C:\\Users\\karisma\\AppData\\Local\\Temp\\ipykernel_1916\\1695346669.py:169: PerformanceWarning: DataFrame is highly fragmented.  This is usually the result of calling `frame.insert` many times, which has poor performance.  Consider joining all columns at once using pd.concat(axis=1) instead. To get a de-fragmented frame, use `newframe = frame.copy()`\n",
      "  df_all[col+\"_season\"] = result.seasonal\n",
      "C:\\Users\\karisma\\AppData\\Local\\Temp\\ipykernel_1916\\1695346669.py:170: PerformanceWarning: DataFrame is highly fragmented.  This is usually the result of calling `frame.insert` many times, which has poor performance.  Consider joining all columns at once using pd.concat(axis=1) instead. To get a de-fragmented frame, use `newframe = frame.copy()`\n",
      "  df_all[col+\"_residual\"] = result.resid\n",
      "C:\\Users\\karisma\\AppData\\Local\\Temp\\ipykernel_1916\\1695346669.py:168: PerformanceWarning: DataFrame is highly fragmented.  This is usually the result of calling `frame.insert` many times, which has poor performance.  Consider joining all columns at once using pd.concat(axis=1) instead. To get a de-fragmented frame, use `newframe = frame.copy()`\n",
      "  df_all[col+\"_trend\"] = result.trend\n",
      "C:\\Users\\karisma\\AppData\\Local\\Temp\\ipykernel_1916\\1695346669.py:169: PerformanceWarning: DataFrame is highly fragmented.  This is usually the result of calling `frame.insert` many times, which has poor performance.  Consider joining all columns at once using pd.concat(axis=1) instead. To get a de-fragmented frame, use `newframe = frame.copy()`\n",
      "  df_all[col+\"_season\"] = result.seasonal\n",
      "C:\\Users\\karisma\\AppData\\Local\\Temp\\ipykernel_1916\\1695346669.py:170: PerformanceWarning: DataFrame is highly fragmented.  This is usually the result of calling `frame.insert` many times, which has poor performance.  Consider joining all columns at once using pd.concat(axis=1) instead. To get a de-fragmented frame, use `newframe = frame.copy()`\n",
      "  df_all[col+\"_residual\"] = result.resid\n",
      "C:\\Users\\karisma\\AppData\\Local\\Temp\\ipykernel_1916\\1695346669.py:168: PerformanceWarning: DataFrame is highly fragmented.  This is usually the result of calling `frame.insert` many times, which has poor performance.  Consider joining all columns at once using pd.concat(axis=1) instead. To get a de-fragmented frame, use `newframe = frame.copy()`\n",
      "  df_all[col+\"_trend\"] = result.trend\n",
      "C:\\Users\\karisma\\AppData\\Local\\Temp\\ipykernel_1916\\1695346669.py:169: PerformanceWarning: DataFrame is highly fragmented.  This is usually the result of calling `frame.insert` many times, which has poor performance.  Consider joining all columns at once using pd.concat(axis=1) instead. To get a de-fragmented frame, use `newframe = frame.copy()`\n",
      "  df_all[col+\"_season\"] = result.seasonal\n",
      "C:\\Users\\karisma\\AppData\\Local\\Temp\\ipykernel_1916\\1695346669.py:170: PerformanceWarning: DataFrame is highly fragmented.  This is usually the result of calling `frame.insert` many times, which has poor performance.  Consider joining all columns at once using pd.concat(axis=1) instead. To get a de-fragmented frame, use `newframe = frame.copy()`\n",
      "  df_all[col+\"_residual\"] = result.resid\n",
      "C:\\Users\\karisma\\AppData\\Local\\Temp\\ipykernel_1916\\1695346669.py:168: PerformanceWarning: DataFrame is highly fragmented.  This is usually the result of calling `frame.insert` many times, which has poor performance.  Consider joining all columns at once using pd.concat(axis=1) instead. To get a de-fragmented frame, use `newframe = frame.copy()`\n",
      "  df_all[col+\"_trend\"] = result.trend\n",
      "C:\\Users\\karisma\\AppData\\Local\\Temp\\ipykernel_1916\\1695346669.py:169: PerformanceWarning: DataFrame is highly fragmented.  This is usually the result of calling `frame.insert` many times, which has poor performance.  Consider joining all columns at once using pd.concat(axis=1) instead. To get a de-fragmented frame, use `newframe = frame.copy()`\n",
      "  df_all[col+\"_season\"] = result.seasonal\n",
      "C:\\Users\\karisma\\AppData\\Local\\Temp\\ipykernel_1916\\1695346669.py:170: PerformanceWarning: DataFrame is highly fragmented.  This is usually the result of calling `frame.insert` many times, which has poor performance.  Consider joining all columns at once using pd.concat(axis=1) instead. To get a de-fragmented frame, use `newframe = frame.copy()`\n",
      "  df_all[col+\"_residual\"] = result.resid\n",
      "C:\\Users\\karisma\\AppData\\Local\\Temp\\ipykernel_1916\\1695346669.py:168: PerformanceWarning: DataFrame is highly fragmented.  This is usually the result of calling `frame.insert` many times, which has poor performance.  Consider joining all columns at once using pd.concat(axis=1) instead. To get a de-fragmented frame, use `newframe = frame.copy()`\n",
      "  df_all[col+\"_trend\"] = result.trend\n",
      "C:\\Users\\karisma\\AppData\\Local\\Temp\\ipykernel_1916\\1695346669.py:169: PerformanceWarning: DataFrame is highly fragmented.  This is usually the result of calling `frame.insert` many times, which has poor performance.  Consider joining all columns at once using pd.concat(axis=1) instead. To get a de-fragmented frame, use `newframe = frame.copy()`\n",
      "  df_all[col+\"_season\"] = result.seasonal\n",
      "C:\\Users\\karisma\\AppData\\Local\\Temp\\ipykernel_1916\\1695346669.py:170: PerformanceWarning: DataFrame is highly fragmented.  This is usually the result of calling `frame.insert` many times, which has poor performance.  Consider joining all columns at once using pd.concat(axis=1) instead. To get a de-fragmented frame, use `newframe = frame.copy()`\n",
      "  df_all[col+\"_residual\"] = result.resid\n"
     ]
    },
    {
     "name": "stdout",
     "output_type": "stream",
     "text": [
      "STL Decomposition done.\n",
      "STL Decomposition plots saved\n",
      "Torgnon\n",
      "Index(['date', 'H_F_MDS', 'LE_F_MDS', 'LW_IN_F', 'PA_F', 'P_F', 'SW_IN_F',\n",
      "       'TA_F', 'VPD_F', 'WS_F', 'NEE_VUT_USTAR50_DAY', 'RECO_DT_VUT_USTAR50',\n",
      "       'GPP_DT_VUT_USTAR50', 'NDVI', 'EVI', 'EVI2', 'CLr', 'MNDVI', 'MNDWI',\n",
      "       'LSWI', 'NDII', 'B1', 'B2', 'B3', 'B4', 'B5', 'B6', 'B7', 'B8', 'B8A',\n",
      "       'B9', 'B11', 'B12', 'latitude', 'longitude', 'elevation',\n",
      "       'canopy_height', 'instrument_height', 'month', 'day', '_fall',\n",
      "       '_spring', '_summer', '_winter'],\n",
      "      dtype='object')\n"
     ]
    },
    {
     "name": "stderr",
     "output_type": "stream",
     "text": [
      "C:\\Users\\karisma\\AppData\\Local\\Temp\\ipykernel_1916\\1695346669.py:170: PerformanceWarning: DataFrame is highly fragmented.  This is usually the result of calling `frame.insert` many times, which has poor performance.  Consider joining all columns at once using pd.concat(axis=1) instead. To get a de-fragmented frame, use `newframe = frame.copy()`\n",
      "  df_all[col+\"_residual\"] = result.resid\n",
      "C:\\Users\\karisma\\AppData\\Local\\Temp\\ipykernel_1916\\1695346669.py:168: PerformanceWarning: DataFrame is highly fragmented.  This is usually the result of calling `frame.insert` many times, which has poor performance.  Consider joining all columns at once using pd.concat(axis=1) instead. To get a de-fragmented frame, use `newframe = frame.copy()`\n",
      "  df_all[col+\"_trend\"] = result.trend\n",
      "C:\\Users\\karisma\\AppData\\Local\\Temp\\ipykernel_1916\\1695346669.py:169: PerformanceWarning: DataFrame is highly fragmented.  This is usually the result of calling `frame.insert` many times, which has poor performance.  Consider joining all columns at once using pd.concat(axis=1) instead. To get a de-fragmented frame, use `newframe = frame.copy()`\n",
      "  df_all[col+\"_season\"] = result.seasonal\n",
      "C:\\Users\\karisma\\AppData\\Local\\Temp\\ipykernel_1916\\1695346669.py:170: PerformanceWarning: DataFrame is highly fragmented.  This is usually the result of calling `frame.insert` many times, which has poor performance.  Consider joining all columns at once using pd.concat(axis=1) instead. To get a de-fragmented frame, use `newframe = frame.copy()`\n",
      "  df_all[col+\"_residual\"] = result.resid\n",
      "C:\\Users\\karisma\\AppData\\Local\\Temp\\ipykernel_1916\\1695346669.py:168: PerformanceWarning: DataFrame is highly fragmented.  This is usually the result of calling `frame.insert` many times, which has poor performance.  Consider joining all columns at once using pd.concat(axis=1) instead. To get a de-fragmented frame, use `newframe = frame.copy()`\n",
      "  df_all[col+\"_trend\"] = result.trend\n",
      "C:\\Users\\karisma\\AppData\\Local\\Temp\\ipykernel_1916\\1695346669.py:169: PerformanceWarning: DataFrame is highly fragmented.  This is usually the result of calling `frame.insert` many times, which has poor performance.  Consider joining all columns at once using pd.concat(axis=1) instead. To get a de-fragmented frame, use `newframe = frame.copy()`\n",
      "  df_all[col+\"_season\"] = result.seasonal\n",
      "C:\\Users\\karisma\\AppData\\Local\\Temp\\ipykernel_1916\\1695346669.py:170: PerformanceWarning: DataFrame is highly fragmented.  This is usually the result of calling `frame.insert` many times, which has poor performance.  Consider joining all columns at once using pd.concat(axis=1) instead. To get a de-fragmented frame, use `newframe = frame.copy()`\n",
      "  df_all[col+\"_residual\"] = result.resid\n",
      "C:\\Users\\karisma\\AppData\\Local\\Temp\\ipykernel_1916\\1695346669.py:168: PerformanceWarning: DataFrame is highly fragmented.  This is usually the result of calling `frame.insert` many times, which has poor performance.  Consider joining all columns at once using pd.concat(axis=1) instead. To get a de-fragmented frame, use `newframe = frame.copy()`\n",
      "  df_all[col+\"_trend\"] = result.trend\n",
      "C:\\Users\\karisma\\AppData\\Local\\Temp\\ipykernel_1916\\1695346669.py:169: PerformanceWarning: DataFrame is highly fragmented.  This is usually the result of calling `frame.insert` many times, which has poor performance.  Consider joining all columns at once using pd.concat(axis=1) instead. To get a de-fragmented frame, use `newframe = frame.copy()`\n",
      "  df_all[col+\"_season\"] = result.seasonal\n",
      "C:\\Users\\karisma\\AppData\\Local\\Temp\\ipykernel_1916\\1695346669.py:170: PerformanceWarning: DataFrame is highly fragmented.  This is usually the result of calling `frame.insert` many times, which has poor performance.  Consider joining all columns at once using pd.concat(axis=1) instead. To get a de-fragmented frame, use `newframe = frame.copy()`\n",
      "  df_all[col+\"_residual\"] = result.resid\n",
      "C:\\Users\\karisma\\AppData\\Local\\Temp\\ipykernel_1916\\1695346669.py:168: PerformanceWarning: DataFrame is highly fragmented.  This is usually the result of calling `frame.insert` many times, which has poor performance.  Consider joining all columns at once using pd.concat(axis=1) instead. To get a de-fragmented frame, use `newframe = frame.copy()`\n",
      "  df_all[col+\"_trend\"] = result.trend\n",
      "C:\\Users\\karisma\\AppData\\Local\\Temp\\ipykernel_1916\\1695346669.py:169: PerformanceWarning: DataFrame is highly fragmented.  This is usually the result of calling `frame.insert` many times, which has poor performance.  Consider joining all columns at once using pd.concat(axis=1) instead. To get a de-fragmented frame, use `newframe = frame.copy()`\n",
      "  df_all[col+\"_season\"] = result.seasonal\n",
      "C:\\Users\\karisma\\AppData\\Local\\Temp\\ipykernel_1916\\1695346669.py:170: PerformanceWarning: DataFrame is highly fragmented.  This is usually the result of calling `frame.insert` many times, which has poor performance.  Consider joining all columns at once using pd.concat(axis=1) instead. To get a de-fragmented frame, use `newframe = frame.copy()`\n",
      "  df_all[col+\"_residual\"] = result.resid\n",
      "C:\\Users\\karisma\\AppData\\Local\\Temp\\ipykernel_1916\\1695346669.py:168: PerformanceWarning: DataFrame is highly fragmented.  This is usually the result of calling `frame.insert` many times, which has poor performance.  Consider joining all columns at once using pd.concat(axis=1) instead. To get a de-fragmented frame, use `newframe = frame.copy()`\n",
      "  df_all[col+\"_trend\"] = result.trend\n",
      "C:\\Users\\karisma\\AppData\\Local\\Temp\\ipykernel_1916\\1695346669.py:169: PerformanceWarning: DataFrame is highly fragmented.  This is usually the result of calling `frame.insert` many times, which has poor performance.  Consider joining all columns at once using pd.concat(axis=1) instead. To get a de-fragmented frame, use `newframe = frame.copy()`\n",
      "  df_all[col+\"_season\"] = result.seasonal\n",
      "C:\\Users\\karisma\\AppData\\Local\\Temp\\ipykernel_1916\\1695346669.py:170: PerformanceWarning: DataFrame is highly fragmented.  This is usually the result of calling `frame.insert` many times, which has poor performance.  Consider joining all columns at once using pd.concat(axis=1) instead. To get a de-fragmented frame, use `newframe = frame.copy()`\n",
      "  df_all[col+\"_residual\"] = result.resid\n",
      "C:\\Users\\karisma\\AppData\\Local\\Temp\\ipykernel_1916\\1695346669.py:168: PerformanceWarning: DataFrame is highly fragmented.  This is usually the result of calling `frame.insert` many times, which has poor performance.  Consider joining all columns at once using pd.concat(axis=1) instead. To get a de-fragmented frame, use `newframe = frame.copy()`\n",
      "  df_all[col+\"_trend\"] = result.trend\n",
      "C:\\Users\\karisma\\AppData\\Local\\Temp\\ipykernel_1916\\1695346669.py:169: PerformanceWarning: DataFrame is highly fragmented.  This is usually the result of calling `frame.insert` many times, which has poor performance.  Consider joining all columns at once using pd.concat(axis=1) instead. To get a de-fragmented frame, use `newframe = frame.copy()`\n",
      "  df_all[col+\"_season\"] = result.seasonal\n",
      "C:\\Users\\karisma\\AppData\\Local\\Temp\\ipykernel_1916\\1695346669.py:170: PerformanceWarning: DataFrame is highly fragmented.  This is usually the result of calling `frame.insert` many times, which has poor performance.  Consider joining all columns at once using pd.concat(axis=1) instead. To get a de-fragmented frame, use `newframe = frame.copy()`\n",
      "  df_all[col+\"_residual\"] = result.resid\n",
      "C:\\Users\\karisma\\AppData\\Local\\Temp\\ipykernel_1916\\1695346669.py:168: PerformanceWarning: DataFrame is highly fragmented.  This is usually the result of calling `frame.insert` many times, which has poor performance.  Consider joining all columns at once using pd.concat(axis=1) instead. To get a de-fragmented frame, use `newframe = frame.copy()`\n",
      "  df_all[col+\"_trend\"] = result.trend\n",
      "C:\\Users\\karisma\\AppData\\Local\\Temp\\ipykernel_1916\\1695346669.py:169: PerformanceWarning: DataFrame is highly fragmented.  This is usually the result of calling `frame.insert` many times, which has poor performance.  Consider joining all columns at once using pd.concat(axis=1) instead. To get a de-fragmented frame, use `newframe = frame.copy()`\n",
      "  df_all[col+\"_season\"] = result.seasonal\n",
      "C:\\Users\\karisma\\AppData\\Local\\Temp\\ipykernel_1916\\1695346669.py:170: PerformanceWarning: DataFrame is highly fragmented.  This is usually the result of calling `frame.insert` many times, which has poor performance.  Consider joining all columns at once using pd.concat(axis=1) instead. To get a de-fragmented frame, use `newframe = frame.copy()`\n",
      "  df_all[col+\"_residual\"] = result.resid\n",
      "C:\\Users\\karisma\\AppData\\Local\\Temp\\ipykernel_1916\\1695346669.py:168: PerformanceWarning: DataFrame is highly fragmented.  This is usually the result of calling `frame.insert` many times, which has poor performance.  Consider joining all columns at once using pd.concat(axis=1) instead. To get a de-fragmented frame, use `newframe = frame.copy()`\n",
      "  df_all[col+\"_trend\"] = result.trend\n",
      "C:\\Users\\karisma\\AppData\\Local\\Temp\\ipykernel_1916\\1695346669.py:169: PerformanceWarning: DataFrame is highly fragmented.  This is usually the result of calling `frame.insert` many times, which has poor performance.  Consider joining all columns at once using pd.concat(axis=1) instead. To get a de-fragmented frame, use `newframe = frame.copy()`\n",
      "  df_all[col+\"_season\"] = result.seasonal\n",
      "C:\\Users\\karisma\\AppData\\Local\\Temp\\ipykernel_1916\\1695346669.py:170: PerformanceWarning: DataFrame is highly fragmented.  This is usually the result of calling `frame.insert` many times, which has poor performance.  Consider joining all columns at once using pd.concat(axis=1) instead. To get a de-fragmented frame, use `newframe = frame.copy()`\n",
      "  df_all[col+\"_residual\"] = result.resid\n",
      "C:\\Users\\karisma\\AppData\\Local\\Temp\\ipykernel_1916\\1695346669.py:168: PerformanceWarning: DataFrame is highly fragmented.  This is usually the result of calling `frame.insert` many times, which has poor performance.  Consider joining all columns at once using pd.concat(axis=1) instead. To get a de-fragmented frame, use `newframe = frame.copy()`\n",
      "  df_all[col+\"_trend\"] = result.trend\n",
      "C:\\Users\\karisma\\AppData\\Local\\Temp\\ipykernel_1916\\1695346669.py:169: PerformanceWarning: DataFrame is highly fragmented.  This is usually the result of calling `frame.insert` many times, which has poor performance.  Consider joining all columns at once using pd.concat(axis=1) instead. To get a de-fragmented frame, use `newframe = frame.copy()`\n",
      "  df_all[col+\"_season\"] = result.seasonal\n",
      "C:\\Users\\karisma\\AppData\\Local\\Temp\\ipykernel_1916\\1695346669.py:170: PerformanceWarning: DataFrame is highly fragmented.  This is usually the result of calling `frame.insert` many times, which has poor performance.  Consider joining all columns at once using pd.concat(axis=1) instead. To get a de-fragmented frame, use `newframe = frame.copy()`\n",
      "  df_all[col+\"_residual\"] = result.resid\n",
      "C:\\Users\\karisma\\AppData\\Local\\Temp\\ipykernel_1916\\1695346669.py:168: PerformanceWarning: DataFrame is highly fragmented.  This is usually the result of calling `frame.insert` many times, which has poor performance.  Consider joining all columns at once using pd.concat(axis=1) instead. To get a de-fragmented frame, use `newframe = frame.copy()`\n",
      "  df_all[col+\"_trend\"] = result.trend\n",
      "C:\\Users\\karisma\\AppData\\Local\\Temp\\ipykernel_1916\\1695346669.py:169: PerformanceWarning: DataFrame is highly fragmented.  This is usually the result of calling `frame.insert` many times, which has poor performance.  Consider joining all columns at once using pd.concat(axis=1) instead. To get a de-fragmented frame, use `newframe = frame.copy()`\n",
      "  df_all[col+\"_season\"] = result.seasonal\n",
      "C:\\Users\\karisma\\AppData\\Local\\Temp\\ipykernel_1916\\1695346669.py:170: PerformanceWarning: DataFrame is highly fragmented.  This is usually the result of calling `frame.insert` many times, which has poor performance.  Consider joining all columns at once using pd.concat(axis=1) instead. To get a de-fragmented frame, use `newframe = frame.copy()`\n",
      "  df_all[col+\"_residual\"] = result.resid\n",
      "C:\\Users\\karisma\\AppData\\Local\\Temp\\ipykernel_1916\\1695346669.py:168: PerformanceWarning: DataFrame is highly fragmented.  This is usually the result of calling `frame.insert` many times, which has poor performance.  Consider joining all columns at once using pd.concat(axis=1) instead. To get a de-fragmented frame, use `newframe = frame.copy()`\n",
      "  df_all[col+\"_trend\"] = result.trend\n",
      "C:\\Users\\karisma\\AppData\\Local\\Temp\\ipykernel_1916\\1695346669.py:169: PerformanceWarning: DataFrame is highly fragmented.  This is usually the result of calling `frame.insert` many times, which has poor performance.  Consider joining all columns at once using pd.concat(axis=1) instead. To get a de-fragmented frame, use `newframe = frame.copy()`\n",
      "  df_all[col+\"_season\"] = result.seasonal\n",
      "C:\\Users\\karisma\\AppData\\Local\\Temp\\ipykernel_1916\\1695346669.py:170: PerformanceWarning: DataFrame is highly fragmented.  This is usually the result of calling `frame.insert` many times, which has poor performance.  Consider joining all columns at once using pd.concat(axis=1) instead. To get a de-fragmented frame, use `newframe = frame.copy()`\n",
      "  df_all[col+\"_residual\"] = result.resid\n"
     ]
    },
    {
     "name": "stdout",
     "output_type": "stream",
     "text": [
      "STL Decomposition done.\n",
      "STL Decomposition plots saved\n",
      "Hyytiala\n",
      "Index(['date', 'H_F_MDS', 'LE_F_MDS', 'LW_IN_F', 'PA_F', 'P_F', 'SW_IN_F',\n",
      "       'TA_F', 'VPD_F', 'WS_F', 'NEE_VUT_USTAR50_DAY', 'RECO_DT_VUT_USTAR50',\n",
      "       'GPP_DT_VUT_USTAR50', 'NDVI', 'EVI', 'EVI2', 'CLr', 'MNDVI', 'MNDWI',\n",
      "       'LSWI', 'NDII', 'B1', 'B2', 'B3', 'B4', 'B5', 'B6', 'B7', 'B8', 'B8A',\n",
      "       'B9', 'B11', 'B12', 'latitude', 'longitude', 'elevation',\n",
      "       'canopy_height', 'instrument_height', 'month', 'day', '_fall',\n",
      "       '_spring', '_summer', '_winter'],\n",
      "      dtype='object')\n"
     ]
    },
    {
     "name": "stderr",
     "output_type": "stream",
     "text": [
      "C:\\Users\\karisma\\AppData\\Local\\Temp\\ipykernel_1916\\1695346669.py:170: PerformanceWarning: DataFrame is highly fragmented.  This is usually the result of calling `frame.insert` many times, which has poor performance.  Consider joining all columns at once using pd.concat(axis=1) instead. To get a de-fragmented frame, use `newframe = frame.copy()`\n",
      "  df_all[col+\"_residual\"] = result.resid\n",
      "C:\\Users\\karisma\\AppData\\Local\\Temp\\ipykernel_1916\\1695346669.py:168: PerformanceWarning: DataFrame is highly fragmented.  This is usually the result of calling `frame.insert` many times, which has poor performance.  Consider joining all columns at once using pd.concat(axis=1) instead. To get a de-fragmented frame, use `newframe = frame.copy()`\n",
      "  df_all[col+\"_trend\"] = result.trend\n",
      "C:\\Users\\karisma\\AppData\\Local\\Temp\\ipykernel_1916\\1695346669.py:169: PerformanceWarning: DataFrame is highly fragmented.  This is usually the result of calling `frame.insert` many times, which has poor performance.  Consider joining all columns at once using pd.concat(axis=1) instead. To get a de-fragmented frame, use `newframe = frame.copy()`\n",
      "  df_all[col+\"_season\"] = result.seasonal\n",
      "C:\\Users\\karisma\\AppData\\Local\\Temp\\ipykernel_1916\\1695346669.py:170: PerformanceWarning: DataFrame is highly fragmented.  This is usually the result of calling `frame.insert` many times, which has poor performance.  Consider joining all columns at once using pd.concat(axis=1) instead. To get a de-fragmented frame, use `newframe = frame.copy()`\n",
      "  df_all[col+\"_residual\"] = result.resid\n",
      "C:\\Users\\karisma\\AppData\\Local\\Temp\\ipykernel_1916\\1695346669.py:168: PerformanceWarning: DataFrame is highly fragmented.  This is usually the result of calling `frame.insert` many times, which has poor performance.  Consider joining all columns at once using pd.concat(axis=1) instead. To get a de-fragmented frame, use `newframe = frame.copy()`\n",
      "  df_all[col+\"_trend\"] = result.trend\n",
      "C:\\Users\\karisma\\AppData\\Local\\Temp\\ipykernel_1916\\1695346669.py:169: PerformanceWarning: DataFrame is highly fragmented.  This is usually the result of calling `frame.insert` many times, which has poor performance.  Consider joining all columns at once using pd.concat(axis=1) instead. To get a de-fragmented frame, use `newframe = frame.copy()`\n",
      "  df_all[col+\"_season\"] = result.seasonal\n",
      "C:\\Users\\karisma\\AppData\\Local\\Temp\\ipykernel_1916\\1695346669.py:170: PerformanceWarning: DataFrame is highly fragmented.  This is usually the result of calling `frame.insert` many times, which has poor performance.  Consider joining all columns at once using pd.concat(axis=1) instead. To get a de-fragmented frame, use `newframe = frame.copy()`\n",
      "  df_all[col+\"_residual\"] = result.resid\n",
      "C:\\Users\\karisma\\AppData\\Local\\Temp\\ipykernel_1916\\1695346669.py:168: PerformanceWarning: DataFrame is highly fragmented.  This is usually the result of calling `frame.insert` many times, which has poor performance.  Consider joining all columns at once using pd.concat(axis=1) instead. To get a de-fragmented frame, use `newframe = frame.copy()`\n",
      "  df_all[col+\"_trend\"] = result.trend\n",
      "C:\\Users\\karisma\\AppData\\Local\\Temp\\ipykernel_1916\\1695346669.py:169: PerformanceWarning: DataFrame is highly fragmented.  This is usually the result of calling `frame.insert` many times, which has poor performance.  Consider joining all columns at once using pd.concat(axis=1) instead. To get a de-fragmented frame, use `newframe = frame.copy()`\n",
      "  df_all[col+\"_season\"] = result.seasonal\n",
      "C:\\Users\\karisma\\AppData\\Local\\Temp\\ipykernel_1916\\1695346669.py:170: PerformanceWarning: DataFrame is highly fragmented.  This is usually the result of calling `frame.insert` many times, which has poor performance.  Consider joining all columns at once using pd.concat(axis=1) instead. To get a de-fragmented frame, use `newframe = frame.copy()`\n",
      "  df_all[col+\"_residual\"] = result.resid\n",
      "C:\\Users\\karisma\\AppData\\Local\\Temp\\ipykernel_1916\\1695346669.py:168: PerformanceWarning: DataFrame is highly fragmented.  This is usually the result of calling `frame.insert` many times, which has poor performance.  Consider joining all columns at once using pd.concat(axis=1) instead. To get a de-fragmented frame, use `newframe = frame.copy()`\n",
      "  df_all[col+\"_trend\"] = result.trend\n",
      "C:\\Users\\karisma\\AppData\\Local\\Temp\\ipykernel_1916\\1695346669.py:169: PerformanceWarning: DataFrame is highly fragmented.  This is usually the result of calling `frame.insert` many times, which has poor performance.  Consider joining all columns at once using pd.concat(axis=1) instead. To get a de-fragmented frame, use `newframe = frame.copy()`\n",
      "  df_all[col+\"_season\"] = result.seasonal\n",
      "C:\\Users\\karisma\\AppData\\Local\\Temp\\ipykernel_1916\\1695346669.py:170: PerformanceWarning: DataFrame is highly fragmented.  This is usually the result of calling `frame.insert` many times, which has poor performance.  Consider joining all columns at once using pd.concat(axis=1) instead. To get a de-fragmented frame, use `newframe = frame.copy()`\n",
      "  df_all[col+\"_residual\"] = result.resid\n",
      "C:\\Users\\karisma\\AppData\\Local\\Temp\\ipykernel_1916\\1695346669.py:168: PerformanceWarning: DataFrame is highly fragmented.  This is usually the result of calling `frame.insert` many times, which has poor performance.  Consider joining all columns at once using pd.concat(axis=1) instead. To get a de-fragmented frame, use `newframe = frame.copy()`\n",
      "  df_all[col+\"_trend\"] = result.trend\n",
      "C:\\Users\\karisma\\AppData\\Local\\Temp\\ipykernel_1916\\1695346669.py:169: PerformanceWarning: DataFrame is highly fragmented.  This is usually the result of calling `frame.insert` many times, which has poor performance.  Consider joining all columns at once using pd.concat(axis=1) instead. To get a de-fragmented frame, use `newframe = frame.copy()`\n",
      "  df_all[col+\"_season\"] = result.seasonal\n",
      "C:\\Users\\karisma\\AppData\\Local\\Temp\\ipykernel_1916\\1695346669.py:170: PerformanceWarning: DataFrame is highly fragmented.  This is usually the result of calling `frame.insert` many times, which has poor performance.  Consider joining all columns at once using pd.concat(axis=1) instead. To get a de-fragmented frame, use `newframe = frame.copy()`\n",
      "  df_all[col+\"_residual\"] = result.resid\n",
      "C:\\Users\\karisma\\AppData\\Local\\Temp\\ipykernel_1916\\1695346669.py:168: PerformanceWarning: DataFrame is highly fragmented.  This is usually the result of calling `frame.insert` many times, which has poor performance.  Consider joining all columns at once using pd.concat(axis=1) instead. To get a de-fragmented frame, use `newframe = frame.copy()`\n",
      "  df_all[col+\"_trend\"] = result.trend\n",
      "C:\\Users\\karisma\\AppData\\Local\\Temp\\ipykernel_1916\\1695346669.py:169: PerformanceWarning: DataFrame is highly fragmented.  This is usually the result of calling `frame.insert` many times, which has poor performance.  Consider joining all columns at once using pd.concat(axis=1) instead. To get a de-fragmented frame, use `newframe = frame.copy()`\n",
      "  df_all[col+\"_season\"] = result.seasonal\n",
      "C:\\Users\\karisma\\AppData\\Local\\Temp\\ipykernel_1916\\1695346669.py:170: PerformanceWarning: DataFrame is highly fragmented.  This is usually the result of calling `frame.insert` many times, which has poor performance.  Consider joining all columns at once using pd.concat(axis=1) instead. To get a de-fragmented frame, use `newframe = frame.copy()`\n",
      "  df_all[col+\"_residual\"] = result.resid\n",
      "C:\\Users\\karisma\\AppData\\Local\\Temp\\ipykernel_1916\\1695346669.py:168: PerformanceWarning: DataFrame is highly fragmented.  This is usually the result of calling `frame.insert` many times, which has poor performance.  Consider joining all columns at once using pd.concat(axis=1) instead. To get a de-fragmented frame, use `newframe = frame.copy()`\n",
      "  df_all[col+\"_trend\"] = result.trend\n",
      "C:\\Users\\karisma\\AppData\\Local\\Temp\\ipykernel_1916\\1695346669.py:169: PerformanceWarning: DataFrame is highly fragmented.  This is usually the result of calling `frame.insert` many times, which has poor performance.  Consider joining all columns at once using pd.concat(axis=1) instead. To get a de-fragmented frame, use `newframe = frame.copy()`\n",
      "  df_all[col+\"_season\"] = result.seasonal\n",
      "C:\\Users\\karisma\\AppData\\Local\\Temp\\ipykernel_1916\\1695346669.py:170: PerformanceWarning: DataFrame is highly fragmented.  This is usually the result of calling `frame.insert` many times, which has poor performance.  Consider joining all columns at once using pd.concat(axis=1) instead. To get a de-fragmented frame, use `newframe = frame.copy()`\n",
      "  df_all[col+\"_residual\"] = result.resid\n",
      "C:\\Users\\karisma\\AppData\\Local\\Temp\\ipykernel_1916\\1695346669.py:168: PerformanceWarning: DataFrame is highly fragmented.  This is usually the result of calling `frame.insert` many times, which has poor performance.  Consider joining all columns at once using pd.concat(axis=1) instead. To get a de-fragmented frame, use `newframe = frame.copy()`\n",
      "  df_all[col+\"_trend\"] = result.trend\n",
      "C:\\Users\\karisma\\AppData\\Local\\Temp\\ipykernel_1916\\1695346669.py:169: PerformanceWarning: DataFrame is highly fragmented.  This is usually the result of calling `frame.insert` many times, which has poor performance.  Consider joining all columns at once using pd.concat(axis=1) instead. To get a de-fragmented frame, use `newframe = frame.copy()`\n",
      "  df_all[col+\"_season\"] = result.seasonal\n",
      "C:\\Users\\karisma\\AppData\\Local\\Temp\\ipykernel_1916\\1695346669.py:170: PerformanceWarning: DataFrame is highly fragmented.  This is usually the result of calling `frame.insert` many times, which has poor performance.  Consider joining all columns at once using pd.concat(axis=1) instead. To get a de-fragmented frame, use `newframe = frame.copy()`\n",
      "  df_all[col+\"_residual\"] = result.resid\n",
      "C:\\Users\\karisma\\AppData\\Local\\Temp\\ipykernel_1916\\1695346669.py:168: PerformanceWarning: DataFrame is highly fragmented.  This is usually the result of calling `frame.insert` many times, which has poor performance.  Consider joining all columns at once using pd.concat(axis=1) instead. To get a de-fragmented frame, use `newframe = frame.copy()`\n",
      "  df_all[col+\"_trend\"] = result.trend\n",
      "C:\\Users\\karisma\\AppData\\Local\\Temp\\ipykernel_1916\\1695346669.py:169: PerformanceWarning: DataFrame is highly fragmented.  This is usually the result of calling `frame.insert` many times, which has poor performance.  Consider joining all columns at once using pd.concat(axis=1) instead. To get a de-fragmented frame, use `newframe = frame.copy()`\n",
      "  df_all[col+\"_season\"] = result.seasonal\n",
      "C:\\Users\\karisma\\AppData\\Local\\Temp\\ipykernel_1916\\1695346669.py:170: PerformanceWarning: DataFrame is highly fragmented.  This is usually the result of calling `frame.insert` many times, which has poor performance.  Consider joining all columns at once using pd.concat(axis=1) instead. To get a de-fragmented frame, use `newframe = frame.copy()`\n",
      "  df_all[col+\"_residual\"] = result.resid\n",
      "C:\\Users\\karisma\\AppData\\Local\\Temp\\ipykernel_1916\\1695346669.py:168: PerformanceWarning: DataFrame is highly fragmented.  This is usually the result of calling `frame.insert` many times, which has poor performance.  Consider joining all columns at once using pd.concat(axis=1) instead. To get a de-fragmented frame, use `newframe = frame.copy()`\n",
      "  df_all[col+\"_trend\"] = result.trend\n",
      "C:\\Users\\karisma\\AppData\\Local\\Temp\\ipykernel_1916\\1695346669.py:169: PerformanceWarning: DataFrame is highly fragmented.  This is usually the result of calling `frame.insert` many times, which has poor performance.  Consider joining all columns at once using pd.concat(axis=1) instead. To get a de-fragmented frame, use `newframe = frame.copy()`\n",
      "  df_all[col+\"_season\"] = result.seasonal\n",
      "C:\\Users\\karisma\\AppData\\Local\\Temp\\ipykernel_1916\\1695346669.py:170: PerformanceWarning: DataFrame is highly fragmented.  This is usually the result of calling `frame.insert` many times, which has poor performance.  Consider joining all columns at once using pd.concat(axis=1) instead. To get a de-fragmented frame, use `newframe = frame.copy()`\n",
      "  df_all[col+\"_residual\"] = result.resid\n",
      "C:\\Users\\karisma\\AppData\\Local\\Temp\\ipykernel_1916\\1695346669.py:168: PerformanceWarning: DataFrame is highly fragmented.  This is usually the result of calling `frame.insert` many times, which has poor performance.  Consider joining all columns at once using pd.concat(axis=1) instead. To get a de-fragmented frame, use `newframe = frame.copy()`\n",
      "  df_all[col+\"_trend\"] = result.trend\n",
      "C:\\Users\\karisma\\AppData\\Local\\Temp\\ipykernel_1916\\1695346669.py:169: PerformanceWarning: DataFrame is highly fragmented.  This is usually the result of calling `frame.insert` many times, which has poor performance.  Consider joining all columns at once using pd.concat(axis=1) instead. To get a de-fragmented frame, use `newframe = frame.copy()`\n",
      "  df_all[col+\"_season\"] = result.seasonal\n",
      "C:\\Users\\karisma\\AppData\\Local\\Temp\\ipykernel_1916\\1695346669.py:170: PerformanceWarning: DataFrame is highly fragmented.  This is usually the result of calling `frame.insert` many times, which has poor performance.  Consider joining all columns at once using pd.concat(axis=1) instead. To get a de-fragmented frame, use `newframe = frame.copy()`\n",
      "  df_all[col+\"_residual\"] = result.resid\n"
     ]
    },
    {
     "name": "stdout",
     "output_type": "stream",
     "text": [
      "STL Decomposition done.\n",
      "STL Decomposition plots saved\n",
      "Klingenberg\n",
      "Index(['date', 'H_F_MDS', 'LE_F_MDS', 'LW_IN_F', 'PA_F', 'P_F', 'SW_IN_F',\n",
      "       'TA_F', 'VPD_F', 'WS_F', 'NEE_VUT_USTAR50_DAY', 'RECO_DT_VUT_USTAR50',\n",
      "       'GPP_DT_VUT_USTAR50', 'NDVI', 'EVI', 'EVI2', 'CLr', 'MNDVI', 'MNDWI',\n",
      "       'LSWI', 'NDII', 'B1', 'B2', 'B3', 'B4', 'B5', 'B6', 'B7', 'B8', 'B8A',\n",
      "       'B9', 'B11', 'B12', 'latitude', 'longitude', 'elevation',\n",
      "       'canopy_height', 'instrument_height', 'month', 'day', '_fall',\n",
      "       '_spring', '_summer', '_winter'],\n",
      "      dtype='object')\n"
     ]
    },
    {
     "name": "stderr",
     "output_type": "stream",
     "text": [
      "C:\\Users\\karisma\\AppData\\Local\\Temp\\ipykernel_1916\\1695346669.py:170: PerformanceWarning: DataFrame is highly fragmented.  This is usually the result of calling `frame.insert` many times, which has poor performance.  Consider joining all columns at once using pd.concat(axis=1) instead. To get a de-fragmented frame, use `newframe = frame.copy()`\n",
      "  df_all[col+\"_residual\"] = result.resid\n",
      "C:\\Users\\karisma\\AppData\\Local\\Temp\\ipykernel_1916\\1695346669.py:168: PerformanceWarning: DataFrame is highly fragmented.  This is usually the result of calling `frame.insert` many times, which has poor performance.  Consider joining all columns at once using pd.concat(axis=1) instead. To get a de-fragmented frame, use `newframe = frame.copy()`\n",
      "  df_all[col+\"_trend\"] = result.trend\n",
      "C:\\Users\\karisma\\AppData\\Local\\Temp\\ipykernel_1916\\1695346669.py:169: PerformanceWarning: DataFrame is highly fragmented.  This is usually the result of calling `frame.insert` many times, which has poor performance.  Consider joining all columns at once using pd.concat(axis=1) instead. To get a de-fragmented frame, use `newframe = frame.copy()`\n",
      "  df_all[col+\"_season\"] = result.seasonal\n",
      "C:\\Users\\karisma\\AppData\\Local\\Temp\\ipykernel_1916\\1695346669.py:170: PerformanceWarning: DataFrame is highly fragmented.  This is usually the result of calling `frame.insert` many times, which has poor performance.  Consider joining all columns at once using pd.concat(axis=1) instead. To get a de-fragmented frame, use `newframe = frame.copy()`\n",
      "  df_all[col+\"_residual\"] = result.resid\n",
      "C:\\Users\\karisma\\AppData\\Local\\Temp\\ipykernel_1916\\1695346669.py:168: PerformanceWarning: DataFrame is highly fragmented.  This is usually the result of calling `frame.insert` many times, which has poor performance.  Consider joining all columns at once using pd.concat(axis=1) instead. To get a de-fragmented frame, use `newframe = frame.copy()`\n",
      "  df_all[col+\"_trend\"] = result.trend\n",
      "C:\\Users\\karisma\\AppData\\Local\\Temp\\ipykernel_1916\\1695346669.py:169: PerformanceWarning: DataFrame is highly fragmented.  This is usually the result of calling `frame.insert` many times, which has poor performance.  Consider joining all columns at once using pd.concat(axis=1) instead. To get a de-fragmented frame, use `newframe = frame.copy()`\n",
      "  df_all[col+\"_season\"] = result.seasonal\n",
      "C:\\Users\\karisma\\AppData\\Local\\Temp\\ipykernel_1916\\1695346669.py:170: PerformanceWarning: DataFrame is highly fragmented.  This is usually the result of calling `frame.insert` many times, which has poor performance.  Consider joining all columns at once using pd.concat(axis=1) instead. To get a de-fragmented frame, use `newframe = frame.copy()`\n",
      "  df_all[col+\"_residual\"] = result.resid\n",
      "C:\\Users\\karisma\\AppData\\Local\\Temp\\ipykernel_1916\\1695346669.py:168: PerformanceWarning: DataFrame is highly fragmented.  This is usually the result of calling `frame.insert` many times, which has poor performance.  Consider joining all columns at once using pd.concat(axis=1) instead. To get a de-fragmented frame, use `newframe = frame.copy()`\n",
      "  df_all[col+\"_trend\"] = result.trend\n",
      "C:\\Users\\karisma\\AppData\\Local\\Temp\\ipykernel_1916\\1695346669.py:169: PerformanceWarning: DataFrame is highly fragmented.  This is usually the result of calling `frame.insert` many times, which has poor performance.  Consider joining all columns at once using pd.concat(axis=1) instead. To get a de-fragmented frame, use `newframe = frame.copy()`\n",
      "  df_all[col+\"_season\"] = result.seasonal\n",
      "C:\\Users\\karisma\\AppData\\Local\\Temp\\ipykernel_1916\\1695346669.py:170: PerformanceWarning: DataFrame is highly fragmented.  This is usually the result of calling `frame.insert` many times, which has poor performance.  Consider joining all columns at once using pd.concat(axis=1) instead. To get a de-fragmented frame, use `newframe = frame.copy()`\n",
      "  df_all[col+\"_residual\"] = result.resid\n",
      "C:\\Users\\karisma\\AppData\\Local\\Temp\\ipykernel_1916\\1695346669.py:168: PerformanceWarning: DataFrame is highly fragmented.  This is usually the result of calling `frame.insert` many times, which has poor performance.  Consider joining all columns at once using pd.concat(axis=1) instead. To get a de-fragmented frame, use `newframe = frame.copy()`\n",
      "  df_all[col+\"_trend\"] = result.trend\n",
      "C:\\Users\\karisma\\AppData\\Local\\Temp\\ipykernel_1916\\1695346669.py:169: PerformanceWarning: DataFrame is highly fragmented.  This is usually the result of calling `frame.insert` many times, which has poor performance.  Consider joining all columns at once using pd.concat(axis=1) instead. To get a de-fragmented frame, use `newframe = frame.copy()`\n",
      "  df_all[col+\"_season\"] = result.seasonal\n",
      "C:\\Users\\karisma\\AppData\\Local\\Temp\\ipykernel_1916\\1695346669.py:170: PerformanceWarning: DataFrame is highly fragmented.  This is usually the result of calling `frame.insert` many times, which has poor performance.  Consider joining all columns at once using pd.concat(axis=1) instead. To get a de-fragmented frame, use `newframe = frame.copy()`\n",
      "  df_all[col+\"_residual\"] = result.resid\n",
      "C:\\Users\\karisma\\AppData\\Local\\Temp\\ipykernel_1916\\1695346669.py:168: PerformanceWarning: DataFrame is highly fragmented.  This is usually the result of calling `frame.insert` many times, which has poor performance.  Consider joining all columns at once using pd.concat(axis=1) instead. To get a de-fragmented frame, use `newframe = frame.copy()`\n",
      "  df_all[col+\"_trend\"] = result.trend\n",
      "C:\\Users\\karisma\\AppData\\Local\\Temp\\ipykernel_1916\\1695346669.py:169: PerformanceWarning: DataFrame is highly fragmented.  This is usually the result of calling `frame.insert` many times, which has poor performance.  Consider joining all columns at once using pd.concat(axis=1) instead. To get a de-fragmented frame, use `newframe = frame.copy()`\n",
      "  df_all[col+\"_season\"] = result.seasonal\n",
      "C:\\Users\\karisma\\AppData\\Local\\Temp\\ipykernel_1916\\1695346669.py:170: PerformanceWarning: DataFrame is highly fragmented.  This is usually the result of calling `frame.insert` many times, which has poor performance.  Consider joining all columns at once using pd.concat(axis=1) instead. To get a de-fragmented frame, use `newframe = frame.copy()`\n",
      "  df_all[col+\"_residual\"] = result.resid\n",
      "C:\\Users\\karisma\\AppData\\Local\\Temp\\ipykernel_1916\\1695346669.py:168: PerformanceWarning: DataFrame is highly fragmented.  This is usually the result of calling `frame.insert` many times, which has poor performance.  Consider joining all columns at once using pd.concat(axis=1) instead. To get a de-fragmented frame, use `newframe = frame.copy()`\n",
      "  df_all[col+\"_trend\"] = result.trend\n",
      "C:\\Users\\karisma\\AppData\\Local\\Temp\\ipykernel_1916\\1695346669.py:169: PerformanceWarning: DataFrame is highly fragmented.  This is usually the result of calling `frame.insert` many times, which has poor performance.  Consider joining all columns at once using pd.concat(axis=1) instead. To get a de-fragmented frame, use `newframe = frame.copy()`\n",
      "  df_all[col+\"_season\"] = result.seasonal\n",
      "C:\\Users\\karisma\\AppData\\Local\\Temp\\ipykernel_1916\\1695346669.py:170: PerformanceWarning: DataFrame is highly fragmented.  This is usually the result of calling `frame.insert` many times, which has poor performance.  Consider joining all columns at once using pd.concat(axis=1) instead. To get a de-fragmented frame, use `newframe = frame.copy()`\n",
      "  df_all[col+\"_residual\"] = result.resid\n",
      "C:\\Users\\karisma\\AppData\\Local\\Temp\\ipykernel_1916\\1695346669.py:168: PerformanceWarning: DataFrame is highly fragmented.  This is usually the result of calling `frame.insert` many times, which has poor performance.  Consider joining all columns at once using pd.concat(axis=1) instead. To get a de-fragmented frame, use `newframe = frame.copy()`\n",
      "  df_all[col+\"_trend\"] = result.trend\n",
      "C:\\Users\\karisma\\AppData\\Local\\Temp\\ipykernel_1916\\1695346669.py:169: PerformanceWarning: DataFrame is highly fragmented.  This is usually the result of calling `frame.insert` many times, which has poor performance.  Consider joining all columns at once using pd.concat(axis=1) instead. To get a de-fragmented frame, use `newframe = frame.copy()`\n",
      "  df_all[col+\"_season\"] = result.seasonal\n",
      "C:\\Users\\karisma\\AppData\\Local\\Temp\\ipykernel_1916\\1695346669.py:170: PerformanceWarning: DataFrame is highly fragmented.  This is usually the result of calling `frame.insert` many times, which has poor performance.  Consider joining all columns at once using pd.concat(axis=1) instead. To get a de-fragmented frame, use `newframe = frame.copy()`\n",
      "  df_all[col+\"_residual\"] = result.resid\n",
      "C:\\Users\\karisma\\AppData\\Local\\Temp\\ipykernel_1916\\1695346669.py:168: PerformanceWarning: DataFrame is highly fragmented.  This is usually the result of calling `frame.insert` many times, which has poor performance.  Consider joining all columns at once using pd.concat(axis=1) instead. To get a de-fragmented frame, use `newframe = frame.copy()`\n",
      "  df_all[col+\"_trend\"] = result.trend\n",
      "C:\\Users\\karisma\\AppData\\Local\\Temp\\ipykernel_1916\\1695346669.py:169: PerformanceWarning: DataFrame is highly fragmented.  This is usually the result of calling `frame.insert` many times, which has poor performance.  Consider joining all columns at once using pd.concat(axis=1) instead. To get a de-fragmented frame, use `newframe = frame.copy()`\n",
      "  df_all[col+\"_season\"] = result.seasonal\n",
      "C:\\Users\\karisma\\AppData\\Local\\Temp\\ipykernel_1916\\1695346669.py:170: PerformanceWarning: DataFrame is highly fragmented.  This is usually the result of calling `frame.insert` many times, which has poor performance.  Consider joining all columns at once using pd.concat(axis=1) instead. To get a de-fragmented frame, use `newframe = frame.copy()`\n",
      "  df_all[col+\"_residual\"] = result.resid\n",
      "C:\\Users\\karisma\\AppData\\Local\\Temp\\ipykernel_1916\\1695346669.py:168: PerformanceWarning: DataFrame is highly fragmented.  This is usually the result of calling `frame.insert` many times, which has poor performance.  Consider joining all columns at once using pd.concat(axis=1) instead. To get a de-fragmented frame, use `newframe = frame.copy()`\n",
      "  df_all[col+\"_trend\"] = result.trend\n",
      "C:\\Users\\karisma\\AppData\\Local\\Temp\\ipykernel_1916\\1695346669.py:169: PerformanceWarning: DataFrame is highly fragmented.  This is usually the result of calling `frame.insert` many times, which has poor performance.  Consider joining all columns at once using pd.concat(axis=1) instead. To get a de-fragmented frame, use `newframe = frame.copy()`\n",
      "  df_all[col+\"_season\"] = result.seasonal\n",
      "C:\\Users\\karisma\\AppData\\Local\\Temp\\ipykernel_1916\\1695346669.py:170: PerformanceWarning: DataFrame is highly fragmented.  This is usually the result of calling `frame.insert` many times, which has poor performance.  Consider joining all columns at once using pd.concat(axis=1) instead. To get a de-fragmented frame, use `newframe = frame.copy()`\n",
      "  df_all[col+\"_residual\"] = result.resid\n",
      "C:\\Users\\karisma\\AppData\\Local\\Temp\\ipykernel_1916\\1695346669.py:168: PerformanceWarning: DataFrame is highly fragmented.  This is usually the result of calling `frame.insert` many times, which has poor performance.  Consider joining all columns at once using pd.concat(axis=1) instead. To get a de-fragmented frame, use `newframe = frame.copy()`\n",
      "  df_all[col+\"_trend\"] = result.trend\n",
      "C:\\Users\\karisma\\AppData\\Local\\Temp\\ipykernel_1916\\1695346669.py:169: PerformanceWarning: DataFrame is highly fragmented.  This is usually the result of calling `frame.insert` many times, which has poor performance.  Consider joining all columns at once using pd.concat(axis=1) instead. To get a de-fragmented frame, use `newframe = frame.copy()`\n",
      "  df_all[col+\"_season\"] = result.seasonal\n",
      "C:\\Users\\karisma\\AppData\\Local\\Temp\\ipykernel_1916\\1695346669.py:170: PerformanceWarning: DataFrame is highly fragmented.  This is usually the result of calling `frame.insert` many times, which has poor performance.  Consider joining all columns at once using pd.concat(axis=1) instead. To get a de-fragmented frame, use `newframe = frame.copy()`\n",
      "  df_all[col+\"_residual\"] = result.resid\n",
      "C:\\Users\\karisma\\AppData\\Local\\Temp\\ipykernel_1916\\1695346669.py:168: PerformanceWarning: DataFrame is highly fragmented.  This is usually the result of calling `frame.insert` many times, which has poor performance.  Consider joining all columns at once using pd.concat(axis=1) instead. To get a de-fragmented frame, use `newframe = frame.copy()`\n",
      "  df_all[col+\"_trend\"] = result.trend\n",
      "C:\\Users\\karisma\\AppData\\Local\\Temp\\ipykernel_1916\\1695346669.py:169: PerformanceWarning: DataFrame is highly fragmented.  This is usually the result of calling `frame.insert` many times, which has poor performance.  Consider joining all columns at once using pd.concat(axis=1) instead. To get a de-fragmented frame, use `newframe = frame.copy()`\n",
      "  df_all[col+\"_season\"] = result.seasonal\n",
      "C:\\Users\\karisma\\AppData\\Local\\Temp\\ipykernel_1916\\1695346669.py:170: PerformanceWarning: DataFrame is highly fragmented.  This is usually the result of calling `frame.insert` many times, which has poor performance.  Consider joining all columns at once using pd.concat(axis=1) instead. To get a de-fragmented frame, use `newframe = frame.copy()`\n",
      "  df_all[col+\"_residual\"] = result.resid\n"
     ]
    },
    {
     "name": "stdout",
     "output_type": "stream",
     "text": [
      "STL Decomposition done.\n",
      "STL Decomposition plots saved\n",
      "Fontainebleau-Barbeau\n",
      "Index(['date', 'H_F_MDS', 'LE_F_MDS', 'LW_IN_F', 'PA_F', 'P_F', 'SW_IN_F',\n",
      "       'TA_F', 'VPD_F', 'WS_F', 'NEE_VUT_USTAR50_DAY', 'RECO_DT_VUT_USTAR50',\n",
      "       'GPP_DT_VUT_USTAR50', 'NDVI', 'EVI', 'EVI2', 'CLr', 'MNDVI', 'MNDWI',\n",
      "       'LSWI', 'NDII', 'B1', 'B2', 'B3', 'B4', 'B5', 'B6', 'B7', 'B8', 'B8A',\n",
      "       'B9', 'B11', 'B12', 'latitude', 'longitude', 'elevation',\n",
      "       'canopy_height', 'instrument_height', 'month', 'day', '_fall',\n",
      "       '_spring', '_summer', '_winter'],\n",
      "      dtype='object')\n"
     ]
    },
    {
     "name": "stderr",
     "output_type": "stream",
     "text": [
      "C:\\Users\\karisma\\AppData\\Local\\Temp\\ipykernel_1916\\1695346669.py:170: PerformanceWarning: DataFrame is highly fragmented.  This is usually the result of calling `frame.insert` many times, which has poor performance.  Consider joining all columns at once using pd.concat(axis=1) instead. To get a de-fragmented frame, use `newframe = frame.copy()`\n",
      "  df_all[col+\"_residual\"] = result.resid\n",
      "C:\\Users\\karisma\\AppData\\Local\\Temp\\ipykernel_1916\\1695346669.py:168: PerformanceWarning: DataFrame is highly fragmented.  This is usually the result of calling `frame.insert` many times, which has poor performance.  Consider joining all columns at once using pd.concat(axis=1) instead. To get a de-fragmented frame, use `newframe = frame.copy()`\n",
      "  df_all[col+\"_trend\"] = result.trend\n",
      "C:\\Users\\karisma\\AppData\\Local\\Temp\\ipykernel_1916\\1695346669.py:169: PerformanceWarning: DataFrame is highly fragmented.  This is usually the result of calling `frame.insert` many times, which has poor performance.  Consider joining all columns at once using pd.concat(axis=1) instead. To get a de-fragmented frame, use `newframe = frame.copy()`\n",
      "  df_all[col+\"_season\"] = result.seasonal\n",
      "C:\\Users\\karisma\\AppData\\Local\\Temp\\ipykernel_1916\\1695346669.py:170: PerformanceWarning: DataFrame is highly fragmented.  This is usually the result of calling `frame.insert` many times, which has poor performance.  Consider joining all columns at once using pd.concat(axis=1) instead. To get a de-fragmented frame, use `newframe = frame.copy()`\n",
      "  df_all[col+\"_residual\"] = result.resid\n",
      "C:\\Users\\karisma\\AppData\\Local\\Temp\\ipykernel_1916\\1695346669.py:168: PerformanceWarning: DataFrame is highly fragmented.  This is usually the result of calling `frame.insert` many times, which has poor performance.  Consider joining all columns at once using pd.concat(axis=1) instead. To get a de-fragmented frame, use `newframe = frame.copy()`\n",
      "  df_all[col+\"_trend\"] = result.trend\n",
      "C:\\Users\\karisma\\AppData\\Local\\Temp\\ipykernel_1916\\1695346669.py:169: PerformanceWarning: DataFrame is highly fragmented.  This is usually the result of calling `frame.insert` many times, which has poor performance.  Consider joining all columns at once using pd.concat(axis=1) instead. To get a de-fragmented frame, use `newframe = frame.copy()`\n",
      "  df_all[col+\"_season\"] = result.seasonal\n",
      "C:\\Users\\karisma\\AppData\\Local\\Temp\\ipykernel_1916\\1695346669.py:170: PerformanceWarning: DataFrame is highly fragmented.  This is usually the result of calling `frame.insert` many times, which has poor performance.  Consider joining all columns at once using pd.concat(axis=1) instead. To get a de-fragmented frame, use `newframe = frame.copy()`\n",
      "  df_all[col+\"_residual\"] = result.resid\n",
      "C:\\Users\\karisma\\AppData\\Local\\Temp\\ipykernel_1916\\1695346669.py:168: PerformanceWarning: DataFrame is highly fragmented.  This is usually the result of calling `frame.insert` many times, which has poor performance.  Consider joining all columns at once using pd.concat(axis=1) instead. To get a de-fragmented frame, use `newframe = frame.copy()`\n",
      "  df_all[col+\"_trend\"] = result.trend\n",
      "C:\\Users\\karisma\\AppData\\Local\\Temp\\ipykernel_1916\\1695346669.py:169: PerformanceWarning: DataFrame is highly fragmented.  This is usually the result of calling `frame.insert` many times, which has poor performance.  Consider joining all columns at once using pd.concat(axis=1) instead. To get a de-fragmented frame, use `newframe = frame.copy()`\n",
      "  df_all[col+\"_season\"] = result.seasonal\n",
      "C:\\Users\\karisma\\AppData\\Local\\Temp\\ipykernel_1916\\1695346669.py:170: PerformanceWarning: DataFrame is highly fragmented.  This is usually the result of calling `frame.insert` many times, which has poor performance.  Consider joining all columns at once using pd.concat(axis=1) instead. To get a de-fragmented frame, use `newframe = frame.copy()`\n",
      "  df_all[col+\"_residual\"] = result.resid\n",
      "C:\\Users\\karisma\\AppData\\Local\\Temp\\ipykernel_1916\\1695346669.py:168: PerformanceWarning: DataFrame is highly fragmented.  This is usually the result of calling `frame.insert` many times, which has poor performance.  Consider joining all columns at once using pd.concat(axis=1) instead. To get a de-fragmented frame, use `newframe = frame.copy()`\n",
      "  df_all[col+\"_trend\"] = result.trend\n",
      "C:\\Users\\karisma\\AppData\\Local\\Temp\\ipykernel_1916\\1695346669.py:169: PerformanceWarning: DataFrame is highly fragmented.  This is usually the result of calling `frame.insert` many times, which has poor performance.  Consider joining all columns at once using pd.concat(axis=1) instead. To get a de-fragmented frame, use `newframe = frame.copy()`\n",
      "  df_all[col+\"_season\"] = result.seasonal\n",
      "C:\\Users\\karisma\\AppData\\Local\\Temp\\ipykernel_1916\\1695346669.py:170: PerformanceWarning: DataFrame is highly fragmented.  This is usually the result of calling `frame.insert` many times, which has poor performance.  Consider joining all columns at once using pd.concat(axis=1) instead. To get a de-fragmented frame, use `newframe = frame.copy()`\n",
      "  df_all[col+\"_residual\"] = result.resid\n",
      "C:\\Users\\karisma\\AppData\\Local\\Temp\\ipykernel_1916\\1695346669.py:168: PerformanceWarning: DataFrame is highly fragmented.  This is usually the result of calling `frame.insert` many times, which has poor performance.  Consider joining all columns at once using pd.concat(axis=1) instead. To get a de-fragmented frame, use `newframe = frame.copy()`\n",
      "  df_all[col+\"_trend\"] = result.trend\n",
      "C:\\Users\\karisma\\AppData\\Local\\Temp\\ipykernel_1916\\1695346669.py:169: PerformanceWarning: DataFrame is highly fragmented.  This is usually the result of calling `frame.insert` many times, which has poor performance.  Consider joining all columns at once using pd.concat(axis=1) instead. To get a de-fragmented frame, use `newframe = frame.copy()`\n",
      "  df_all[col+\"_season\"] = result.seasonal\n",
      "C:\\Users\\karisma\\AppData\\Local\\Temp\\ipykernel_1916\\1695346669.py:170: PerformanceWarning: DataFrame is highly fragmented.  This is usually the result of calling `frame.insert` many times, which has poor performance.  Consider joining all columns at once using pd.concat(axis=1) instead. To get a de-fragmented frame, use `newframe = frame.copy()`\n",
      "  df_all[col+\"_residual\"] = result.resid\n",
      "C:\\Users\\karisma\\AppData\\Local\\Temp\\ipykernel_1916\\1695346669.py:168: PerformanceWarning: DataFrame is highly fragmented.  This is usually the result of calling `frame.insert` many times, which has poor performance.  Consider joining all columns at once using pd.concat(axis=1) instead. To get a de-fragmented frame, use `newframe = frame.copy()`\n",
      "  df_all[col+\"_trend\"] = result.trend\n",
      "C:\\Users\\karisma\\AppData\\Local\\Temp\\ipykernel_1916\\1695346669.py:169: PerformanceWarning: DataFrame is highly fragmented.  This is usually the result of calling `frame.insert` many times, which has poor performance.  Consider joining all columns at once using pd.concat(axis=1) instead. To get a de-fragmented frame, use `newframe = frame.copy()`\n",
      "  df_all[col+\"_season\"] = result.seasonal\n",
      "C:\\Users\\karisma\\AppData\\Local\\Temp\\ipykernel_1916\\1695346669.py:170: PerformanceWarning: DataFrame is highly fragmented.  This is usually the result of calling `frame.insert` many times, which has poor performance.  Consider joining all columns at once using pd.concat(axis=1) instead. To get a de-fragmented frame, use `newframe = frame.copy()`\n",
      "  df_all[col+\"_residual\"] = result.resid\n",
      "C:\\Users\\karisma\\AppData\\Local\\Temp\\ipykernel_1916\\1695346669.py:168: PerformanceWarning: DataFrame is highly fragmented.  This is usually the result of calling `frame.insert` many times, which has poor performance.  Consider joining all columns at once using pd.concat(axis=1) instead. To get a de-fragmented frame, use `newframe = frame.copy()`\n",
      "  df_all[col+\"_trend\"] = result.trend\n",
      "C:\\Users\\karisma\\AppData\\Local\\Temp\\ipykernel_1916\\1695346669.py:169: PerformanceWarning: DataFrame is highly fragmented.  This is usually the result of calling `frame.insert` many times, which has poor performance.  Consider joining all columns at once using pd.concat(axis=1) instead. To get a de-fragmented frame, use `newframe = frame.copy()`\n",
      "  df_all[col+\"_season\"] = result.seasonal\n",
      "C:\\Users\\karisma\\AppData\\Local\\Temp\\ipykernel_1916\\1695346669.py:170: PerformanceWarning: DataFrame is highly fragmented.  This is usually the result of calling `frame.insert` many times, which has poor performance.  Consider joining all columns at once using pd.concat(axis=1) instead. To get a de-fragmented frame, use `newframe = frame.copy()`\n",
      "  df_all[col+\"_residual\"] = result.resid\n",
      "C:\\Users\\karisma\\AppData\\Local\\Temp\\ipykernel_1916\\1695346669.py:168: PerformanceWarning: DataFrame is highly fragmented.  This is usually the result of calling `frame.insert` many times, which has poor performance.  Consider joining all columns at once using pd.concat(axis=1) instead. To get a de-fragmented frame, use `newframe = frame.copy()`\n",
      "  df_all[col+\"_trend\"] = result.trend\n",
      "C:\\Users\\karisma\\AppData\\Local\\Temp\\ipykernel_1916\\1695346669.py:169: PerformanceWarning: DataFrame is highly fragmented.  This is usually the result of calling `frame.insert` many times, which has poor performance.  Consider joining all columns at once using pd.concat(axis=1) instead. To get a de-fragmented frame, use `newframe = frame.copy()`\n",
      "  df_all[col+\"_season\"] = result.seasonal\n",
      "C:\\Users\\karisma\\AppData\\Local\\Temp\\ipykernel_1916\\1695346669.py:170: PerformanceWarning: DataFrame is highly fragmented.  This is usually the result of calling `frame.insert` many times, which has poor performance.  Consider joining all columns at once using pd.concat(axis=1) instead. To get a de-fragmented frame, use `newframe = frame.copy()`\n",
      "  df_all[col+\"_residual\"] = result.resid\n",
      "C:\\Users\\karisma\\AppData\\Local\\Temp\\ipykernel_1916\\1695346669.py:168: PerformanceWarning: DataFrame is highly fragmented.  This is usually the result of calling `frame.insert` many times, which has poor performance.  Consider joining all columns at once using pd.concat(axis=1) instead. To get a de-fragmented frame, use `newframe = frame.copy()`\n",
      "  df_all[col+\"_trend\"] = result.trend\n",
      "C:\\Users\\karisma\\AppData\\Local\\Temp\\ipykernel_1916\\1695346669.py:169: PerformanceWarning: DataFrame is highly fragmented.  This is usually the result of calling `frame.insert` many times, which has poor performance.  Consider joining all columns at once using pd.concat(axis=1) instead. To get a de-fragmented frame, use `newframe = frame.copy()`\n",
      "  df_all[col+\"_season\"] = result.seasonal\n",
      "C:\\Users\\karisma\\AppData\\Local\\Temp\\ipykernel_1916\\1695346669.py:170: PerformanceWarning: DataFrame is highly fragmented.  This is usually the result of calling `frame.insert` many times, which has poor performance.  Consider joining all columns at once using pd.concat(axis=1) instead. To get a de-fragmented frame, use `newframe = frame.copy()`\n",
      "  df_all[col+\"_residual\"] = result.resid\n",
      "C:\\Users\\karisma\\AppData\\Local\\Temp\\ipykernel_1916\\1695346669.py:168: PerformanceWarning: DataFrame is highly fragmented.  This is usually the result of calling `frame.insert` many times, which has poor performance.  Consider joining all columns at once using pd.concat(axis=1) instead. To get a de-fragmented frame, use `newframe = frame.copy()`\n",
      "  df_all[col+\"_trend\"] = result.trend\n",
      "C:\\Users\\karisma\\AppData\\Local\\Temp\\ipykernel_1916\\1695346669.py:169: PerformanceWarning: DataFrame is highly fragmented.  This is usually the result of calling `frame.insert` many times, which has poor performance.  Consider joining all columns at once using pd.concat(axis=1) instead. To get a de-fragmented frame, use `newframe = frame.copy()`\n",
      "  df_all[col+\"_season\"] = result.seasonal\n",
      "C:\\Users\\karisma\\AppData\\Local\\Temp\\ipykernel_1916\\1695346669.py:170: PerformanceWarning: DataFrame is highly fragmented.  This is usually the result of calling `frame.insert` many times, which has poor performance.  Consider joining all columns at once using pd.concat(axis=1) instead. To get a de-fragmented frame, use `newframe = frame.copy()`\n",
      "  df_all[col+\"_residual\"] = result.resid\n",
      "C:\\Users\\karisma\\AppData\\Local\\Temp\\ipykernel_1916\\1695346669.py:168: PerformanceWarning: DataFrame is highly fragmented.  This is usually the result of calling `frame.insert` many times, which has poor performance.  Consider joining all columns at once using pd.concat(axis=1) instead. To get a de-fragmented frame, use `newframe = frame.copy()`\n",
      "  df_all[col+\"_trend\"] = result.trend\n",
      "C:\\Users\\karisma\\AppData\\Local\\Temp\\ipykernel_1916\\1695346669.py:169: PerformanceWarning: DataFrame is highly fragmented.  This is usually the result of calling `frame.insert` many times, which has poor performance.  Consider joining all columns at once using pd.concat(axis=1) instead. To get a de-fragmented frame, use `newframe = frame.copy()`\n",
      "  df_all[col+\"_season\"] = result.seasonal\n",
      "C:\\Users\\karisma\\AppData\\Local\\Temp\\ipykernel_1916\\1695346669.py:170: PerformanceWarning: DataFrame is highly fragmented.  This is usually the result of calling `frame.insert` many times, which has poor performance.  Consider joining all columns at once using pd.concat(axis=1) instead. To get a de-fragmented frame, use `newframe = frame.copy()`\n",
      "  df_all[col+\"_residual\"] = result.resid\n"
     ]
    },
    {
     "name": "stdout",
     "output_type": "stream",
     "text": [
      "STL Decomposition done.\n",
      "STL Decomposition plots saved\n",
      "Svartberget\n",
      "Index(['date', 'H_F_MDS', 'LE_F_MDS', 'LW_IN_F', 'PA_F', 'P_F', 'SW_IN_F',\n",
      "       'TA_F', 'VPD_F', 'WS_F', 'NEE_VUT_USTAR50_DAY', 'RECO_DT_VUT_USTAR50',\n",
      "       'GPP_DT_VUT_USTAR50', 'NDVI', 'EVI', 'EVI2', 'CLr', 'MNDVI', 'MNDWI',\n",
      "       'LSWI', 'NDII', 'B1', 'B2', 'B3', 'B4', 'B5', 'B6', 'B7', 'B8', 'B8A',\n",
      "       'B9', 'B11', 'B12', 'latitude', 'longitude', 'elevation',\n",
      "       'canopy_height', 'instrument_height', 'month', 'day', '_fall',\n",
      "       '_spring', '_summer', '_winter'],\n",
      "      dtype='object')\n"
     ]
    },
    {
     "name": "stderr",
     "output_type": "stream",
     "text": [
      "C:\\Users\\karisma\\AppData\\Local\\Temp\\ipykernel_1916\\1695346669.py:170: PerformanceWarning: DataFrame is highly fragmented.  This is usually the result of calling `frame.insert` many times, which has poor performance.  Consider joining all columns at once using pd.concat(axis=1) instead. To get a de-fragmented frame, use `newframe = frame.copy()`\n",
      "  df_all[col+\"_residual\"] = result.resid\n",
      "C:\\Users\\karisma\\AppData\\Local\\Temp\\ipykernel_1916\\1695346669.py:168: PerformanceWarning: DataFrame is highly fragmented.  This is usually the result of calling `frame.insert` many times, which has poor performance.  Consider joining all columns at once using pd.concat(axis=1) instead. To get a de-fragmented frame, use `newframe = frame.copy()`\n",
      "  df_all[col+\"_trend\"] = result.trend\n",
      "C:\\Users\\karisma\\AppData\\Local\\Temp\\ipykernel_1916\\1695346669.py:169: PerformanceWarning: DataFrame is highly fragmented.  This is usually the result of calling `frame.insert` many times, which has poor performance.  Consider joining all columns at once using pd.concat(axis=1) instead. To get a de-fragmented frame, use `newframe = frame.copy()`\n",
      "  df_all[col+\"_season\"] = result.seasonal\n",
      "C:\\Users\\karisma\\AppData\\Local\\Temp\\ipykernel_1916\\1695346669.py:170: PerformanceWarning: DataFrame is highly fragmented.  This is usually the result of calling `frame.insert` many times, which has poor performance.  Consider joining all columns at once using pd.concat(axis=1) instead. To get a de-fragmented frame, use `newframe = frame.copy()`\n",
      "  df_all[col+\"_residual\"] = result.resid\n",
      "C:\\Users\\karisma\\AppData\\Local\\Temp\\ipykernel_1916\\1695346669.py:168: PerformanceWarning: DataFrame is highly fragmented.  This is usually the result of calling `frame.insert` many times, which has poor performance.  Consider joining all columns at once using pd.concat(axis=1) instead. To get a de-fragmented frame, use `newframe = frame.copy()`\n",
      "  df_all[col+\"_trend\"] = result.trend\n",
      "C:\\Users\\karisma\\AppData\\Local\\Temp\\ipykernel_1916\\1695346669.py:169: PerformanceWarning: DataFrame is highly fragmented.  This is usually the result of calling `frame.insert` many times, which has poor performance.  Consider joining all columns at once using pd.concat(axis=1) instead. To get a de-fragmented frame, use `newframe = frame.copy()`\n",
      "  df_all[col+\"_season\"] = result.seasonal\n",
      "C:\\Users\\karisma\\AppData\\Local\\Temp\\ipykernel_1916\\1695346669.py:170: PerformanceWarning: DataFrame is highly fragmented.  This is usually the result of calling `frame.insert` many times, which has poor performance.  Consider joining all columns at once using pd.concat(axis=1) instead. To get a de-fragmented frame, use `newframe = frame.copy()`\n",
      "  df_all[col+\"_residual\"] = result.resid\n",
      "C:\\Users\\karisma\\AppData\\Local\\Temp\\ipykernel_1916\\1695346669.py:168: PerformanceWarning: DataFrame is highly fragmented.  This is usually the result of calling `frame.insert` many times, which has poor performance.  Consider joining all columns at once using pd.concat(axis=1) instead. To get a de-fragmented frame, use `newframe = frame.copy()`\n",
      "  df_all[col+\"_trend\"] = result.trend\n",
      "C:\\Users\\karisma\\AppData\\Local\\Temp\\ipykernel_1916\\1695346669.py:169: PerformanceWarning: DataFrame is highly fragmented.  This is usually the result of calling `frame.insert` many times, which has poor performance.  Consider joining all columns at once using pd.concat(axis=1) instead. To get a de-fragmented frame, use `newframe = frame.copy()`\n",
      "  df_all[col+\"_season\"] = result.seasonal\n",
      "C:\\Users\\karisma\\AppData\\Local\\Temp\\ipykernel_1916\\1695346669.py:170: PerformanceWarning: DataFrame is highly fragmented.  This is usually the result of calling `frame.insert` many times, which has poor performance.  Consider joining all columns at once using pd.concat(axis=1) instead. To get a de-fragmented frame, use `newframe = frame.copy()`\n",
      "  df_all[col+\"_residual\"] = result.resid\n",
      "C:\\Users\\karisma\\AppData\\Local\\Temp\\ipykernel_1916\\1695346669.py:168: PerformanceWarning: DataFrame is highly fragmented.  This is usually the result of calling `frame.insert` many times, which has poor performance.  Consider joining all columns at once using pd.concat(axis=1) instead. To get a de-fragmented frame, use `newframe = frame.copy()`\n",
      "  df_all[col+\"_trend\"] = result.trend\n",
      "C:\\Users\\karisma\\AppData\\Local\\Temp\\ipykernel_1916\\1695346669.py:169: PerformanceWarning: DataFrame is highly fragmented.  This is usually the result of calling `frame.insert` many times, which has poor performance.  Consider joining all columns at once using pd.concat(axis=1) instead. To get a de-fragmented frame, use `newframe = frame.copy()`\n",
      "  df_all[col+\"_season\"] = result.seasonal\n",
      "C:\\Users\\karisma\\AppData\\Local\\Temp\\ipykernel_1916\\1695346669.py:170: PerformanceWarning: DataFrame is highly fragmented.  This is usually the result of calling `frame.insert` many times, which has poor performance.  Consider joining all columns at once using pd.concat(axis=1) instead. To get a de-fragmented frame, use `newframe = frame.copy()`\n",
      "  df_all[col+\"_residual\"] = result.resid\n",
      "C:\\Users\\karisma\\AppData\\Local\\Temp\\ipykernel_1916\\1695346669.py:168: PerformanceWarning: DataFrame is highly fragmented.  This is usually the result of calling `frame.insert` many times, which has poor performance.  Consider joining all columns at once using pd.concat(axis=1) instead. To get a de-fragmented frame, use `newframe = frame.copy()`\n",
      "  df_all[col+\"_trend\"] = result.trend\n",
      "C:\\Users\\karisma\\AppData\\Local\\Temp\\ipykernel_1916\\1695346669.py:169: PerformanceWarning: DataFrame is highly fragmented.  This is usually the result of calling `frame.insert` many times, which has poor performance.  Consider joining all columns at once using pd.concat(axis=1) instead. To get a de-fragmented frame, use `newframe = frame.copy()`\n",
      "  df_all[col+\"_season\"] = result.seasonal\n",
      "C:\\Users\\karisma\\AppData\\Local\\Temp\\ipykernel_1916\\1695346669.py:170: PerformanceWarning: DataFrame is highly fragmented.  This is usually the result of calling `frame.insert` many times, which has poor performance.  Consider joining all columns at once using pd.concat(axis=1) instead. To get a de-fragmented frame, use `newframe = frame.copy()`\n",
      "  df_all[col+\"_residual\"] = result.resid\n",
      "C:\\Users\\karisma\\AppData\\Local\\Temp\\ipykernel_1916\\1695346669.py:168: PerformanceWarning: DataFrame is highly fragmented.  This is usually the result of calling `frame.insert` many times, which has poor performance.  Consider joining all columns at once using pd.concat(axis=1) instead. To get a de-fragmented frame, use `newframe = frame.copy()`\n",
      "  df_all[col+\"_trend\"] = result.trend\n",
      "C:\\Users\\karisma\\AppData\\Local\\Temp\\ipykernel_1916\\1695346669.py:169: PerformanceWarning: DataFrame is highly fragmented.  This is usually the result of calling `frame.insert` many times, which has poor performance.  Consider joining all columns at once using pd.concat(axis=1) instead. To get a de-fragmented frame, use `newframe = frame.copy()`\n",
      "  df_all[col+\"_season\"] = result.seasonal\n",
      "C:\\Users\\karisma\\AppData\\Local\\Temp\\ipykernel_1916\\1695346669.py:170: PerformanceWarning: DataFrame is highly fragmented.  This is usually the result of calling `frame.insert` many times, which has poor performance.  Consider joining all columns at once using pd.concat(axis=1) instead. To get a de-fragmented frame, use `newframe = frame.copy()`\n",
      "  df_all[col+\"_residual\"] = result.resid\n",
      "C:\\Users\\karisma\\AppData\\Local\\Temp\\ipykernel_1916\\1695346669.py:168: PerformanceWarning: DataFrame is highly fragmented.  This is usually the result of calling `frame.insert` many times, which has poor performance.  Consider joining all columns at once using pd.concat(axis=1) instead. To get a de-fragmented frame, use `newframe = frame.copy()`\n",
      "  df_all[col+\"_trend\"] = result.trend\n",
      "C:\\Users\\karisma\\AppData\\Local\\Temp\\ipykernel_1916\\1695346669.py:169: PerformanceWarning: DataFrame is highly fragmented.  This is usually the result of calling `frame.insert` many times, which has poor performance.  Consider joining all columns at once using pd.concat(axis=1) instead. To get a de-fragmented frame, use `newframe = frame.copy()`\n",
      "  df_all[col+\"_season\"] = result.seasonal\n",
      "C:\\Users\\karisma\\AppData\\Local\\Temp\\ipykernel_1916\\1695346669.py:170: PerformanceWarning: DataFrame is highly fragmented.  This is usually the result of calling `frame.insert` many times, which has poor performance.  Consider joining all columns at once using pd.concat(axis=1) instead. To get a de-fragmented frame, use `newframe = frame.copy()`\n",
      "  df_all[col+\"_residual\"] = result.resid\n",
      "C:\\Users\\karisma\\AppData\\Local\\Temp\\ipykernel_1916\\1695346669.py:168: PerformanceWarning: DataFrame is highly fragmented.  This is usually the result of calling `frame.insert` many times, which has poor performance.  Consider joining all columns at once using pd.concat(axis=1) instead. To get a de-fragmented frame, use `newframe = frame.copy()`\n",
      "  df_all[col+\"_trend\"] = result.trend\n",
      "C:\\Users\\karisma\\AppData\\Local\\Temp\\ipykernel_1916\\1695346669.py:169: PerformanceWarning: DataFrame is highly fragmented.  This is usually the result of calling `frame.insert` many times, which has poor performance.  Consider joining all columns at once using pd.concat(axis=1) instead. To get a de-fragmented frame, use `newframe = frame.copy()`\n",
      "  df_all[col+\"_season\"] = result.seasonal\n",
      "C:\\Users\\karisma\\AppData\\Local\\Temp\\ipykernel_1916\\1695346669.py:170: PerformanceWarning: DataFrame is highly fragmented.  This is usually the result of calling `frame.insert` many times, which has poor performance.  Consider joining all columns at once using pd.concat(axis=1) instead. To get a de-fragmented frame, use `newframe = frame.copy()`\n",
      "  df_all[col+\"_residual\"] = result.resid\n",
      "C:\\Users\\karisma\\AppData\\Local\\Temp\\ipykernel_1916\\1695346669.py:168: PerformanceWarning: DataFrame is highly fragmented.  This is usually the result of calling `frame.insert` many times, which has poor performance.  Consider joining all columns at once using pd.concat(axis=1) instead. To get a de-fragmented frame, use `newframe = frame.copy()`\n",
      "  df_all[col+\"_trend\"] = result.trend\n",
      "C:\\Users\\karisma\\AppData\\Local\\Temp\\ipykernel_1916\\1695346669.py:169: PerformanceWarning: DataFrame is highly fragmented.  This is usually the result of calling `frame.insert` many times, which has poor performance.  Consider joining all columns at once using pd.concat(axis=1) instead. To get a de-fragmented frame, use `newframe = frame.copy()`\n",
      "  df_all[col+\"_season\"] = result.seasonal\n",
      "C:\\Users\\karisma\\AppData\\Local\\Temp\\ipykernel_1916\\1695346669.py:170: PerformanceWarning: DataFrame is highly fragmented.  This is usually the result of calling `frame.insert` many times, which has poor performance.  Consider joining all columns at once using pd.concat(axis=1) instead. To get a de-fragmented frame, use `newframe = frame.copy()`\n",
      "  df_all[col+\"_residual\"] = result.resid\n",
      "C:\\Users\\karisma\\AppData\\Local\\Temp\\ipykernel_1916\\1695346669.py:168: PerformanceWarning: DataFrame is highly fragmented.  This is usually the result of calling `frame.insert` many times, which has poor performance.  Consider joining all columns at once using pd.concat(axis=1) instead. To get a de-fragmented frame, use `newframe = frame.copy()`\n",
      "  df_all[col+\"_trend\"] = result.trend\n",
      "C:\\Users\\karisma\\AppData\\Local\\Temp\\ipykernel_1916\\1695346669.py:169: PerformanceWarning: DataFrame is highly fragmented.  This is usually the result of calling `frame.insert` many times, which has poor performance.  Consider joining all columns at once using pd.concat(axis=1) instead. To get a de-fragmented frame, use `newframe = frame.copy()`\n",
      "  df_all[col+\"_season\"] = result.seasonal\n",
      "C:\\Users\\karisma\\AppData\\Local\\Temp\\ipykernel_1916\\1695346669.py:170: PerformanceWarning: DataFrame is highly fragmented.  This is usually the result of calling `frame.insert` many times, which has poor performance.  Consider joining all columns at once using pd.concat(axis=1) instead. To get a de-fragmented frame, use `newframe = frame.copy()`\n",
      "  df_all[col+\"_residual\"] = result.resid\n",
      "C:\\Users\\karisma\\AppData\\Local\\Temp\\ipykernel_1916\\1695346669.py:168: PerformanceWarning: DataFrame is highly fragmented.  This is usually the result of calling `frame.insert` many times, which has poor performance.  Consider joining all columns at once using pd.concat(axis=1) instead. To get a de-fragmented frame, use `newframe = frame.copy()`\n",
      "  df_all[col+\"_trend\"] = result.trend\n",
      "C:\\Users\\karisma\\AppData\\Local\\Temp\\ipykernel_1916\\1695346669.py:169: PerformanceWarning: DataFrame is highly fragmented.  This is usually the result of calling `frame.insert` many times, which has poor performance.  Consider joining all columns at once using pd.concat(axis=1) instead. To get a de-fragmented frame, use `newframe = frame.copy()`\n",
      "  df_all[col+\"_season\"] = result.seasonal\n",
      "C:\\Users\\karisma\\AppData\\Local\\Temp\\ipykernel_1916\\1695346669.py:170: PerformanceWarning: DataFrame is highly fragmented.  This is usually the result of calling `frame.insert` many times, which has poor performance.  Consider joining all columns at once using pd.concat(axis=1) instead. To get a de-fragmented frame, use `newframe = frame.copy()`\n",
      "  df_all[col+\"_residual\"] = result.resid\n"
     ]
    },
    {
     "name": "stdout",
     "output_type": "stream",
     "text": [
      "STL Decomposition done.\n",
      "STL Decomposition plots saved\n",
      "Grillenburg\n",
      "Index(['date', 'H_F_MDS', 'LE_F_MDS', 'LW_IN_F', 'PA_F', 'P_F', 'SW_IN_F',\n",
      "       'TA_F', 'VPD_F', 'WS_F', 'NEE_VUT_USTAR50_DAY', 'RECO_DT_VUT_USTAR50',\n",
      "       'GPP_DT_VUT_USTAR50', 'NDVI', 'EVI', 'EVI2', 'CLr', 'MNDVI', 'MNDWI',\n",
      "       'LSWI', 'NDII', 'B1', 'B2', 'B3', 'B4', 'B5', 'B6', 'B7', 'B8', 'B8A',\n",
      "       'B9', 'B11', 'B12', 'latitude', 'longitude', 'elevation',\n",
      "       'canopy_height', 'instrument_height', 'month', 'day', '_fall',\n",
      "       '_spring', '_summer', '_winter'],\n",
      "      dtype='object')\n"
     ]
    },
    {
     "name": "stderr",
     "output_type": "stream",
     "text": [
      "C:\\Users\\karisma\\AppData\\Local\\Temp\\ipykernel_1916\\1695346669.py:170: PerformanceWarning: DataFrame is highly fragmented.  This is usually the result of calling `frame.insert` many times, which has poor performance.  Consider joining all columns at once using pd.concat(axis=1) instead. To get a de-fragmented frame, use `newframe = frame.copy()`\n",
      "  df_all[col+\"_residual\"] = result.resid\n",
      "C:\\Users\\karisma\\AppData\\Local\\Temp\\ipykernel_1916\\1695346669.py:168: PerformanceWarning: DataFrame is highly fragmented.  This is usually the result of calling `frame.insert` many times, which has poor performance.  Consider joining all columns at once using pd.concat(axis=1) instead. To get a de-fragmented frame, use `newframe = frame.copy()`\n",
      "  df_all[col+\"_trend\"] = result.trend\n",
      "C:\\Users\\karisma\\AppData\\Local\\Temp\\ipykernel_1916\\1695346669.py:169: PerformanceWarning: DataFrame is highly fragmented.  This is usually the result of calling `frame.insert` many times, which has poor performance.  Consider joining all columns at once using pd.concat(axis=1) instead. To get a de-fragmented frame, use `newframe = frame.copy()`\n",
      "  df_all[col+\"_season\"] = result.seasonal\n",
      "C:\\Users\\karisma\\AppData\\Local\\Temp\\ipykernel_1916\\1695346669.py:170: PerformanceWarning: DataFrame is highly fragmented.  This is usually the result of calling `frame.insert` many times, which has poor performance.  Consider joining all columns at once using pd.concat(axis=1) instead. To get a de-fragmented frame, use `newframe = frame.copy()`\n",
      "  df_all[col+\"_residual\"] = result.resid\n",
      "C:\\Users\\karisma\\AppData\\Local\\Temp\\ipykernel_1916\\1695346669.py:168: PerformanceWarning: DataFrame is highly fragmented.  This is usually the result of calling `frame.insert` many times, which has poor performance.  Consider joining all columns at once using pd.concat(axis=1) instead. To get a de-fragmented frame, use `newframe = frame.copy()`\n",
      "  df_all[col+\"_trend\"] = result.trend\n",
      "C:\\Users\\karisma\\AppData\\Local\\Temp\\ipykernel_1916\\1695346669.py:169: PerformanceWarning: DataFrame is highly fragmented.  This is usually the result of calling `frame.insert` many times, which has poor performance.  Consider joining all columns at once using pd.concat(axis=1) instead. To get a de-fragmented frame, use `newframe = frame.copy()`\n",
      "  df_all[col+\"_season\"] = result.seasonal\n",
      "C:\\Users\\karisma\\AppData\\Local\\Temp\\ipykernel_1916\\1695346669.py:170: PerformanceWarning: DataFrame is highly fragmented.  This is usually the result of calling `frame.insert` many times, which has poor performance.  Consider joining all columns at once using pd.concat(axis=1) instead. To get a de-fragmented frame, use `newframe = frame.copy()`\n",
      "  df_all[col+\"_residual\"] = result.resid\n",
      "C:\\Users\\karisma\\AppData\\Local\\Temp\\ipykernel_1916\\1695346669.py:168: PerformanceWarning: DataFrame is highly fragmented.  This is usually the result of calling `frame.insert` many times, which has poor performance.  Consider joining all columns at once using pd.concat(axis=1) instead. To get a de-fragmented frame, use `newframe = frame.copy()`\n",
      "  df_all[col+\"_trend\"] = result.trend\n",
      "C:\\Users\\karisma\\AppData\\Local\\Temp\\ipykernel_1916\\1695346669.py:169: PerformanceWarning: DataFrame is highly fragmented.  This is usually the result of calling `frame.insert` many times, which has poor performance.  Consider joining all columns at once using pd.concat(axis=1) instead. To get a de-fragmented frame, use `newframe = frame.copy()`\n",
      "  df_all[col+\"_season\"] = result.seasonal\n",
      "C:\\Users\\karisma\\AppData\\Local\\Temp\\ipykernel_1916\\1695346669.py:170: PerformanceWarning: DataFrame is highly fragmented.  This is usually the result of calling `frame.insert` many times, which has poor performance.  Consider joining all columns at once using pd.concat(axis=1) instead. To get a de-fragmented frame, use `newframe = frame.copy()`\n",
      "  df_all[col+\"_residual\"] = result.resid\n",
      "C:\\Users\\karisma\\AppData\\Local\\Temp\\ipykernel_1916\\1695346669.py:168: PerformanceWarning: DataFrame is highly fragmented.  This is usually the result of calling `frame.insert` many times, which has poor performance.  Consider joining all columns at once using pd.concat(axis=1) instead. To get a de-fragmented frame, use `newframe = frame.copy()`\n",
      "  df_all[col+\"_trend\"] = result.trend\n",
      "C:\\Users\\karisma\\AppData\\Local\\Temp\\ipykernel_1916\\1695346669.py:169: PerformanceWarning: DataFrame is highly fragmented.  This is usually the result of calling `frame.insert` many times, which has poor performance.  Consider joining all columns at once using pd.concat(axis=1) instead. To get a de-fragmented frame, use `newframe = frame.copy()`\n",
      "  df_all[col+\"_season\"] = result.seasonal\n",
      "C:\\Users\\karisma\\AppData\\Local\\Temp\\ipykernel_1916\\1695346669.py:170: PerformanceWarning: DataFrame is highly fragmented.  This is usually the result of calling `frame.insert` many times, which has poor performance.  Consider joining all columns at once using pd.concat(axis=1) instead. To get a de-fragmented frame, use `newframe = frame.copy()`\n",
      "  df_all[col+\"_residual\"] = result.resid\n",
      "C:\\Users\\karisma\\AppData\\Local\\Temp\\ipykernel_1916\\1695346669.py:168: PerformanceWarning: DataFrame is highly fragmented.  This is usually the result of calling `frame.insert` many times, which has poor performance.  Consider joining all columns at once using pd.concat(axis=1) instead. To get a de-fragmented frame, use `newframe = frame.copy()`\n",
      "  df_all[col+\"_trend\"] = result.trend\n",
      "C:\\Users\\karisma\\AppData\\Local\\Temp\\ipykernel_1916\\1695346669.py:169: PerformanceWarning: DataFrame is highly fragmented.  This is usually the result of calling `frame.insert` many times, which has poor performance.  Consider joining all columns at once using pd.concat(axis=1) instead. To get a de-fragmented frame, use `newframe = frame.copy()`\n",
      "  df_all[col+\"_season\"] = result.seasonal\n",
      "C:\\Users\\karisma\\AppData\\Local\\Temp\\ipykernel_1916\\1695346669.py:170: PerformanceWarning: DataFrame is highly fragmented.  This is usually the result of calling `frame.insert` many times, which has poor performance.  Consider joining all columns at once using pd.concat(axis=1) instead. To get a de-fragmented frame, use `newframe = frame.copy()`\n",
      "  df_all[col+\"_residual\"] = result.resid\n",
      "C:\\Users\\karisma\\AppData\\Local\\Temp\\ipykernel_1916\\1695346669.py:168: PerformanceWarning: DataFrame is highly fragmented.  This is usually the result of calling `frame.insert` many times, which has poor performance.  Consider joining all columns at once using pd.concat(axis=1) instead. To get a de-fragmented frame, use `newframe = frame.copy()`\n",
      "  df_all[col+\"_trend\"] = result.trend\n",
      "C:\\Users\\karisma\\AppData\\Local\\Temp\\ipykernel_1916\\1695346669.py:169: PerformanceWarning: DataFrame is highly fragmented.  This is usually the result of calling `frame.insert` many times, which has poor performance.  Consider joining all columns at once using pd.concat(axis=1) instead. To get a de-fragmented frame, use `newframe = frame.copy()`\n",
      "  df_all[col+\"_season\"] = result.seasonal\n",
      "C:\\Users\\karisma\\AppData\\Local\\Temp\\ipykernel_1916\\1695346669.py:170: PerformanceWarning: DataFrame is highly fragmented.  This is usually the result of calling `frame.insert` many times, which has poor performance.  Consider joining all columns at once using pd.concat(axis=1) instead. To get a de-fragmented frame, use `newframe = frame.copy()`\n",
      "  df_all[col+\"_residual\"] = result.resid\n",
      "C:\\Users\\karisma\\AppData\\Local\\Temp\\ipykernel_1916\\1695346669.py:168: PerformanceWarning: DataFrame is highly fragmented.  This is usually the result of calling `frame.insert` many times, which has poor performance.  Consider joining all columns at once using pd.concat(axis=1) instead. To get a de-fragmented frame, use `newframe = frame.copy()`\n",
      "  df_all[col+\"_trend\"] = result.trend\n",
      "C:\\Users\\karisma\\AppData\\Local\\Temp\\ipykernel_1916\\1695346669.py:169: PerformanceWarning: DataFrame is highly fragmented.  This is usually the result of calling `frame.insert` many times, which has poor performance.  Consider joining all columns at once using pd.concat(axis=1) instead. To get a de-fragmented frame, use `newframe = frame.copy()`\n",
      "  df_all[col+\"_season\"] = result.seasonal\n",
      "C:\\Users\\karisma\\AppData\\Local\\Temp\\ipykernel_1916\\1695346669.py:170: PerformanceWarning: DataFrame is highly fragmented.  This is usually the result of calling `frame.insert` many times, which has poor performance.  Consider joining all columns at once using pd.concat(axis=1) instead. To get a de-fragmented frame, use `newframe = frame.copy()`\n",
      "  df_all[col+\"_residual\"] = result.resid\n",
      "C:\\Users\\karisma\\AppData\\Local\\Temp\\ipykernel_1916\\1695346669.py:168: PerformanceWarning: DataFrame is highly fragmented.  This is usually the result of calling `frame.insert` many times, which has poor performance.  Consider joining all columns at once using pd.concat(axis=1) instead. To get a de-fragmented frame, use `newframe = frame.copy()`\n",
      "  df_all[col+\"_trend\"] = result.trend\n",
      "C:\\Users\\karisma\\AppData\\Local\\Temp\\ipykernel_1916\\1695346669.py:169: PerformanceWarning: DataFrame is highly fragmented.  This is usually the result of calling `frame.insert` many times, which has poor performance.  Consider joining all columns at once using pd.concat(axis=1) instead. To get a de-fragmented frame, use `newframe = frame.copy()`\n",
      "  df_all[col+\"_season\"] = result.seasonal\n",
      "C:\\Users\\karisma\\AppData\\Local\\Temp\\ipykernel_1916\\1695346669.py:170: PerformanceWarning: DataFrame is highly fragmented.  This is usually the result of calling `frame.insert` many times, which has poor performance.  Consider joining all columns at once using pd.concat(axis=1) instead. To get a de-fragmented frame, use `newframe = frame.copy()`\n",
      "  df_all[col+\"_residual\"] = result.resid\n",
      "C:\\Users\\karisma\\AppData\\Local\\Temp\\ipykernel_1916\\1695346669.py:168: PerformanceWarning: DataFrame is highly fragmented.  This is usually the result of calling `frame.insert` many times, which has poor performance.  Consider joining all columns at once using pd.concat(axis=1) instead. To get a de-fragmented frame, use `newframe = frame.copy()`\n",
      "  df_all[col+\"_trend\"] = result.trend\n",
      "C:\\Users\\karisma\\AppData\\Local\\Temp\\ipykernel_1916\\1695346669.py:169: PerformanceWarning: DataFrame is highly fragmented.  This is usually the result of calling `frame.insert` many times, which has poor performance.  Consider joining all columns at once using pd.concat(axis=1) instead. To get a de-fragmented frame, use `newframe = frame.copy()`\n",
      "  df_all[col+\"_season\"] = result.seasonal\n",
      "C:\\Users\\karisma\\AppData\\Local\\Temp\\ipykernel_1916\\1695346669.py:170: PerformanceWarning: DataFrame is highly fragmented.  This is usually the result of calling `frame.insert` many times, which has poor performance.  Consider joining all columns at once using pd.concat(axis=1) instead. To get a de-fragmented frame, use `newframe = frame.copy()`\n",
      "  df_all[col+\"_residual\"] = result.resid\n",
      "C:\\Users\\karisma\\AppData\\Local\\Temp\\ipykernel_1916\\1695346669.py:168: PerformanceWarning: DataFrame is highly fragmented.  This is usually the result of calling `frame.insert` many times, which has poor performance.  Consider joining all columns at once using pd.concat(axis=1) instead. To get a de-fragmented frame, use `newframe = frame.copy()`\n",
      "  df_all[col+\"_trend\"] = result.trend\n",
      "C:\\Users\\karisma\\AppData\\Local\\Temp\\ipykernel_1916\\1695346669.py:169: PerformanceWarning: DataFrame is highly fragmented.  This is usually the result of calling `frame.insert` many times, which has poor performance.  Consider joining all columns at once using pd.concat(axis=1) instead. To get a de-fragmented frame, use `newframe = frame.copy()`\n",
      "  df_all[col+\"_season\"] = result.seasonal\n",
      "C:\\Users\\karisma\\AppData\\Local\\Temp\\ipykernel_1916\\1695346669.py:170: PerformanceWarning: DataFrame is highly fragmented.  This is usually the result of calling `frame.insert` many times, which has poor performance.  Consider joining all columns at once using pd.concat(axis=1) instead. To get a de-fragmented frame, use `newframe = frame.copy()`\n",
      "  df_all[col+\"_residual\"] = result.resid\n",
      "C:\\Users\\karisma\\AppData\\Local\\Temp\\ipykernel_1916\\1695346669.py:168: PerformanceWarning: DataFrame is highly fragmented.  This is usually the result of calling `frame.insert` many times, which has poor performance.  Consider joining all columns at once using pd.concat(axis=1) instead. To get a de-fragmented frame, use `newframe = frame.copy()`\n",
      "  df_all[col+\"_trend\"] = result.trend\n",
      "C:\\Users\\karisma\\AppData\\Local\\Temp\\ipykernel_1916\\1695346669.py:169: PerformanceWarning: DataFrame is highly fragmented.  This is usually the result of calling `frame.insert` many times, which has poor performance.  Consider joining all columns at once using pd.concat(axis=1) instead. To get a de-fragmented frame, use `newframe = frame.copy()`\n",
      "  df_all[col+\"_season\"] = result.seasonal\n",
      "C:\\Users\\karisma\\AppData\\Local\\Temp\\ipykernel_1916\\1695346669.py:170: PerformanceWarning: DataFrame is highly fragmented.  This is usually the result of calling `frame.insert` many times, which has poor performance.  Consider joining all columns at once using pd.concat(axis=1) instead. To get a de-fragmented frame, use `newframe = frame.copy()`\n",
      "  df_all[col+\"_residual\"] = result.resid\n"
     ]
    },
    {
     "name": "stdout",
     "output_type": "stream",
     "text": [
      "STL Decomposition done.\n",
      "STL Decomposition plots saved\n"
     ]
    },
    {
     "data": {
      "text/plain": [
       "<Figure size 1500x600 with 0 Axes>"
      ]
     },
     "metadata": {},
     "output_type": "display_data"
    },
    {
     "data": {
      "text/plain": [
       "<Figure size 1500x600 with 0 Axes>"
      ]
     },
     "metadata": {},
     "output_type": "display_data"
    },
    {
     "data": {
      "text/plain": [
       "<Figure size 1500x600 with 0 Axes>"
      ]
     },
     "metadata": {},
     "output_type": "display_data"
    },
    {
     "data": {
      "text/plain": [
       "<Figure size 1500x600 with 0 Axes>"
      ]
     },
     "metadata": {},
     "output_type": "display_data"
    },
    {
     "data": {
      "text/plain": [
       "<Figure size 1500x600 with 0 Axes>"
      ]
     },
     "metadata": {},
     "output_type": "display_data"
    },
    {
     "data": {
      "text/plain": [
       "<Figure size 1500x600 with 0 Axes>"
      ]
     },
     "metadata": {},
     "output_type": "display_data"
    },
    {
     "data": {
      "text/plain": [
       "<Figure size 1500x600 with 0 Axes>"
      ]
     },
     "metadata": {},
     "output_type": "display_data"
    },
    {
     "data": {
      "text/plain": [
       "<Figure size 1500x600 with 0 Axes>"
      ]
     },
     "metadata": {},
     "output_type": "display_data"
    },
    {
     "data": {
      "text/plain": [
       "<Figure size 1500x600 with 0 Axes>"
      ]
     },
     "metadata": {},
     "output_type": "display_data"
    },
    {
     "data": {
      "text/plain": [
       "<Figure size 1500x600 with 0 Axes>"
      ]
     },
     "metadata": {},
     "output_type": "display_data"
    },
    {
     "data": {
      "text/plain": [
       "<Figure size 1500x600 with 0 Axes>"
      ]
     },
     "metadata": {},
     "output_type": "display_data"
    },
    {
     "data": {
      "text/plain": [
       "<Figure size 1500x600 with 0 Axes>"
      ]
     },
     "metadata": {},
     "output_type": "display_data"
    },
    {
     "data": {
      "text/plain": [
       "<Figure size 1500x600 with 0 Axes>"
      ]
     },
     "metadata": {},
     "output_type": "display_data"
    },
    {
     "data": {
      "text/plain": [
       "<Figure size 1500x600 with 0 Axes>"
      ]
     },
     "metadata": {},
     "output_type": "display_data"
    },
    {
     "data": {
      "text/plain": [
       "<Figure size 1500x600 with 0 Axes>"
      ]
     },
     "metadata": {},
     "output_type": "display_data"
    },
    {
     "data": {
      "text/plain": [
       "<Figure size 1500x600 with 0 Axes>"
      ]
     },
     "metadata": {},
     "output_type": "display_data"
    },
    {
     "data": {
      "text/plain": [
       "<Figure size 1500x600 with 0 Axes>"
      ]
     },
     "metadata": {},
     "output_type": "display_data"
    },
    {
     "data": {
      "text/plain": [
       "<Figure size 1500x600 with 0 Axes>"
      ]
     },
     "metadata": {},
     "output_type": "display_data"
    },
    {
     "data": {
      "text/plain": [
       "<Figure size 1500x600 with 0 Axes>"
      ]
     },
     "metadata": {},
     "output_type": "display_data"
    },
    {
     "data": {
      "text/plain": [
       "<Figure size 1500x600 with 0 Axes>"
      ]
     },
     "metadata": {},
     "output_type": "display_data"
    },
    {
     "data": {
      "text/plain": [
       "<Figure size 1500x600 with 0 Axes>"
      ]
     },
     "metadata": {},
     "output_type": "display_data"
    },
    {
     "data": {
      "text/plain": [
       "<Figure size 1500x600 with 0 Axes>"
      ]
     },
     "metadata": {},
     "output_type": "display_data"
    },
    {
     "data": {
      "text/plain": [
       "<Figure size 1500x600 with 0 Axes>"
      ]
     },
     "metadata": {},
     "output_type": "display_data"
    },
    {
     "data": {
      "text/plain": [
       "<Figure size 1500x600 with 0 Axes>"
      ]
     },
     "metadata": {},
     "output_type": "display_data"
    },
    {
     "data": {
      "text/plain": [
       "<Figure size 1500x600 with 0 Axes>"
      ]
     },
     "metadata": {},
     "output_type": "display_data"
    },
    {
     "data": {
      "text/plain": [
       "<Figure size 1500x600 with 0 Axes>"
      ]
     },
     "metadata": {},
     "output_type": "display_data"
    },
    {
     "data": {
      "text/plain": [
       "<Figure size 1500x600 with 0 Axes>"
      ]
     },
     "metadata": {},
     "output_type": "display_data"
    },
    {
     "data": {
      "text/plain": [
       "<Figure size 1500x600 with 0 Axes>"
      ]
     },
     "metadata": {},
     "output_type": "display_data"
    },
    {
     "data": {
      "text/plain": [
       "<Figure size 1500x600 with 0 Axes>"
      ]
     },
     "metadata": {},
     "output_type": "display_data"
    },
    {
     "data": {
      "text/plain": [
       "<Figure size 1500x600 with 0 Axes>"
      ]
     },
     "metadata": {},
     "output_type": "display_data"
    },
    {
     "data": {
      "text/plain": [
       "<Figure size 1500x600 with 0 Axes>"
      ]
     },
     "metadata": {},
     "output_type": "display_data"
    },
    {
     "data": {
      "text/plain": [
       "<Figure size 1500x600 with 0 Axes>"
      ]
     },
     "metadata": {},
     "output_type": "display_data"
    },
    {
     "data": {
      "text/plain": [
       "<Figure size 1500x600 with 0 Axes>"
      ]
     },
     "metadata": {},
     "output_type": "display_data"
    },
    {
     "data": {
      "text/plain": [
       "<Figure size 1500x600 with 0 Axes>"
      ]
     },
     "metadata": {},
     "output_type": "display_data"
    },
    {
     "data": {
      "text/plain": [
       "<Figure size 1500x600 with 0 Axes>"
      ]
     },
     "metadata": {},
     "output_type": "display_data"
    },
    {
     "data": {
      "text/plain": [
       "<Figure size 1500x600 with 0 Axes>"
      ]
     },
     "metadata": {},
     "output_type": "display_data"
    },
    {
     "data": {
      "text/plain": [
       "<Figure size 1500x600 with 0 Axes>"
      ]
     },
     "metadata": {},
     "output_type": "display_data"
    },
    {
     "data": {
      "text/plain": [
       "<Figure size 1500x600 with 0 Axes>"
      ]
     },
     "metadata": {},
     "output_type": "display_data"
    },
    {
     "data": {
      "text/plain": [
       "<Figure size 1500x600 with 0 Axes>"
      ]
     },
     "metadata": {},
     "output_type": "display_data"
    },
    {
     "data": {
      "text/plain": [
       "<Figure size 1500x600 with 0 Axes>"
      ]
     },
     "metadata": {},
     "output_type": "display_data"
    },
    {
     "data": {
      "text/plain": [
       "<Figure size 1500x600 with 0 Axes>"
      ]
     },
     "metadata": {},
     "output_type": "display_data"
    },
    {
     "data": {
      "text/plain": [
       "<Figure size 1500x600 with 0 Axes>"
      ]
     },
     "metadata": {},
     "output_type": "display_data"
    },
    {
     "data": {
      "text/plain": [
       "<Figure size 1500x600 with 0 Axes>"
      ]
     },
     "metadata": {},
     "output_type": "display_data"
    },
    {
     "data": {
      "text/plain": [
       "<Figure size 1500x600 with 0 Axes>"
      ]
     },
     "metadata": {},
     "output_type": "display_data"
    },
    {
     "data": {
      "text/plain": [
       "<Figure size 1500x600 with 0 Axes>"
      ]
     },
     "metadata": {},
     "output_type": "display_data"
    },
    {
     "data": {
      "text/plain": [
       "<Figure size 1500x600 with 0 Axes>"
      ]
     },
     "metadata": {},
     "output_type": "display_data"
    },
    {
     "data": {
      "text/plain": [
       "<Figure size 1500x600 with 0 Axes>"
      ]
     },
     "metadata": {},
     "output_type": "display_data"
    },
    {
     "data": {
      "text/plain": [
       "<Figure size 1500x600 with 0 Axes>"
      ]
     },
     "metadata": {},
     "output_type": "display_data"
    },
    {
     "data": {
      "text/plain": [
       "<Figure size 1500x600 with 0 Axes>"
      ]
     },
     "metadata": {},
     "output_type": "display_data"
    },
    {
     "data": {
      "text/plain": [
       "<Figure size 1500x600 with 0 Axes>"
      ]
     },
     "metadata": {},
     "output_type": "display_data"
    },
    {
     "data": {
      "text/plain": [
       "<Figure size 1500x600 with 0 Axes>"
      ]
     },
     "metadata": {},
     "output_type": "display_data"
    },
    {
     "data": {
      "text/plain": [
       "<Figure size 1500x600 with 0 Axes>"
      ]
     },
     "metadata": {},
     "output_type": "display_data"
    },
    {
     "data": {
      "text/plain": [
       "<Figure size 1500x600 with 0 Axes>"
      ]
     },
     "metadata": {},
     "output_type": "display_data"
    },
    {
     "data": {
      "text/plain": [
       "<Figure size 1500x600 with 0 Axes>"
      ]
     },
     "metadata": {},
     "output_type": "display_data"
    },
    {
     "data": {
      "text/plain": [
       "<Figure size 1500x600 with 0 Axes>"
      ]
     },
     "metadata": {},
     "output_type": "display_data"
    },
    {
     "data": {
      "text/plain": [
       "<Figure size 1500x600 with 0 Axes>"
      ]
     },
     "metadata": {},
     "output_type": "display_data"
    },
    {
     "data": {
      "text/plain": [
       "<Figure size 1500x600 with 0 Axes>"
      ]
     },
     "metadata": {},
     "output_type": "display_data"
    },
    {
     "data": {
      "text/plain": [
       "<Figure size 1500x600 with 0 Axes>"
      ]
     },
     "metadata": {},
     "output_type": "display_data"
    },
    {
     "data": {
      "text/plain": [
       "<Figure size 1500x600 with 0 Axes>"
      ]
     },
     "metadata": {},
     "output_type": "display_data"
    },
    {
     "data": {
      "text/plain": [
       "<Figure size 1500x600 with 0 Axes>"
      ]
     },
     "metadata": {},
     "output_type": "display_data"
    },
    {
     "data": {
      "text/plain": [
       "<Figure size 1500x600 with 0 Axes>"
      ]
     },
     "metadata": {},
     "output_type": "display_data"
    },
    {
     "data": {
      "text/plain": [
       "<Figure size 1500x600 with 0 Axes>"
      ]
     },
     "metadata": {},
     "output_type": "display_data"
    },
    {
     "data": {
      "text/plain": [
       "<Figure size 1500x600 with 0 Axes>"
      ]
     },
     "metadata": {},
     "output_type": "display_data"
    },
    {
     "data": {
      "text/plain": [
       "<Figure size 1500x600 with 0 Axes>"
      ]
     },
     "metadata": {},
     "output_type": "display_data"
    },
    {
     "data": {
      "text/plain": [
       "<Figure size 1500x600 with 0 Axes>"
      ]
     },
     "metadata": {},
     "output_type": "display_data"
    },
    {
     "data": {
      "text/plain": [
       "<Figure size 1500x600 with 0 Axes>"
      ]
     },
     "metadata": {},
     "output_type": "display_data"
    },
    {
     "data": {
      "text/plain": [
       "<Figure size 1500x600 with 0 Axes>"
      ]
     },
     "metadata": {},
     "output_type": "display_data"
    },
    {
     "data": {
      "text/plain": [
       "<Figure size 1500x600 with 0 Axes>"
      ]
     },
     "metadata": {},
     "output_type": "display_data"
    },
    {
     "data": {
      "text/plain": [
       "<Figure size 1500x600 with 0 Axes>"
      ]
     },
     "metadata": {},
     "output_type": "display_data"
    },
    {
     "data": {
      "text/plain": [
       "<Figure size 1500x600 with 0 Axes>"
      ]
     },
     "metadata": {},
     "output_type": "display_data"
    },
    {
     "data": {
      "text/plain": [
       "<Figure size 1500x600 with 0 Axes>"
      ]
     },
     "metadata": {},
     "output_type": "display_data"
    },
    {
     "data": {
      "text/plain": [
       "<Figure size 1500x600 with 0 Axes>"
      ]
     },
     "metadata": {},
     "output_type": "display_data"
    },
    {
     "data": {
      "text/plain": [
       "<Figure size 1500x600 with 0 Axes>"
      ]
     },
     "metadata": {},
     "output_type": "display_data"
    },
    {
     "data": {
      "text/plain": [
       "<Figure size 1500x600 with 0 Axes>"
      ]
     },
     "metadata": {},
     "output_type": "display_data"
    },
    {
     "data": {
      "text/plain": [
       "<Figure size 1500x600 with 0 Axes>"
      ]
     },
     "metadata": {},
     "output_type": "display_data"
    },
    {
     "data": {
      "text/plain": [
       "<Figure size 1500x600 with 0 Axes>"
      ]
     },
     "metadata": {},
     "output_type": "display_data"
    },
    {
     "data": {
      "text/plain": [
       "<Figure size 1500x600 with 0 Axes>"
      ]
     },
     "metadata": {},
     "output_type": "display_data"
    },
    {
     "data": {
      "text/plain": [
       "<Figure size 1500x600 with 0 Axes>"
      ]
     },
     "metadata": {},
     "output_type": "display_data"
    },
    {
     "data": {
      "text/plain": [
       "<Figure size 1500x600 with 0 Axes>"
      ]
     },
     "metadata": {},
     "output_type": "display_data"
    },
    {
     "data": {
      "text/plain": [
       "<Figure size 1500x600 with 0 Axes>"
      ]
     },
     "metadata": {},
     "output_type": "display_data"
    },
    {
     "data": {
      "text/plain": [
       "<Figure size 1500x600 with 0 Axes>"
      ]
     },
     "metadata": {},
     "output_type": "display_data"
    },
    {
     "data": {
      "text/plain": [
       "<Figure size 1500x600 with 0 Axes>"
      ]
     },
     "metadata": {},
     "output_type": "display_data"
    },
    {
     "data": {
      "text/plain": [
       "<Figure size 1500x600 with 0 Axes>"
      ]
     },
     "metadata": {},
     "output_type": "display_data"
    },
    {
     "data": {
      "text/plain": [
       "<Figure size 1500x600 with 0 Axes>"
      ]
     },
     "metadata": {},
     "output_type": "display_data"
    },
    {
     "data": {
      "text/plain": [
       "<Figure size 1500x600 with 0 Axes>"
      ]
     },
     "metadata": {},
     "output_type": "display_data"
    },
    {
     "data": {
      "text/plain": [
       "<Figure size 1500x600 with 0 Axes>"
      ]
     },
     "metadata": {},
     "output_type": "display_data"
    },
    {
     "data": {
      "text/plain": [
       "<Figure size 1500x600 with 0 Axes>"
      ]
     },
     "metadata": {},
     "output_type": "display_data"
    },
    {
     "data": {
      "text/plain": [
       "<Figure size 1500x600 with 0 Axes>"
      ]
     },
     "metadata": {},
     "output_type": "display_data"
    },
    {
     "data": {
      "text/plain": [
       "<Figure size 1500x600 with 0 Axes>"
      ]
     },
     "metadata": {},
     "output_type": "display_data"
    },
    {
     "data": {
      "text/plain": [
       "<Figure size 1500x600 with 0 Axes>"
      ]
     },
     "metadata": {},
     "output_type": "display_data"
    },
    {
     "data": {
      "text/plain": [
       "<Figure size 1500x600 with 0 Axes>"
      ]
     },
     "metadata": {},
     "output_type": "display_data"
    },
    {
     "data": {
      "text/plain": [
       "<Figure size 1500x600 with 0 Axes>"
      ]
     },
     "metadata": {},
     "output_type": "display_data"
    },
    {
     "data": {
      "text/plain": [
       "<Figure size 1500x600 with 0 Axes>"
      ]
     },
     "metadata": {},
     "output_type": "display_data"
    },
    {
     "data": {
      "text/plain": [
       "<Figure size 1500x600 with 0 Axes>"
      ]
     },
     "metadata": {},
     "output_type": "display_data"
    },
    {
     "data": {
      "text/plain": [
       "<Figure size 1500x600 with 0 Axes>"
      ]
     },
     "metadata": {},
     "output_type": "display_data"
    },
    {
     "data": {
      "text/plain": [
       "<Figure size 1500x600 with 0 Axes>"
      ]
     },
     "metadata": {},
     "output_type": "display_data"
    },
    {
     "data": {
      "text/plain": [
       "<Figure size 1500x600 with 0 Axes>"
      ]
     },
     "metadata": {},
     "output_type": "display_data"
    },
    {
     "data": {
      "text/plain": [
       "<Figure size 1500x600 with 0 Axes>"
      ]
     },
     "metadata": {},
     "output_type": "display_data"
    },
    {
     "data": {
      "text/plain": [
       "<Figure size 1500x600 with 0 Axes>"
      ]
     },
     "metadata": {},
     "output_type": "display_data"
    },
    {
     "data": {
      "text/plain": [
       "<Figure size 1500x600 with 0 Axes>"
      ]
     },
     "metadata": {},
     "output_type": "display_data"
    },
    {
     "data": {
      "text/plain": [
       "<Figure size 1500x600 with 0 Axes>"
      ]
     },
     "metadata": {},
     "output_type": "display_data"
    },
    {
     "data": {
      "text/plain": [
       "<Figure size 1500x600 with 0 Axes>"
      ]
     },
     "metadata": {},
     "output_type": "display_data"
    },
    {
     "data": {
      "text/plain": [
       "<Figure size 1500x600 with 0 Axes>"
      ]
     },
     "metadata": {},
     "output_type": "display_data"
    },
    {
     "data": {
      "text/plain": [
       "<Figure size 1500x600 with 0 Axes>"
      ]
     },
     "metadata": {},
     "output_type": "display_data"
    },
    {
     "data": {
      "text/plain": [
       "<Figure size 1500x600 with 0 Axes>"
      ]
     },
     "metadata": {},
     "output_type": "display_data"
    },
    {
     "data": {
      "text/plain": [
       "<Figure size 1500x600 with 0 Axes>"
      ]
     },
     "metadata": {},
     "output_type": "display_data"
    },
    {
     "data": {
      "text/plain": [
       "<Figure size 1500x600 with 0 Axes>"
      ]
     },
     "metadata": {},
     "output_type": "display_data"
    },
    {
     "data": {
      "text/plain": [
       "<Figure size 1500x600 with 0 Axes>"
      ]
     },
     "metadata": {},
     "output_type": "display_data"
    },
    {
     "data": {
      "text/plain": [
       "<Figure size 1500x600 with 0 Axes>"
      ]
     },
     "metadata": {},
     "output_type": "display_data"
    },
    {
     "data": {
      "text/plain": [
       "<Figure size 1500x600 with 0 Axes>"
      ]
     },
     "metadata": {},
     "output_type": "display_data"
    },
    {
     "data": {
      "text/plain": [
       "<Figure size 1500x600 with 0 Axes>"
      ]
     },
     "metadata": {},
     "output_type": "display_data"
    },
    {
     "data": {
      "text/plain": [
       "<Figure size 1500x600 with 0 Axes>"
      ]
     },
     "metadata": {},
     "output_type": "display_data"
    },
    {
     "data": {
      "text/plain": [
       "<Figure size 1500x600 with 0 Axes>"
      ]
     },
     "metadata": {},
     "output_type": "display_data"
    },
    {
     "data": {
      "text/plain": [
       "<Figure size 1500x600 with 0 Axes>"
      ]
     },
     "metadata": {},
     "output_type": "display_data"
    },
    {
     "data": {
      "text/plain": [
       "<Figure size 1500x600 with 0 Axes>"
      ]
     },
     "metadata": {},
     "output_type": "display_data"
    },
    {
     "data": {
      "text/plain": [
       "<Figure size 1500x600 with 0 Axes>"
      ]
     },
     "metadata": {},
     "output_type": "display_data"
    },
    {
     "data": {
      "text/plain": [
       "<Figure size 1500x600 with 0 Axes>"
      ]
     },
     "metadata": {},
     "output_type": "display_data"
    },
    {
     "data": {
      "text/plain": [
       "<Figure size 1500x600 with 0 Axes>"
      ]
     },
     "metadata": {},
     "output_type": "display_data"
    },
    {
     "data": {
      "text/plain": [
       "<Figure size 1500x600 with 0 Axes>"
      ]
     },
     "metadata": {},
     "output_type": "display_data"
    },
    {
     "data": {
      "text/plain": [
       "<Figure size 1500x600 with 0 Axes>"
      ]
     },
     "metadata": {},
     "output_type": "display_data"
    },
    {
     "data": {
      "text/plain": [
       "<Figure size 1500x600 with 0 Axes>"
      ]
     },
     "metadata": {},
     "output_type": "display_data"
    },
    {
     "data": {
      "text/plain": [
       "<Figure size 1500x600 with 0 Axes>"
      ]
     },
     "metadata": {},
     "output_type": "display_data"
    },
    {
     "data": {
      "text/plain": [
       "<Figure size 1500x600 with 0 Axes>"
      ]
     },
     "metadata": {},
     "output_type": "display_data"
    },
    {
     "data": {
      "text/plain": [
       "<Figure size 1500x600 with 0 Axes>"
      ]
     },
     "metadata": {},
     "output_type": "display_data"
    },
    {
     "data": {
      "text/plain": [
       "<Figure size 1500x600 with 0 Axes>"
      ]
     },
     "metadata": {},
     "output_type": "display_data"
    },
    {
     "data": {
      "text/plain": [
       "<Figure size 1500x600 with 0 Axes>"
      ]
     },
     "metadata": {},
     "output_type": "display_data"
    },
    {
     "data": {
      "text/plain": [
       "<Figure size 1500x600 with 0 Axes>"
      ]
     },
     "metadata": {},
     "output_type": "display_data"
    },
    {
     "data": {
      "text/plain": [
       "<Figure size 1500x600 with 0 Axes>"
      ]
     },
     "metadata": {},
     "output_type": "display_data"
    },
    {
     "data": {
      "text/plain": [
       "<Figure size 1500x600 with 0 Axes>"
      ]
     },
     "metadata": {},
     "output_type": "display_data"
    },
    {
     "data": {
      "text/plain": [
       "<Figure size 1500x600 with 0 Axes>"
      ]
     },
     "metadata": {},
     "output_type": "display_data"
    },
    {
     "data": {
      "text/plain": [
       "<Figure size 1500x600 with 0 Axes>"
      ]
     },
     "metadata": {},
     "output_type": "display_data"
    },
    {
     "data": {
      "text/plain": [
       "<Figure size 1500x600 with 0 Axes>"
      ]
     },
     "metadata": {},
     "output_type": "display_data"
    },
    {
     "data": {
      "text/plain": [
       "<Figure size 1500x600 with 0 Axes>"
      ]
     },
     "metadata": {},
     "output_type": "display_data"
    },
    {
     "data": {
      "text/plain": [
       "<Figure size 1500x600 with 0 Axes>"
      ]
     },
     "metadata": {},
     "output_type": "display_data"
    },
    {
     "data": {
      "text/plain": [
       "<Figure size 1500x600 with 0 Axes>"
      ]
     },
     "metadata": {},
     "output_type": "display_data"
    },
    {
     "data": {
      "text/plain": [
       "<Figure size 1500x600 with 0 Axes>"
      ]
     },
     "metadata": {},
     "output_type": "display_data"
    },
    {
     "data": {
      "text/plain": [
       "<Figure size 1500x600 with 0 Axes>"
      ]
     },
     "metadata": {},
     "output_type": "display_data"
    },
    {
     "data": {
      "text/plain": [
       "<Figure size 1500x600 with 0 Axes>"
      ]
     },
     "metadata": {},
     "output_type": "display_data"
    },
    {
     "data": {
      "text/plain": [
       "<Figure size 1500x600 with 0 Axes>"
      ]
     },
     "metadata": {},
     "output_type": "display_data"
    },
    {
     "data": {
      "text/plain": [
       "<Figure size 1500x600 with 0 Axes>"
      ]
     },
     "metadata": {},
     "output_type": "display_data"
    },
    {
     "data": {
      "text/plain": [
       "<Figure size 1500x600 with 0 Axes>"
      ]
     },
     "metadata": {},
     "output_type": "display_data"
    },
    {
     "data": {
      "text/plain": [
       "<Figure size 1500x600 with 0 Axes>"
      ]
     },
     "metadata": {},
     "output_type": "display_data"
    },
    {
     "data": {
      "text/plain": [
       "<Figure size 1500x600 with 0 Axes>"
      ]
     },
     "metadata": {},
     "output_type": "display_data"
    },
    {
     "data": {
      "text/plain": [
       "<Figure size 1500x600 with 0 Axes>"
      ]
     },
     "metadata": {},
     "output_type": "display_data"
    },
    {
     "data": {
      "text/plain": [
       "<Figure size 1500x600 with 0 Axes>"
      ]
     },
     "metadata": {},
     "output_type": "display_data"
    },
    {
     "data": {
      "text/plain": [
       "<Figure size 1500x600 with 0 Axes>"
      ]
     },
     "metadata": {},
     "output_type": "display_data"
    },
    {
     "data": {
      "text/plain": [
       "<Figure size 1500x600 with 0 Axes>"
      ]
     },
     "metadata": {},
     "output_type": "display_data"
    },
    {
     "data": {
      "text/plain": [
       "<Figure size 1500x600 with 0 Axes>"
      ]
     },
     "metadata": {},
     "output_type": "display_data"
    },
    {
     "data": {
      "text/plain": [
       "<Figure size 1500x600 with 0 Axes>"
      ]
     },
     "metadata": {},
     "output_type": "display_data"
    },
    {
     "data": {
      "text/plain": [
       "<Figure size 1500x600 with 0 Axes>"
      ]
     },
     "metadata": {},
     "output_type": "display_data"
    },
    {
     "data": {
      "text/plain": [
       "<Figure size 1500x600 with 0 Axes>"
      ]
     },
     "metadata": {},
     "output_type": "display_data"
    },
    {
     "data": {
      "text/plain": [
       "<Figure size 1500x600 with 0 Axes>"
      ]
     },
     "metadata": {},
     "output_type": "display_data"
    },
    {
     "data": {
      "text/plain": [
       "<Figure size 1500x600 with 0 Axes>"
      ]
     },
     "metadata": {},
     "output_type": "display_data"
    },
    {
     "data": {
      "text/plain": [
       "<Figure size 1500x600 with 0 Axes>"
      ]
     },
     "metadata": {},
     "output_type": "display_data"
    },
    {
     "data": {
      "text/plain": [
       "<Figure size 1500x600 with 0 Axes>"
      ]
     },
     "metadata": {},
     "output_type": "display_data"
    },
    {
     "data": {
      "text/plain": [
       "<Figure size 1500x600 with 0 Axes>"
      ]
     },
     "metadata": {},
     "output_type": "display_data"
    },
    {
     "data": {
      "text/plain": [
       "<Figure size 1500x600 with 0 Axes>"
      ]
     },
     "metadata": {},
     "output_type": "display_data"
    },
    {
     "data": {
      "text/plain": [
       "<Figure size 1500x600 with 0 Axes>"
      ]
     },
     "metadata": {},
     "output_type": "display_data"
    },
    {
     "data": {
      "text/plain": [
       "<Figure size 1500x600 with 0 Axes>"
      ]
     },
     "metadata": {},
     "output_type": "display_data"
    },
    {
     "data": {
      "text/plain": [
       "<Figure size 1500x600 with 0 Axes>"
      ]
     },
     "metadata": {},
     "output_type": "display_data"
    },
    {
     "data": {
      "text/plain": [
       "<Figure size 1500x600 with 0 Axes>"
      ]
     },
     "metadata": {},
     "output_type": "display_data"
    },
    {
     "data": {
      "text/plain": [
       "<Figure size 1500x600 with 0 Axes>"
      ]
     },
     "metadata": {},
     "output_type": "display_data"
    },
    {
     "data": {
      "text/plain": [
       "<Figure size 1500x600 with 0 Axes>"
      ]
     },
     "metadata": {},
     "output_type": "display_data"
    },
    {
     "data": {
      "text/plain": [
       "<Figure size 1500x600 with 0 Axes>"
      ]
     },
     "metadata": {},
     "output_type": "display_data"
    },
    {
     "data": {
      "text/plain": [
       "<Figure size 1500x600 with 0 Axes>"
      ]
     },
     "metadata": {},
     "output_type": "display_data"
    },
    {
     "data": {
      "text/plain": [
       "<Figure size 1500x600 with 0 Axes>"
      ]
     },
     "metadata": {},
     "output_type": "display_data"
    },
    {
     "data": {
      "text/plain": [
       "<Figure size 1500x600 with 0 Axes>"
      ]
     },
     "metadata": {},
     "output_type": "display_data"
    },
    {
     "data": {
      "text/plain": [
       "<Figure size 1500x600 with 0 Axes>"
      ]
     },
     "metadata": {},
     "output_type": "display_data"
    },
    {
     "data": {
      "text/plain": [
       "<Figure size 1500x600 with 0 Axes>"
      ]
     },
     "metadata": {},
     "output_type": "display_data"
    },
    {
     "data": {
      "text/plain": [
       "<Figure size 1500x600 with 0 Axes>"
      ]
     },
     "metadata": {},
     "output_type": "display_data"
    },
    {
     "data": {
      "text/plain": [
       "<Figure size 1500x600 with 0 Axes>"
      ]
     },
     "metadata": {},
     "output_type": "display_data"
    },
    {
     "data": {
      "text/plain": [
       "<Figure size 1500x600 with 0 Axes>"
      ]
     },
     "metadata": {},
     "output_type": "display_data"
    },
    {
     "data": {
      "text/plain": [
       "<Figure size 1500x600 with 0 Axes>"
      ]
     },
     "metadata": {},
     "output_type": "display_data"
    },
    {
     "data": {
      "text/plain": [
       "<Figure size 1500x600 with 0 Axes>"
      ]
     },
     "metadata": {},
     "output_type": "display_data"
    },
    {
     "data": {
      "text/plain": [
       "<Figure size 1500x600 with 0 Axes>"
      ]
     },
     "metadata": {},
     "output_type": "display_data"
    },
    {
     "data": {
      "text/plain": [
       "<Figure size 1500x600 with 0 Axes>"
      ]
     },
     "metadata": {},
     "output_type": "display_data"
    },
    {
     "data": {
      "text/plain": [
       "<Figure size 1500x600 with 0 Axes>"
      ]
     },
     "metadata": {},
     "output_type": "display_data"
    },
    {
     "data": {
      "text/plain": [
       "<Figure size 1500x600 with 0 Axes>"
      ]
     },
     "metadata": {},
     "output_type": "display_data"
    },
    {
     "data": {
      "text/plain": [
       "<Figure size 1500x600 with 0 Axes>"
      ]
     },
     "metadata": {},
     "output_type": "display_data"
    },
    {
     "data": {
      "text/plain": [
       "<Figure size 1500x600 with 0 Axes>"
      ]
     },
     "metadata": {},
     "output_type": "display_data"
    },
    {
     "data": {
      "text/plain": [
       "<Figure size 1500x600 with 0 Axes>"
      ]
     },
     "metadata": {},
     "output_type": "display_data"
    },
    {
     "data": {
      "text/plain": [
       "<Figure size 1500x600 with 0 Axes>"
      ]
     },
     "metadata": {},
     "output_type": "display_data"
    },
    {
     "data": {
      "text/plain": [
       "<Figure size 1500x600 with 0 Axes>"
      ]
     },
     "metadata": {},
     "output_type": "display_data"
    },
    {
     "data": {
      "text/plain": [
       "<Figure size 1500x600 with 0 Axes>"
      ]
     },
     "metadata": {},
     "output_type": "display_data"
    },
    {
     "data": {
      "text/plain": [
       "<Figure size 1500x600 with 0 Axes>"
      ]
     },
     "metadata": {},
     "output_type": "display_data"
    },
    {
     "data": {
      "text/plain": [
       "<Figure size 1500x600 with 0 Axes>"
      ]
     },
     "metadata": {},
     "output_type": "display_data"
    },
    {
     "data": {
      "text/plain": [
       "<Figure size 1500x600 with 0 Axes>"
      ]
     },
     "metadata": {},
     "output_type": "display_data"
    },
    {
     "data": {
      "text/plain": [
       "<Figure size 1500x600 with 0 Axes>"
      ]
     },
     "metadata": {},
     "output_type": "display_data"
    },
    {
     "data": {
      "text/plain": [
       "<Figure size 1500x600 with 0 Axes>"
      ]
     },
     "metadata": {},
     "output_type": "display_data"
    },
    {
     "data": {
      "text/plain": [
       "<Figure size 1500x600 with 0 Axes>"
      ]
     },
     "metadata": {},
     "output_type": "display_data"
    },
    {
     "data": {
      "text/plain": [
       "<Figure size 1500x600 with 0 Axes>"
      ]
     },
     "metadata": {},
     "output_type": "display_data"
    },
    {
     "data": {
      "text/plain": [
       "<Figure size 1500x600 with 0 Axes>"
      ]
     },
     "metadata": {},
     "output_type": "display_data"
    },
    {
     "data": {
      "text/plain": [
       "<Figure size 1500x600 with 0 Axes>"
      ]
     },
     "metadata": {},
     "output_type": "display_data"
    },
    {
     "data": {
      "text/plain": [
       "<Figure size 1500x600 with 0 Axes>"
      ]
     },
     "metadata": {},
     "output_type": "display_data"
    },
    {
     "data": {
      "text/plain": [
       "<Figure size 1500x600 with 0 Axes>"
      ]
     },
     "metadata": {},
     "output_type": "display_data"
    },
    {
     "data": {
      "text/plain": [
       "<Figure size 1500x600 with 0 Axes>"
      ]
     },
     "metadata": {},
     "output_type": "display_data"
    },
    {
     "data": {
      "text/plain": [
       "<Figure size 1500x600 with 0 Axes>"
      ]
     },
     "metadata": {},
     "output_type": "display_data"
    },
    {
     "data": {
      "text/plain": [
       "<Figure size 1500x600 with 0 Axes>"
      ]
     },
     "metadata": {},
     "output_type": "display_data"
    },
    {
     "data": {
      "text/plain": [
       "<Figure size 1500x600 with 0 Axes>"
      ]
     },
     "metadata": {},
     "output_type": "display_data"
    },
    {
     "data": {
      "text/plain": [
       "<Figure size 1500x600 with 0 Axes>"
      ]
     },
     "metadata": {},
     "output_type": "display_data"
    },
    {
     "data": {
      "text/plain": [
       "<Figure size 1500x600 with 0 Axes>"
      ]
     },
     "metadata": {},
     "output_type": "display_data"
    },
    {
     "data": {
      "text/plain": [
       "<Figure size 1500x600 with 0 Axes>"
      ]
     },
     "metadata": {},
     "output_type": "display_data"
    },
    {
     "data": {
      "text/plain": [
       "<Figure size 1500x600 with 0 Axes>"
      ]
     },
     "metadata": {},
     "output_type": "display_data"
    },
    {
     "data": {
      "text/plain": [
       "<Figure size 1500x600 with 0 Axes>"
      ]
     },
     "metadata": {},
     "output_type": "display_data"
    },
    {
     "data": {
      "text/plain": [
       "<Figure size 1500x600 with 0 Axes>"
      ]
     },
     "metadata": {},
     "output_type": "display_data"
    },
    {
     "data": {
      "text/plain": [
       "<Figure size 1500x600 with 0 Axes>"
      ]
     },
     "metadata": {},
     "output_type": "display_data"
    },
    {
     "data": {
      "text/plain": [
       "<Figure size 1500x600 with 0 Axes>"
      ]
     },
     "metadata": {},
     "output_type": "display_data"
    },
    {
     "data": {
      "text/plain": [
       "<Figure size 1500x600 with 0 Axes>"
      ]
     },
     "metadata": {},
     "output_type": "display_data"
    },
    {
     "data": {
      "text/plain": [
       "<Figure size 1500x600 with 0 Axes>"
      ]
     },
     "metadata": {},
     "output_type": "display_data"
    },
    {
     "data": {
      "text/plain": [
       "<Figure size 1500x600 with 0 Axes>"
      ]
     },
     "metadata": {},
     "output_type": "display_data"
    },
    {
     "data": {
      "text/plain": [
       "<Figure size 1500x600 with 0 Axes>"
      ]
     },
     "metadata": {},
     "output_type": "display_data"
    },
    {
     "data": {
      "text/plain": [
       "<Figure size 1500x600 with 0 Axes>"
      ]
     },
     "metadata": {},
     "output_type": "display_data"
    },
    {
     "data": {
      "text/plain": [
       "<Figure size 1500x600 with 0 Axes>"
      ]
     },
     "metadata": {},
     "output_type": "display_data"
    },
    {
     "data": {
      "text/plain": [
       "<Figure size 1500x600 with 0 Axes>"
      ]
     },
     "metadata": {},
     "output_type": "display_data"
    },
    {
     "data": {
      "text/plain": [
       "<Figure size 1500x600 with 0 Axes>"
      ]
     },
     "metadata": {},
     "output_type": "display_data"
    },
    {
     "data": {
      "text/plain": [
       "<Figure size 1500x600 with 0 Axes>"
      ]
     },
     "metadata": {},
     "output_type": "display_data"
    },
    {
     "data": {
      "text/plain": [
       "<Figure size 1500x600 with 0 Axes>"
      ]
     },
     "metadata": {},
     "output_type": "display_data"
    },
    {
     "data": {
      "text/plain": [
       "<Figure size 1500x600 with 0 Axes>"
      ]
     },
     "metadata": {},
     "output_type": "display_data"
    },
    {
     "data": {
      "text/plain": [
       "<Figure size 1500x600 with 0 Axes>"
      ]
     },
     "metadata": {},
     "output_type": "display_data"
    },
    {
     "data": {
      "text/plain": [
       "<Figure size 1500x600 with 0 Axes>"
      ]
     },
     "metadata": {},
     "output_type": "display_data"
    },
    {
     "data": {
      "text/plain": [
       "<Figure size 1500x600 with 0 Axes>"
      ]
     },
     "metadata": {},
     "output_type": "display_data"
    },
    {
     "data": {
      "text/plain": [
       "<Figure size 1500x600 with 0 Axes>"
      ]
     },
     "metadata": {},
     "output_type": "display_data"
    },
    {
     "data": {
      "text/plain": [
       "<Figure size 1500x600 with 0 Axes>"
      ]
     },
     "metadata": {},
     "output_type": "display_data"
    },
    {
     "data": {
      "text/plain": [
       "<Figure size 1500x600 with 0 Axes>"
      ]
     },
     "metadata": {},
     "output_type": "display_data"
    },
    {
     "data": {
      "text/plain": [
       "<Figure size 1500x600 with 0 Axes>"
      ]
     },
     "metadata": {},
     "output_type": "display_data"
    },
    {
     "data": {
      "text/plain": [
       "<Figure size 1500x600 with 0 Axes>"
      ]
     },
     "metadata": {},
     "output_type": "display_data"
    },
    {
     "data": {
      "text/plain": [
       "<Figure size 1500x600 with 0 Axes>"
      ]
     },
     "metadata": {},
     "output_type": "display_data"
    },
    {
     "data": {
      "text/plain": [
       "<Figure size 1500x600 with 0 Axes>"
      ]
     },
     "metadata": {},
     "output_type": "display_data"
    },
    {
     "data": {
      "text/plain": [
       "<Figure size 1500x600 with 0 Axes>"
      ]
     },
     "metadata": {},
     "output_type": "display_data"
    },
    {
     "data": {
      "text/plain": [
       "<Figure size 1500x600 with 0 Axes>"
      ]
     },
     "metadata": {},
     "output_type": "display_data"
    },
    {
     "data": {
      "text/plain": [
       "<Figure size 1500x600 with 0 Axes>"
      ]
     },
     "metadata": {},
     "output_type": "display_data"
    },
    {
     "data": {
      "text/plain": [
       "<Figure size 1500x600 with 0 Axes>"
      ]
     },
     "metadata": {},
     "output_type": "display_data"
    }
   ],
   "source": [
    "details = 'fetch_desired'\n",
    "# chosen by the intersections of columns from 4 sites\n",
    "insitu_cols = [ 'date', 'H_F_MDS', 'LE_F_MDS', 'LW_IN_F', 'PA_F', 'P_F', 'SW_IN_F', 'TA_F', 'VPD_F', 'WS_F', 'NEE_VUT_USTAR50_DAY', 'RECO_DT_VUT_USTAR50', 'GPP_DT_VUT_USTAR50']\n",
    "\n",
    "for id in df['station id']:\n",
    "    site = df.loc[df['station id'] == id, 'site name'].iloc[0]\n",
    "    print(site)\n",
    "    sentinel = pd.read_csv(os.path.join(directory_sentinel,f\"{site}_Vegetation_indices_processed.csv\"))\n",
    "    insitu = pd.read_csv(os.path.join(directory_insitu,f\"ICOSETC_{id}_FLUXNET_DD_L2.csv\"))\n",
    "    insitu['TIMESTAMP'] = pd.to_datetime(insitu['TIMESTAMP'].astype(str), format='%Y%m%d')\n",
    "    insitu.rename(columns={'TIMESTAMP':'date'}, inplace=True)\n",
    "    sentinel ['date'] = pd.to_datetime(sentinel['date'])\n",
    "    merged_input, start, end = matching (sentinel, insitu[insitu_cols], df)\n",
    "    df1 = df.copy()\n",
    "    merged_input = additional_gobal(df1,merged_input)\n",
    "    # break\n",
    "    # print(merged_input.columns) \n",
    "    # df_trend, df_season, df_residual, df_all = decompose_df(df,site)\n",
    "    df_all = decompose_df(merged_input,site)\n",
    "    df_all.to_csv(os.path.join(directory_input,\"Preprocessed\",f\"{site}_preprocessed_{start.strftime('%d%m%Y')}_{end.strftime('%d%m%Y')}.csv\"))\n"
   ]
  },
  {
   "cell_type": "code",
   "execution_count": null,
   "metadata": {},
   "outputs": [],
   "source": []
  }
 ],
 "metadata": {
  "kernelspec": {
   "display_name": "environment_GPP_new_March2023",
   "language": "python",
   "name": "python3"
  },
  "language_info": {
   "codemirror_mode": {
    "name": "ipython",
    "version": 3
   },
   "file_extension": ".py",
   "mimetype": "text/x-python",
   "name": "python",
   "nbconvert_exporter": "python",
   "pygments_lexer": "ipython3",
   "version": "3.11.7"
  }
 },
 "nbformat": 4,
 "nbformat_minor": 2
}
