{
 "cells": [
  {
   "cell_type": "code",
   "execution_count": 2,
   "metadata": {},
   "outputs": [],
   "source": [
    "import deims"
   ]
  },
  {
   "cell_type": "code",
   "execution_count": 4,
   "metadata": {},
   "outputs": [],
   "source": [
    "df = deims.getSiteBoundaries(deims.getListOfSites(\"d45c2690-dbef-4dbc-a742-26ea846edf28\"),\"lter-austria\")\n",
    "deims.getSiteBoundaries([\"e26012b5-8a4f-4ad1-b20a-f6e615e27911\", \"b2015216-ac0a-433f-8044-8ba8c46cc6c9\"])"
   ]
  },
  {
   "cell_type": "code",
   "execution_count": 3,
   "metadata": {},
   "outputs": [
    {
     "data": {
      "text/plain": [
       "['8eda49e9-1f4e-4f3e-b58e-e0bb25dc32a6',\n",
       " 'd2e91d98-4970-4d71-8d76-d8164542b694',\n",
       " '11aff5a6-d464-40fa-b218-fcad8f57c81f',\n",
       " '09f126be-39db-4db8-af41-ac13cd12e8ea',\n",
       " '27da6893-2a06-4385-a935-901cb2bbdf70',\n",
       " 'f475dd9a-968f-4640-bac4-1eac12987e67',\n",
       " '6ae2f712-9924-4d9c-b7e1-3ddffb30b8f1',\n",
       " '6ba80086-3ecc-4dc6-ab2f-a225003f7ba4',\n",
       " 'ae28fcfd-a5b2-4550-9634-cc82b202b7b8',\n",
       " '11864430-034e-44c0-adb0-cc34c2ecd167',\n",
       " 'ca6bcf27-2196-4c33-b3ce-38ba6f720891',\n",
       " 'f904bf5e-60a5-4d0d-b8b9-6ca009fbcb9f',\n",
       " 'a919d22f-f4a0-4fcf-99f6-7666fbc2f2af',\n",
       " '86e3a1ca-b2ba-4b06-b096-71447df52841',\n",
       " 'ab29ef62-1962-4d13-b56b-2af609c8f688',\n",
       " '61c7af77-a7b3-4f2a-afae-1e5d6a2d91fd',\n",
       " 'e8bb84c0-280c-473e-902e-7d6c9055fb57',\n",
       " '28ed213d-b008-4e6e-9183-594e604bf481',\n",
       " 'd1a44a78-1cbd-4f30-977b-fb43ac696df4',\n",
       " '206e8225-005d-47c2-a4c4-bc766cf5380f',\n",
       " 'bb472a51-f85f-4de0-8358-f21ecbe2a102',\n",
       " '2e80048a-3b38-4a25-9764-bd7c3d2c6a7d',\n",
       " '0da4be08-87f8-41e2-a564-2cd2ccdb3da2',\n",
       " '580e2d1a-e45e-4b65-9962-1bdcc3d76ad3',\n",
       " 'f2dd51af-ad46-4710-bd5b-cac4b674b675',\n",
       " '8a313716-ceed-4f41-8b0b-a8197bfc304a',\n",
       " '4ac03ec3-39d9-4ca1-a925-b6c1ae80c90d',\n",
       " 'f62d66a0-20b0-44d8-bced-58da139e338a',\n",
       " '5b93dfb3-906b-4ff4-a5fe-9a4948bda9eb',\n",
       " 'b3ecdade-2c03-4ef2-85fe-e9c8f9e65a84',\n",
       " '49515dda-1198-4013-8f43-c33e107af081',\n",
       " '864da259-371e-4701-b72a-5295de28d6c6',\n",
       " 'd0a8da18-0881-4ebe-bccf-bc4cb4e25701',\n",
       " '1230b149-9ba5-4ab8-86c9-cf93120f8ae2',\n",
       " '8cf20f01-7aa1-418b-a613-a95ceeb350dd',\n",
       " 'a9edff72-e5d3-45f6-9cbe-c205ac27b534',\n",
       " '89cf2c05-a05b-4033-b7ac-1b24190dd88c',\n",
       " 'e26012b5-8a4f-4ad1-b20a-f6e615e27911',\n",
       " '3de1057c-a364-44f2-8a2a-350d21b58ea0',\n",
       " 'ed1f621f-d337-4a3c-9cf1-7be144fc556c',\n",
       " 'c0d491a2-3e5b-467a-9678-e0cac95a1df6',\n",
       " '02ee24e5-d25e-4aa6-b6a2-9d08a12992df',\n",
       " '77c127c4-2ebe-453b-b5af-61858ff02e31',\n",
       " 'a77445b9-6675-4ee1-b3a9-c0722996ef61',\n",
       " 'b2015216-ac0a-433f-8044-8ba8c46cc6c9',\n",
       " '324f92a3-5940-4790-9738-5aa21992511c',\n",
       " '85773d69-f94a-4305-a56f-67b6891a0a73',\n",
       " '177d5587-6892-4cad-9609-e917b9578ed6',\n",
       " '9d008e2a-5b49-4ffe-b73a-87da4ab8ee31',\n",
       " '5578e8f9-0f3d-4210-9ace-660c33f837f5',\n",
       " 'f3a6eebe-ae82-4fc6-a1ec-d9db723be139',\n",
       " '2862002a-7aa1-4732-9150-03bc9635002c',\n",
       " '676fa13a-c211-4efa-8ace-c6ce7fcbde66',\n",
       " '504dc9e9-3ea8-4ef8-9a00-b042fac11300',\n",
       " 'd6936d5d-e036-4b3d-bf3c-4a8702e82f1b',\n",
       " '18998d9a-7ff5-4e9d-a971-9694e0a4914d',\n",
       " 'fa0568cf-29f1-4ecd-be8d-543814ab74b1',\n",
       " '5c2dc483-1ad3-47a3-992c-d73d42301a74',\n",
       " '2e175779-b406-472b-a27b-a6cf0c94f4db',\n",
       " '4aa7c073-58ce-4b63-8aee-5b468c297438',\n",
       " '6b2bf40e-36e2-4aeb-b0ee-687222aa251a',\n",
       " 'efec8b4f-2154-4542-8e9b-7fa64bdce377',\n",
       " '8a0a9d3f-4d34-47f8-845e-6f089cd95354']"
      ]
     },
     "execution_count": 3,
     "metadata": {},
     "output_type": "execute_result"
    }
   ],
   "source": [
    "deims.getListOfSites(\"d45c2690-dbef-4dbc-a742-26ea846edf28\")"
   ]
  }
 ],
 "metadata": {
  "kernelspec": {
   "display_name": "Deltares_GPP",
   "language": "python",
   "name": "python3"
  },
  "language_info": {
   "codemirror_mode": {
    "name": "ipython",
    "version": 3
   },
   "file_extension": ".py",
   "mimetype": "text/x-python",
   "name": "python",
   "nbconvert_exporter": "python",
   "pygments_lexer": "ipython3",
   "version": "3.11.7"
  }
 },
 "nbformat": 4,
 "nbformat_minor": 2
}
