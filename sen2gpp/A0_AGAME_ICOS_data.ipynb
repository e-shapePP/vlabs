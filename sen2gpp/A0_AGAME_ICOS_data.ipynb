{
 "cells": [
  {
   "cell_type": "code",
   "execution_count": 1,
   "metadata": {},
   "outputs": [],
   "source": [
    "from icoscp.station import station\n",
    "# from icoscp_core.icos import auth\n",
    "# auth.init_config_file()\n",
    "from icoscp.dobj import Dobj"
   ]
  },
  {
   "cell_type": "code",
   "execution_count": 2,
   "metadata": {},
   "outputs": [],
   "source": [
    "df = station.getIdList(theme='ES')\n",
    "grassland_df = df[df['siteType'] == 'Grassland']"
   ]
  },
  {
   "cell_type": "code",
   "execution_count": 3,
   "metadata": {},
   "outputs": [
    {
     "name": "stderr",
     "output_type": "stream",
     "text": [
      "c:\\Users\\fuentesm\\AppData\\Local\\anaconda3\\envs\\Deltares_GPP\\Lib\\site-packages\\icoscp\\station\\station.py:587: FutureWarning: Calling float on a single element Series is deprecated and will raise a TypeError in the future. Use float(ser.iloc[0]) instead\n",
      "  my_stn.lat = float(stn.lat[stn.project.str.upper() == 'ICOS'])\n",
      "c:\\Users\\fuentesm\\AppData\\Local\\anaconda3\\envs\\Deltares_GPP\\Lib\\site-packages\\icoscp\\station\\station.py:589: FutureWarning: Calling float on a single element Series is deprecated and will raise a TypeError in the future. Use float(ser.iloc[0]) instead\n",
      "  my_stn.lon = float(stn.lon[stn.project.str.upper() == 'ICOS'])\n",
      "c:\\Users\\fuentesm\\AppData\\Local\\anaconda3\\envs\\Deltares_GPP\\Lib\\site-packages\\icoscp\\station\\station.py:591: FutureWarning: Calling float on a single element Series is deprecated and will raise a TypeError in the future. Use float(ser.iloc[0]) instead\n",
      "  my_stn.eas = float(stn.elevation[stn.project.str.upper() == 'ICOS'])\n"
     ]
    },
    {
     "data": {
      "text/plain": [
       "{'stationId': 'IT-Tor',\n",
       " 'name': 'Torgnon',\n",
       " 'theme': 'ES',\n",
       " 'icosclass': 'Associated',\n",
       " 'siteType': 'Grassland',\n",
       " 'lat': 45.84444,\n",
       " 'lon': 7.578055,\n",
       " 'eas': 2168.0,\n",
       " 'firstName': 'Marta',\n",
       " 'lastName': 'Galvagno',\n",
       " 'email': 'm.galvagno@arpa.vda.it',\n",
       " 'country': 'IT',\n",
       " 'project': ['ICOS'],\n",
       " 'uri': ['http://meta.icos-cp.eu/resources/stations/ES_IT-Tor']}"
      ]
     },
     "execution_count": 3,
     "metadata": {},
     "output_type": "execute_result"
    }
   ],
   "source": [
    "myStation = station.get('IT-Tor')\n",
    "myStation.info()\n",
    "# myStation.products()\n",
    "# myStation.data()\n",
    "# myStation.data(level=2)\n",
    "# myStation.data(2)['dobj'].values"
   ]
  },
  {
   "cell_type": "code",
   "execution_count": 30,
   "metadata": {},
   "outputs": [
    {
     "data": {
      "text/html": [
       "<div>\n",
       "<style scoped>\n",
       "    .dataframe tbody tr th:only-of-type {\n",
       "        vertical-align: middle;\n",
       "    }\n",
       "\n",
       "    .dataframe tbody tr th {\n",
       "        vertical-align: top;\n",
       "    }\n",
       "\n",
       "    .dataframe thead th {\n",
       "        text-align: right;\n",
       "    }\n",
       "</style>\n",
       "<table border=\"1\" class=\"dataframe\">\n",
       "  <thead>\n",
       "    <tr style=\"text-align: right;\">\n",
       "      <th></th>\n",
       "      <th>spec</th>\n",
       "      <th>datalevel</th>\n",
       "      <th>specLabel</th>\n",
       "      <th>station</th>\n",
       "      <th>dobj</th>\n",
       "      <th>timeStart</th>\n",
       "      <th>timeEnd</th>\n",
       "      <th>bytes</th>\n",
       "      <th>samplingheight</th>\n",
       "    </tr>\n",
       "  </thead>\n",
       "  <tbody>\n",
       "    <tr>\n",
       "      <th>0</th>\n",
       "      <td>http://meta.icos-cp.eu/resources/cpmeta/etcArc...</td>\n",
       "      <td>2</td>\n",
       "      <td>ETC L2 ARCHIVE</td>\n",
       "      <td>http://meta.icos-cp.eu/resources/stations/ES_I...</td>\n",
       "      <td>https://meta.icos-cp.eu/objects/CWH8vsTw39RLLk...</td>\n",
       "      <td>2015-12-31T23:00:00Z</td>\n",
       "      <td>2023-12-31T23:00:00Z</td>\n",
       "      <td>101622118</td>\n",
       "      <td></td>\n",
       "    </tr>\n",
       "    <tr>\n",
       "      <th>1</th>\n",
       "      <td>http://meta.icos-cp.eu/resources/cpmeta/miscFl...</td>\n",
       "      <td>2</td>\n",
       "      <td>Fluxnet Archive Product</td>\n",
       "      <td>http://meta.icos-cp.eu/resources/stations/ES_I...</td>\n",
       "      <td>https://meta.icos-cp.eu/objects/Z_2oXYGQMwWFrM...</td>\n",
       "      <td>2008-01-01T00:00:00Z</td>\n",
       "      <td>2021-01-01T00:00:00Z</td>\n",
       "      <td>129630271</td>\n",
       "      <td></td>\n",
       "    </tr>\n",
       "    <tr>\n",
       "      <th>2</th>\n",
       "      <td>http://meta.icos-cp.eu/resources/cpmeta/etcL2F...</td>\n",
       "      <td>2</td>\n",
       "      <td>ETC L2 Fluxes</td>\n",
       "      <td>http://meta.icos-cp.eu/resources/stations/ES_I...</td>\n",
       "      <td>https://meta.icos-cp.eu/objects/LRxId3yZSeD5Ie...</td>\n",
       "      <td>2015-12-31T23:00:00Z</td>\n",
       "      <td>2023-12-31T23:00:00Z</td>\n",
       "      <td>6852786</td>\n",
       "      <td></td>\n",
       "    </tr>\n",
       "    <tr>\n",
       "      <th>3</th>\n",
       "      <td>http://meta.icos-cp.eu/resources/cpmeta/etcL2M...</td>\n",
       "      <td>2</td>\n",
       "      <td>ETC L2 Meteosens</td>\n",
       "      <td>http://meta.icos-cp.eu/resources/stations/ES_I...</td>\n",
       "      <td>https://meta.icos-cp.eu/objects/3IhSwaHDbWGzp8...</td>\n",
       "      <td>2015-12-31T23:00:00Z</td>\n",
       "      <td>2023-12-31T23:00:00Z</td>\n",
       "      <td>10510155</td>\n",
       "      <td></td>\n",
       "    </tr>\n",
       "    <tr>\n",
       "      <th>4</th>\n",
       "      <td>http://meta.icos-cp.eu/resources/cpmeta/etcL2M...</td>\n",
       "      <td>2</td>\n",
       "      <td>ETC L2 Meteo</td>\n",
       "      <td>http://meta.icos-cp.eu/resources/stations/ES_I...</td>\n",
       "      <td>https://meta.icos-cp.eu/objects/tLcGhXXbqR3l1N...</td>\n",
       "      <td>2015-12-31T23:00:00Z</td>\n",
       "      <td>2023-12-31T23:00:00Z</td>\n",
       "      <td>10526354</td>\n",
       "      <td></td>\n",
       "    </tr>\n",
       "    <tr>\n",
       "      <th>5</th>\n",
       "      <td>http://meta.icos-cp.eu/resources/cpmeta/etcL2F...</td>\n",
       "      <td>2</td>\n",
       "      <td>ETC L2 Fluxnet (half-hourly)</td>\n",
       "      <td>http://meta.icos-cp.eu/resources/stations/ES_I...</td>\n",
       "      <td>https://meta.icos-cp.eu/objects/H8N0qCjhRm1VCJ...</td>\n",
       "      <td>2015-12-31T23:00:00Z</td>\n",
       "      <td>2023-12-31T23:00:00Z</td>\n",
       "      <td>68308363</td>\n",
       "      <td></td>\n",
       "    </tr>\n",
       "    <tr>\n",
       "      <th>6</th>\n",
       "      <td>http://meta.icos-cp.eu/resources/cpmeta/miscFl...</td>\n",
       "      <td>2</td>\n",
       "      <td>Fluxnet Product</td>\n",
       "      <td>http://meta.icos-cp.eu/resources/stations/ES_I...</td>\n",
       "      <td>https://meta.icos-cp.eu/objects/_1Jv1YcuE1tgPU...</td>\n",
       "      <td>2007-12-31T23:00:00Z</td>\n",
       "      <td>2020-12-31T23:00:00Z</td>\n",
       "      <td>112484354</td>\n",
       "      <td></td>\n",
       "    </tr>\n",
       "  </tbody>\n",
       "</table>\n",
       "</div>"
      ],
      "text/plain": [
       "                                                spec datalevel  \\\n",
       "0  http://meta.icos-cp.eu/resources/cpmeta/etcArc...         2   \n",
       "1  http://meta.icos-cp.eu/resources/cpmeta/miscFl...         2   \n",
       "2  http://meta.icos-cp.eu/resources/cpmeta/etcL2F...         2   \n",
       "3  http://meta.icos-cp.eu/resources/cpmeta/etcL2M...         2   \n",
       "4  http://meta.icos-cp.eu/resources/cpmeta/etcL2M...         2   \n",
       "5  http://meta.icos-cp.eu/resources/cpmeta/etcL2F...         2   \n",
       "6  http://meta.icos-cp.eu/resources/cpmeta/miscFl...         2   \n",
       "\n",
       "                      specLabel  \\\n",
       "0                ETC L2 ARCHIVE   \n",
       "1       Fluxnet Archive Product   \n",
       "2                 ETC L2 Fluxes   \n",
       "3              ETC L2 Meteosens   \n",
       "4                  ETC L2 Meteo   \n",
       "5  ETC L2 Fluxnet (half-hourly)   \n",
       "6               Fluxnet Product   \n",
       "\n",
       "                                             station  \\\n",
       "0  http://meta.icos-cp.eu/resources/stations/ES_I...   \n",
       "1  http://meta.icos-cp.eu/resources/stations/ES_I...   \n",
       "2  http://meta.icos-cp.eu/resources/stations/ES_I...   \n",
       "3  http://meta.icos-cp.eu/resources/stations/ES_I...   \n",
       "4  http://meta.icos-cp.eu/resources/stations/ES_I...   \n",
       "5  http://meta.icos-cp.eu/resources/stations/ES_I...   \n",
       "6  http://meta.icos-cp.eu/resources/stations/ES_I...   \n",
       "\n",
       "                                                dobj             timeStart  \\\n",
       "0  https://meta.icos-cp.eu/objects/CWH8vsTw39RLLk...  2015-12-31T23:00:00Z   \n",
       "1  https://meta.icos-cp.eu/objects/Z_2oXYGQMwWFrM...  2008-01-01T00:00:00Z   \n",
       "2  https://meta.icos-cp.eu/objects/LRxId3yZSeD5Ie...  2015-12-31T23:00:00Z   \n",
       "3  https://meta.icos-cp.eu/objects/3IhSwaHDbWGzp8...  2015-12-31T23:00:00Z   \n",
       "4  https://meta.icos-cp.eu/objects/tLcGhXXbqR3l1N...  2015-12-31T23:00:00Z   \n",
       "5  https://meta.icos-cp.eu/objects/H8N0qCjhRm1VCJ...  2015-12-31T23:00:00Z   \n",
       "6  https://meta.icos-cp.eu/objects/_1Jv1YcuE1tgPU...  2007-12-31T23:00:00Z   \n",
       "\n",
       "                timeEnd      bytes samplingheight  \n",
       "0  2023-12-31T23:00:00Z  101622118                 \n",
       "1  2021-01-01T00:00:00Z  129630271                 \n",
       "2  2023-12-31T23:00:00Z    6852786                 \n",
       "3  2023-12-31T23:00:00Z   10510155                 \n",
       "4  2023-12-31T23:00:00Z   10526354                 \n",
       "5  2023-12-31T23:00:00Z   68308363                 \n",
       "6  2020-12-31T23:00:00Z  112484354                 "
      ]
     },
     "execution_count": 30,
     "metadata": {},
     "output_type": "execute_result"
    }
   ],
   "source": [
    "myStation.data(2)"
   ]
  },
  {
   "cell_type": "code",
   "execution_count": 47,
   "metadata": {},
   "outputs": [
    {
     "data": {
      "text/plain": [
       "<icoscp.dobj.Dobj at 0x1a4763004d0>"
      ]
     },
     "execution_count": 47,
     "metadata": {},
     "output_type": "execute_result"
    }
   ],
   "source": [
    "dobj = Dobj(pid)\n",
    "dobj"
   ]
  },
  {
   "cell_type": "code",
   "execution_count": 52,
   "metadata": {},
   "outputs": [],
   "source": [
    "pid = 'https://meta.icos-cp.eu/objects/CWH8vsTw39RLLkfIJ5-fzunV'\n",
    "extracted_part = pid.split('/')[-1]\n",
    "download_url = 'https://data.icos-cp.eu/objects/' + extracted_part \n"
   ]
  },
  {
   "cell_type": "code",
   "execution_count": 59,
   "metadata": {},
   "outputs": [
    {
     "data": {
      "text/plain": [
       "'https://data.icos-cp.eu/objects/CWH8vsTw39RLLkfIJ5-fzunV'"
      ]
     },
     "execution_count": 59,
     "metadata": {},
     "output_type": "execute_result"
    }
   ],
   "source": [
    "download_url "
   ]
  }
 ],
 "metadata": {
  "kernelspec": {
   "display_name": "Deltares_GPP",
   "language": "python",
   "name": "python3"
  },
  "language_info": {
   "codemirror_mode": {
    "name": "ipython",
    "version": 3
   },
   "file_extension": ".py",
   "mimetype": "text/x-python",
   "name": "python",
   "nbconvert_exporter": "python",
   "pygments_lexer": "ipython3",
   "version": "3.11.7"
  }
 },
 "nbformat": 4,
 "nbformat_minor": 2
}
