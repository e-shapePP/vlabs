{
 "cells": [
  {
   "cell_type": "markdown",
   "metadata": {},
   "source": [
    "## AGAME Workflow. Get fetch data"
   ]
  },
  {
   "cell_type": "code",
   "execution_count": 1,
   "metadata": {},
   "outputs": [],
   "source": [
    "import os\n",
    "import pandas as pd\n",
    "import numpy as np"
   ]
  },
  {
   "cell_type": "code",
   "execution_count": 2,
   "metadata": {},
   "outputs": [],
   "source": [
    "data_directory = r'D:\\Proyectos2024\\Agame\\Input\\Flux_data\\ICOSETC'\n",
    "output_directory = r'D:\\Proyectos2024\\Agame\\Output\\Processed_tables'\n",
    "\n",
    "sites_table = pd.read_csv(os.path.join(output_directory,'sites_table_filtered.csv'))\n",
    "\n",
    "sites_table['FETCH_MAX'] = np.nan\n",
    "sites_table['FETCH_70'] = np.nan\n",
    "sites_table['FETCH_90'] = np.nan\n",
    "sites_table['canopy_height'] = np.nan\n",
    "sites_table['instrument_height'] = ''\n",
    "\n",
    "for index, row in sites_table.iterrows():\n",
    "    \n",
    "    id = row['sites_ids']\n",
    "    sites_folder = row['sites_folder']\n",
    "    print('Process for: ', id)\n",
    "\n",
    "    flux_file_path = os.path.join(data_directory,sites_folder,f\"ICOSETC_{id}_FLUXNET_DD_L2.csv\" )\n",
    "    insitu = pd.read_csv(flux_file_path, index_col='TIMESTAMP', parse_dates=['TIMESTAMP'])\n",
    "\n",
    "    fetch_file_path = os.path.join(data_directory,sites_folder,f\"ICOSETC_{id}_FLUXES_L2.csv\" )\n",
    "    fetch = pd.read_csv(fetch_file_path, index_col='TIMESTAMP_START', parse_dates=['TIMESTAMP_START'], na_values=-9999.0)\n",
    "\n",
    "    try:\n",
    "        sites_table.loc[index, 'FETCH_MAX'] = fetch.describe()['FETCH_MAX'].loc['50%']\n",
    "        sites_table.loc[index, 'FETCH_70'] = fetch.describe()['FETCH_70'].loc['50%']\n",
    "        sites_table.loc[index, 'FETCH_90'] = fetch.describe()['FETCH_90'].loc['50%']\n",
    "\n",
    "    except KeyError as e:\n",
    "        print(f\"KeyError: {e}. The key 'FETCH' does not exist for station {id}.\")\n",
    "\n",
    "    iheight_file_path = os.path.join(data_directory,sites_folder,f\"ICOSETC_{id}_VARINFO_FLUXNET_DD_L2.csv\" )\n",
    "    iheight = pd.read_csv(iheight_file_path)\n",
    "    filtered_df = iheight[iheight['DATAVALUE'] == 'GPP_DT_VUT_REF']\n",
    "    index_gpp = filtered_df.index.values.tolist()[0] \n",
    "    iheight = iheight[index_gpp:index_gpp+5]\n",
    "    iheight_value = iheight[iheight['VARIABLE'] == 'VAR_INFO_HEIGHT']\n",
    "    sites_table.loc[index, 'instrument_height'] = float(iheight_value['DATAVALUE'].values.tolist()[0])\n",
    "\n",
    "    cheight_file_path = os.path.join(data_directory,sites_folder,f\"ICOSETC_{id}_ANCILLARY_L2.csv\" )\n",
    "    cheight = pd.read_csv(cheight_file_path)\n",
    "    cheight = cheight[cheight['VARIABLE_GROUP'] == 'GRP_HEIGHTC']\n",
    "    cheight = cheight[cheight['VARIABLE'] == 'HEIGHTC']\n",
    "    cheight['DATAVALUE'] = cheight['DATAVALUE'].astype(float)\n",
    "    sites_table.loc[index, 'canopy_height'] = cheight.describe()['DATAVALUE'].loc['75%']\n",
    "    sites_table['buffer'] = 100 * (sites_table['instrument_height']-sites_table['canopy_height']*2/3) #Fetch to height ratio https://www.mdpi.com/2073-4433/10/6/299\n",
    "                                                                                                     #https://nicholas.duke.edu/people/faculty/katul/Matlab_footprint.html \n",
    "    sites_table['buffer_desired'] = sites_table['buffer'] / 3\n",
    "    sites_table['buffer_difference'] = sites_table['buffer_desired'] - sites_table['FETCH_90']\n",
    "\n",
    "    sites_table.to_csv(os.path.join(output_directory,'sites_table_fetch_data.csv'), index=False) "
   ]
  }
 ],
 "metadata": {
  "kernelspec": {
   "display_name": "Deltares_GPP",
   "language": "python",
   "name": "python3"
  },
  "language_info": {
   "codemirror_mode": {
    "name": "ipython",
    "version": 3
   },
   "file_extension": ".py",
   "mimetype": "text/x-python",
   "name": "python",
   "nbconvert_exporter": "python",
   "pygments_lexer": "ipython3",
   "version": "3.11.7"
  }
 },
 "nbformat": 4,
 "nbformat_minor": 2
}
